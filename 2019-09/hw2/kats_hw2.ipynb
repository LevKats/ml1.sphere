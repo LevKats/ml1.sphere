{
 "cells": [
  {
   "cell_type": "markdown",
   "metadata": {},
   "source": [
    "# Алгоритмы интеллектуальной обработки больших объемов данных\n",
    "## Домашнее задание №3: Линейные модели\n"
   ]
  },
  {
   "cell_type": "markdown",
   "metadata": {},
   "source": [
    "###### <hr\\>\n",
    "**Общая информация**\n",
    "\n",
    "**Срок сдачи:** 5 ноября 2019, 06:00 <br\\>\n",
    "**Штраф за опоздание:** -2 балла после 06:00 5 ноября, -4 балла после 06:00 12 ноября, -6 баллов после 06:00 19 ноября  -8 баллов после 06:00 26 ноября.\n",
    "\n",
    "При отправлении ДЗ указывайте фамилию в названии файла<br\\>\n",
    "\n",
    "Используйте данный Ipython Notebook при оформлении домашнего задания.\n",
    "\n",
    "**Штрафные баллы:**\n",
    "\n",
    "1. Невыполнение PEP8 -1 балл\n",
    "2. Отсутствие фамилии в имени скрипта (скрипт должен называться по аналогии со stroykova_hw2.ipynb) -1 балл\n",
    "3. Все строчки должны быть выполнены. Нужно, чтобы output команды можно было увидеть уже в git'е. В противном случае -1 балл\n",
    "4. При оформлении ДЗ нужно пользоваться данным файлом в качестве шаблона. Не нужно удалять и видоизменять написанный код и текст, если явно не указана такая возможность. В противном случае -1 балл\n",
    "<hr\\>"
   ]
  },
  {
   "cell_type": "code",
   "execution_count": 1,
   "metadata": {},
   "outputs": [],
   "source": [
    "import pandas as pd\n",
    "import numpy as np\n",
    "import matplotlib.pyplot as plt\n",
    "\n",
    "%matplotlib inline\n",
    "\n",
    "plt.style.use('ggplot')\n",
    "plt.rcParams['figure.figsize'] = (12,5)"
   ]
  },
  {
   "cell_type": "markdown",
   "metadata": {},
   "source": [
    "Здравствуйте, уважаемые студенты! \n",
    "\n",
    "В этом задании мы будем реализовать линейные модели. Необходимо реализовать линейную и логистическую регрессии с L2 регуляризацией"
   ]
  },
  {
   "cell_type": "markdown",
   "metadata": {},
   "source": [
    "# Теоретическое введение\n",
    "\n"
   ]
  },
  {
   "cell_type": "markdown",
   "metadata": {},
   "source": [
    "Линейная регрессия решает задачу регрессии и оптимизирует функцию потерь MSE \n",
    "\n",
    "$$L(w) =  \\frac{1}{N}\\left[\\sum_i (y_i - a_i) ^ 2 \\right], $$ где $y_i$ $-$ целевая функция,  $a_i = a(x_i) =  \\langle\\,x_i,w\\rangle ,$ $-$ предсказание алгоритма на объекте $x_i$, $w$ $-$ вектор весов (размерности $D$), $x_i$ $-$ вектор признаков (такой же размерности $D$).\n",
    "\n",
    "Не забываем, что здесь и далее  мы считаем, что в $x_i$ есть тождественный вектор единиц, ему соответствует вес $w_0$.\n"
   ]
  },
  {
   "cell_type": "markdown",
   "metadata": {},
   "source": [
    "Логистическая регрессия является линейным классификатором, который оптимизирует так называемый функционал log loss:"
   ]
  },
  {
   "cell_type": "markdown",
   "metadata": {},
   "source": [
    "$$L(w) = - \\frac{1}{N}\\left[\\sum_i y_i \\log a_i + ( 1 - y_i) \\log (1 - a_i) \\right],$$\n",
    "где  $y_i  \\in \\{0,1\\}$ $-$ метка класса, $a_i$ $-$ предсказание алгоритма на объекте $x_i$. Модель пытается предсказать апостериорую вероятность объекта принадлежать к классу \"1\":\n",
    "$$ p(y_i = 1 | x_i) = a(x_i) =  \\sigma( \\langle\\,x_i,w\\rangle ),$$\n",
    "$w$ $-$ вектор весов (размерности $D$), $x_i$ $-$ вектор признаков (такой же размерности $D$).\n",
    "\n",
    "Функция $\\sigma(x)$ $-$ нелинейная функция, пероводящее скалярное произведение объекта на веса в число $\\in (0,1)$ (мы же моделируем вероятность все-таки!)\n",
    "\n",
    "$$\\sigma(x) = \\frac{1}{1 + \\exp(-x)}$$\n",
    "\n",
    "Если внимательно посмотреть на функцию потерь, то можно заметить, что в зависимости от правильного ответа алгоритм штрафуется или функцией $-\\log a_i$, или функцией $-\\log (1 - a_i)$.\n",
    "\n"
   ]
  },
  {
   "cell_type": "markdown",
   "metadata": {},
   "source": [
    "Часто для решения проблем, которые так или иначе связаны с проблемой переобучения, в функционал качества добавляют слагаемое, которое называют ***регуляризацией***. Итоговый функционал для линейной регрессии тогда принимает вид:\n",
    "\n",
    "$$L(w) =  \\frac{1}{N}\\left[\\sum_i (y_i - a_i) ^ 2 \\right] + \\frac{1}{C}R(w) $$\n",
    "\n",
    "Для логистической: \n",
    "$$L(w) = - \\frac{1}{N}\\left[\\sum_i y_i \\log a_i + ( 1 - y_i) \\log (1 - a_i) \\right] +  \\frac{1}{C}R(w)$$\n",
    "\n",
    "Самое понятие регуляризации введено основателем ВМК академиком Тихоновым https://ru.wikipedia.org/wiki/Метод_регуляризации_Тихонова\n",
    "\n",
    "Идейно методика регуляризации заключается в следующем $-$ мы рассматриваем некорректно поставленную задачу (что это такое можно найти в интернете), для того чтобы сузить набор различных вариантов (лучшие из которых будут являться переобучением ) мы вводим дополнительные ограничения на множество искомых решений. На лекции Вы уже рассмотрели два варианта регуляризации.\n",
    "\n",
    "$L1$ регуляризация:\n",
    "$$R(w) = \\sum_{j=1}^{D}|w_j|$$\n",
    "$L2$ регуляризация:\n",
    "$$R(w) =  \\sum_{j=1}^{D}w_j^2$$\n",
    "\n",
    "С их помощью мы ограничиваем модель в  возможности выбора каких угодно весов минимизирующих наш лосс, модель уже не сможет подстроиться под данные как ей угодно. \n",
    "\n",
    "Вам нужно добавить соотвествущую Вашему варианту $L2$ регуляризацию.\n",
    "\n",
    "И так, мы поняли, какую функцию ошибки будем минимизировать, разобрались, как получить предсказания по объекту и обученным весам. Осталось разобраться, как получить оптимальные веса. Для этого нужно выбрать какой-то метод оптимизации.\n",
    "\n"
   ]
  },
  {
   "cell_type": "markdown",
   "metadata": {},
   "source": [
    "Градиентный спуск является самым популярным алгоритмом обучения линейных моделей. В этом задании Вам предложат реализовать стохастический градиентный спуск или  мини-батч градиентный спуск (мини-батч на русский язык довольно сложно перевести, многие переводят это как \"пакетный\", но мне не кажется этот перевод удачным). Далее нам потребуется определение **эпохи**.\n",
    "Эпохой в SGD и MB-GD называется один проход по **всем** объектам в обучающей выборки.\n",
    "* В SGD градиент расчитывается по одному случайному объекту. Сам алгоритм выглядит примерно так:\n",
    "        1) Перемешать выборку\n",
    "        2) Посчитать градиент функции потерь на одном объекте (далее один объект тоже будем называть батчем)\n",
    "        3) Сделать шаг спуска\n",
    "        4) Повторять 2) и 3) пока не пройдет максимальное число эпох.\n",
    "* В Mini Batch SGD - по подвыборке объектов. Сам алгоритм выглядит примерно так::\n",
    "        1) Перемешать выборку, выбрать размер мини-батча (от 1 до размера выборки)\n",
    "        2) Почитать градиент функции потерь по мини-батчу (не забыть поделить на  число объектов в мини-батче)\n",
    "        3) Сделать шаг спуска\n",
    "        4) Повторять 2) и 3) пока не пройдет максимальное число эпох.\n",
    "* Для отладки алгоритма реализуйте возможность  вывода средней ошибки на обучении модели по объектам (мини-батчам). После шага градиентного спуска посчитайте значение ошибки на объекте (или мини-батче), а затем усредните, например, по ста шагам. Если обучение проходит корректно, то мы должны увидеть, что каждые 100 шагов функция потерь уменьшается. \n",
    "* Правило останова - максимальное количество эпох\n",
    "    \n"
   ]
  },
  {
   "cell_type": "markdown",
   "metadata": {},
   "source": [
    "# Теоретические вопросы (2 балла)\n",
    "В этой части Вам будут предложены теоретичские вопросы и задачи по теме. Вы, конечно, можете списать их у своего товарища или найти решение в интернете, но учтите, что они обязательно войдут в теоретический коллоквиум. Лучше разобраться в теме сейчас и успешно ответить на коллоквиуме, чем списать, не разобравшись в материале, и быть терзаемым совестью. \n",
    "\n",
    "\n",
    "Формулы надо оформлять в формате **LaTeX**."
   ]
  },
  {
   "cell_type": "markdown",
   "metadata": {},
   "source": [
    "Задача 1. Градиент для линейной регрессии.\n",
    "* Выпишите формулу обновления весов для линейной регрессии с L2 регуляризацией для мини-батч градиентого спуска размера $n$:\n",
    "\n",
    "$$ w_{new} = w_{old} - ... $$\n",
    "\n",
    " Отнеситесь к этому пункту максимально серьезно, это Вам нужно будет реализовать в задании.\n",
    " \n",
    "Проанализруйте итоговую формулу градиента - как  интуитивно можно  описать, чему равен градиент?"
   ]
  },
  {
   "cell_type": "markdown",
   "metadata": {},
   "source": [
    "***Ваше решение здесь***\n",
    "\n",
    "Общие формулы для градиентного спуска:\n",
    "\n",
    "\\begin{equation} \\label{eq1}\n",
    "\\begin{split}\n",
    "w_{new} & = w_{old} - \\alpha \\nabla_w L\\:(w_{old}) \\\\\n",
    " \\alpha & = f\\:(k) \\\\\n",
    " f\\:(k) & = \\alpha_0\n",
    "\\end{split}\n",
    "\\end{equation}\n",
    "\n",
    "Пусть $X$ &mdash; наш батч из $N$ строк объектов нашей обучающей выборки, $y$ &mdash; столбец соответствующих им значений целевой переменной.\n",
    "\n",
    "Тогда перепишем $L(w)$:\n",
    "\n",
    "$$L(w) = \\frac{1}{N}\\left(X\\cdot w - y\\right) \\cdot \\left(X\\cdot w - y\\right)^T + \\frac{1}{C} w^T \\cdot w$$\n",
    "\n",
    "Тогда, воспользовавшись двумя правилами векторного дифференцирования из лекции, получаем:\n",
    "\n",
    "$$ \\nabla_w L\\:(w) = \\frac{2}{N} X^T \\left( X \\cdot w - y \\right) + \\frac{2}{C} w$$\n",
    "\n",
    "Таким образом\n",
    "\n",
    "$$w_{new} = w_{old} - \\frac{2\\alpha}{N} X^T (X \\cdot w_{old} - y) - \\frac{2\\alpha}{C} w_{old}$$"
   ]
  },
  {
   "cell_type": "markdown",
   "metadata": {},
   "source": [
    "Задача 2. Градиент для логистической регрессии.\n",
    "* Выпишите формулу обновления весов для логистической регрессии с L2 регуляризацией  для мини-батч градиентого спуска размера $n$:\n",
    "\n",
    "$$ w_{new} = w_{old} - ... $$\n",
    "\n",
    " Отнеситесь к этому пункту максимально серьезно, это Вам нужно будет реализовать в задании.\n",
    " \n",
    "Проанализруйте итоговую формулу градиента - как  интуитивно можно  описать, чему равен градиент? Как соотносится этот градиент с градиентом, возникающий в задаче линейной регрессии?\n",
    "\n",
    "Подсказка: Вам градиент, которой получается если “в лоб” продифференцировать,  надо немного преобразовать.\n",
    "Надо подставить, что $1 - \\sigma(w,x) $ это  $1 - a(x_i)$, а  $-\\sigma(w,x)$ это $0 - a(x_i)$.  Тогда получится свести к одной красивой формуле с линейной регрессией, которую программировать будет намного проще."
   ]
  },
  {
   "cell_type": "markdown",
   "metadata": {},
   "source": [
    "***Ваше решение здесь***\n",
    "\n",
    "Воспользуемся двумя относительно очевидными утверждениями\n",
    "\n",
    "\\begin{equation}\n",
    "\\begin{split}\n",
    "\\nabla_r \\left\\langle c,\\: r \\right\\rangle & = \\nabla_r \\left\\langle r,\\: c \\right\\rangle = c \\\\\n",
    "\\nabla_r f(g(r)) & = \\left.\\frac{df}{dx}\\right\\vert_{x=g(r)} \\cdot \\nabla_r g(r)\n",
    "\\end{split}\n",
    "\\end{equation}\n",
    "\n",
    "Пусть $L_i$ &mdash; потеря на $i$ - м объекте. Тогда:\n",
    "\n",
    "$$L_i\\:(w) = - y_i \\log a_i - (1 - y_i) \\log (1 - a_i) = -y_i \\log \\sigma(t_i) - (1 - y_i) \\log (1 - \\sigma(t_i)) =: f(t_i)$$\n",
    "\n",
    "Тогда найдем градиент функции потерь на $i$ - м объекте:\n",
    "\n",
    "$$\\nabla_w L_i\\:(w) = \\frac{df}{dt_i} \\cdot \\nabla_w t_i = \\frac{df}{dt_i} \\cdot x_i$$ \n",
    "\n",
    "Найдем производную $f$:\n",
    "\n",
    "$$\\frac{df}{dt_i} = -\\frac{(y_i - 1)\\exp(t_i) + y_i}{1 + \\exp(t_i)} = -\\frac{(y_i - 1) + y_i \\exp(-t_i)}{1 + \\exp(-t_i)} = \n",
    "-\\left[(y_i - 1)\\sigma(t_i) + y_i \\exp(-t_i) \\sigma(t_i)\\right] = -\\left[(y_i - 1)\\sigma(t_i) + y_i(1 - \\sigma(t_i))\\right] = \\sigma(t_i) - y_i$$\n",
    "\n",
    "Теперь найдем градиент $L\\:(w)$:\n",
    "\n",
    "$$\\nabla_w L\\:(w) = -\\frac{1}{N}\\left[\\sum_i (y_i - \\sigma(\\left\\langle x_i,\\: w \\right\\rangle)) \\: x_i \\right] + \\frac{2}{C} w$$\n",
    "\n",
    "Определим $S(r)$:\n",
    "\n",
    "\\begin{equation}\n",
    "\\begin{split}\n",
    "r & := \\left(r_1, ..., r_n\\right)^T \\\\\n",
    "S\\: (r) & := \\left(\\sigma(r_1), ..., \\sigma(r_n)\\right)^T\n",
    "\\end{split}\n",
    "\\end{equation}\n",
    "\n",
    "Тогда градиент перепишется в следующем виде:\n",
    "\n",
    "$$\\nabla_w L\\:(w) = \\frac{1}{N} X^T \\cdot (S\\:(X \\cdot w) - y) + \\frac{2}{C} w$$\n",
    "\n",
    "А это довольно сильно напоминает формулу для линейной регрессии\n",
    "\n",
    "$$w_{new} = w_{old} - \\frac{\\alpha}{N} X^T \\cdot (S\\:(X \\cdot w_{old}) - y) - \\frac{2\\alpha}{C} w_{old}$$"
   ]
  },
  {
   "cell_type": "markdown",
   "metadata": {},
   "source": [
    "Задача 3. Точное решение линейной регрессии\n",
    "\n",
    "На лекции было показано, что точное решение линейной регрессии имеет вид $w = (X^TX)^{-1}X^TY $. \n",
    "* Покажите, что это действительно является точкой минимума в случае, если матрица X имеет строк не меньше, чем столбцов и имеет полный ранг. Подсказка: посчитайте Гессиан и покажите, что в этом случае он положительно определен. \n",
    "* Выпишите точное решение для модели с $L2$ регуляризацией. Как L2 регуляризация помогает с точным решением где матрица X имеет линейно зависимые признаки?"
   ]
  },
  {
   "cell_type": "markdown",
   "metadata": {},
   "source": [
    "***Ваше решение здесь***\n",
    "\n",
    "1) Чтобы посчитать Гессиан функции потерь, нам потребуются все ее вторые частные производные. Введем функцию $K\\:(w)$ и заметим ее важное свойство:\n",
    "\n",
    "\\begin{equation}\n",
    "\\begin{split}\n",
    "K\\:(w)  :=& \\frac{1}{N} \\sum_i \\left\\langle x_i,\\: w \\right\\rangle^2 \\\\\n",
    "\\frac{\\partial\\,^2 K}{\\partial w_i \\partial w_j} =& \\frac{\\partial\\,^2 L}{\\partial w_i \\partial w_j} \n",
    "\\end{split}\n",
    "\\end{equation}\n",
    "\n",
    "Посчитаем первые и вторые частные производные функции $K\\:(w)$ ($x^i$ &mdash; $i$-й столбец матрицы $X$, $x_{i,j}$ &mdash; $j$-й элемент $i$-й строки матрицы):\n",
    "\n",
    "\\begin{equation}\n",
    "\\begin{split}\n",
    "\\frac{\\partial K}{\\partial w_i} &= \\frac{1}{N} \\sum_k x_{k,i} \\cdot 2 \\left\\langle x_k,\\: w \\right\\rangle \\\\\n",
    "\\frac{\\partial\\,^2 K}{\\partial w_i \\partial w_j} &= \\frac{2}{N} \\sum_k x_{k,i} \\cdot x_{k, j} = \\frac{2}{N} \\left\\langle x^i,\\: x^j \\right\\rangle\n",
    "\\end{split}\n",
    "\\end{equation}\n",
    "\n",
    "Таким образом, Гессиан получился очень похож на матрицу Грама, образованной столбцами $X$.\n",
    "\n",
    "$$H\\:(L) = \\frac{2}{N} G\\:(x^1, \\:..., x^m)$$\n",
    "\n",
    "Поскольку столбцы по условию линейно независимы, матрица Грама положительно определена:\n",
    "\n",
    "$$(v_1, ..., v_m) \\cdot G\\:(x^1, \\:..., x^m) \\cdot (v_1, ..., v_m)^T = (v_1 x^1 + ... + v_m x^m)^2 > 0, \\: \\left\\Vert v \\right\\Vert \\ne 0$$\n",
    "\n",
    "Это значит, что мы нашли именно минимум.\n",
    "\n",
    "2) Найдем теперь точное решение линейной регрессии с L2 регуляризацией. Для этого приравняем полученный ранее градиент к нулю, чтобы найти точку возможного минимума:\n",
    "\n",
    "$$0 = \\nabla_w L\\:(w) = \\frac{2}{N} X^T \\left( X \\cdot w - y \\right) + \\frac{2}{C} w = \\left(\\frac{2}{N} X^T X + \\frac{2}{C}I\\right) w - \\frac{2}{N} X^T y$$\n",
    "\n",
    "Таким образом\n",
    "\n",
    "$$w = \\left(X^T X + \\frac{N}{C}I\\right)^{-1} X^T y = \\left(X^T X + \\lambda I\\right)^{-1} X^T y $$\n",
    "\n",
    "Распишем Гессиан, используя знания из 1:\n",
    "\n",
    "$$H\\:(L) = \\frac{2}{N} G\\:(x^1, ..., x^m) + \\frac{2}{C} I = \\frac{2}{N} X^T X + \\frac{2}{C} I = \\frac{2}{N} \\left( X^T X + \\lambda I \\right)$$\n",
    "\n",
    "Поскольку в любом случае (если столбцы не являются линейно независимыми) первое слагаемое &mdash; квазизнакоположительная квадратичная форма, а второе &mdash; положительно определенная из-за $C > 0$, это положительно определенная квадратичная форма. Также точное решение можно считать по формуле, поскольку матрица становится обратимой. \n"
   ]
  },
  {
   "cell_type": "markdown",
   "metadata": {},
   "source": [
    "Задача 4.  Предсказываем вероятности.\n",
    "\n",
    "Когда говорят о логистической регрессии, произносят фразу, что она \"предсказывает вероятности положительного класса\". Давайте разберемся, что же за этим стоит. Посчитаем математическое ожидание функции потерь и проверим, что предсказание алгоритма, оптимизирующее это мат. ожидание, будет являться вероятностью положительного класса. \n",
    "\n",
    "И так, функция потерь на объекте $x_i$, который имеет метку $y_i \\in \\{0,1\\}$  для предсказания $a(x_i)$ равна:\n",
    "$$L(y_i, b) =-[y_i == 1] \\log a(x_i)  - [y_i == 0] \\log(1 - a(x_i)) $$\n",
    "\n",
    "Где $[]$ означает индикатор $-$ он равен единице, если значение внутри него истинно, иначе он равен нулю. Тогда мат. ожидание при условии конкретного $x_i$  по определение мат. ожидания дискретной случайной величины:\n",
    "$$E(L | x_i) = -p(y_i = 1 |x_i ) \\log a(x_i)  - p(y_i = 0 | x_i) \\log( 1 - a(x_i))$$\n",
    "* Докажите, что значение $a(x_i)$, минимизирующее данное мат. ожидание, в точности равно $p(y_i = 1 |x_i)$, то есть равно вероятности положительного класса.\n",
    "\n",
    "Подсказка: возможно, придется воспользоваться, что  $p(y_i = 1 | x_i) + p(y_i = 0 | x_i) = 1$"
   ]
  },
  {
   "cell_type": "markdown",
   "metadata": {},
   "source": [
    "***Ваше решение здесь***\n",
    "\n",
    "Вверем обозначения:\n",
    "\n",
    "$$p := p(y_i = 1 |x_i),\\: a := a(x_i)$$.\n",
    "\n",
    "Тогда матожидание перепишется в следующем виде:\n",
    "\n",
    "$$E(L | x_i) = -p \\log a - (1 - p) \\log(1 - a)$$.\n",
    "\n",
    "Возьмем от него первую и вторую производные по $a$:\n",
    "\n",
    "\\begin{equation}\n",
    "\\begin{split}\n",
    " \\frac{dE}{da} &= \\frac{1 - p}{1 - a} - \\frac{p}{a}\\\\\n",
    " \\frac{d^2 E}{da^2} &= \\frac{1 - p}{(1 - a)^2} + \\frac{p}{a^2}\n",
    "\\end{split}\n",
    "\\end{equation}\n",
    "\n",
    "Приравняв первую производную к нулю, получим точку возможного экстремума:\n",
    "\n",
    "$$\\frac{1 - p}{1 - a} = \\frac{p}{a} \\Longrightarrow (1 - p)a = p (1 - a) \\Longrightarrow a - pa = p - pa \\Longrightarrow a = p$$\n",
    "\n",
    "Убедимся, что это именно минимум, подставив $a = p$ во вторую производную:\n",
    "\n",
    "$$\\frac{1 - p}{(1 - a)^2} + \\frac{p}{a^2} = \\frac{1 - p}{(1 - p)^2} + \\frac{p}{p^2} = \\frac{1}{p} + \\frac{1}{1 - p} > 0$$\n"
   ]
  },
  {
   "cell_type": "markdown",
   "metadata": {},
   "source": [
    "Задача 5.  Смысл регуляризации.\n",
    "\n",
    "Нужно ли в L1/L2 регуляризации использовать свободный член $w_0$ (который не умножается ни на какой признак)?\n",
    "\n",
    "Подсказка: подумайте, для чего мы вводим $w_0$"
   ]
  },
  {
   "cell_type": "markdown",
   "metadata": {},
   "source": [
    "***Ваше решение здесь***\n",
    "\n",
    "Нет, не нужно. А если и нужно, то только в тех задачах, где нам зачем-то нужно, чтобы наша функция не должна была бы удаляться от начала координат или наоборот должна была бы не проходить через него.\n",
    "\n",
    "* Свободный коэффициент $w_0$, который также называется \"intercept term\" должен отсутствовать в ridge-регрессии в слагаемом, которое штрафует за норму. Во-первых, обычно это так по определению, а, во-вторых это так, поскольку если бы он там присутствовал, задача зависела бы от того, как выбрано начало координат. Также $w_0$ не отвечает за \"форму\" нашего алгоритма, странно за него штрафовать.\n",
    "\n",
    "* В случае L1 регуляризации мы бы также заметили зануление коэффициентов либо $w_0$, либо какого-то другого важного коэффициента без особого на то основания. \n",
    "\n",
    "<img src=\"images/task5.png\">"
   ]
  },
  {
   "cell_type": "markdown",
   "metadata": {},
   "source": [
    "#  Реализация линейной модели (5 баллов)"
   ]
  },
  {
   "cell_type": "markdown",
   "metadata": {},
   "source": [
    "## Зачем нужны батчи?\n"
   ]
  },
  {
   "cell_type": "markdown",
   "metadata": {},
   "source": [
    "Как Вы могли заметить из теоретического введения, что в случае SGD, что в случа mini-batch GD,  на каждой итерации обновление весов  происходит только по небольшой части данных (1 пример в случае SGD, batch примеров в случае mini-batch). То есть для каждой итерации нам *** не нужна вся выборка***. Мы можем просто итерироваться по выборке, беря батч нужного размера (далее 1 объект тоже будем называть батчом).\n",
    "\n",
    "Легко заметить, что в этом случае нам не нужно загружать все данные в оперативную память, достаточно просто считать батч с диска, обновить веса, считать диска другой батч и так далее. В целях упрощения домашней работы, прямо с диска  мы считывать не будем, будем работать с обычными numpy array. \n",
    "\n",
    "\n",
    "\n"
   ]
  },
  {
   "cell_type": "markdown",
   "metadata": {},
   "source": [
    "## Немножко про генераторы в Python\n",
    "\n"
   ]
  },
  {
   "cell_type": "markdown",
   "metadata": {},
   "source": [
    "Идея считывания данных кусками удачно ложится на так называемые ***генераторы*** из языка Python. В данной работе Вам предлагается не только разобраться с логистической регрессией, но  и познакомиться с таким важным элементом языка.  При желании Вы можете убрать весь код, связанный с генераторами, и реализовать логистическую регрессию и без них, ***штрафоваться это никак не будет***. Главное, чтобы сама модель была реализована правильно, и все пункты были выполнены. \n",
    "\n",
    "Подробнее можно почитать вот тут https://anandology.com/python-practice-book/iterators.html\n"
   ]
  },
  {
   "cell_type": "markdown",
   "metadata": {},
   "source": [
    "К генератору стоит относиться просто как к функции, которая порождает не один объект, а целую последовательность объектов. Новое значение из последовательности генерируется с помощью ключевого слова ***yield***. Ниже Вы можете насладиться  генератором чисел Фибоначчи."
   ]
  },
  {
   "cell_type": "code",
   "execution_count": 2,
   "metadata": {},
   "outputs": [],
   "source": [
    "def fib(max_iter=4):\n",
    "    a, b = 0, 1\n",
    "    iter_num = 0\n",
    "    while 1:\n",
    "        yield a\n",
    "        a, b = b, a + b\n",
    "        iter_num += 1\n",
    "        if iter_num == max_iter:\n",
    "            break"
   ]
  },
  {
   "cell_type": "markdown",
   "metadata": {},
   "source": [
    "Вот так можно сгенерировать последовательность Фибоначчи. \n",
    "\n",
    "Заметьте, что к генераторам можно применять некоторые стандартные функции из Python, например enumerate."
   ]
  },
  {
   "cell_type": "code",
   "execution_count": 3,
   "metadata": {},
   "outputs": [
    {
     "name": "stdout",
     "output_type": "stream",
     "text": [
      "Fib num: 0 fib values: 0\n",
      "Fib num: 1 fib values: 1\n",
      "Fib num: 2 fib values: 1\n",
      "Fib num: 3 fib values: 2\n"
     ]
    }
   ],
   "source": [
    "new_generator = fib()\n",
    "for j, fib_val in enumerate(new_generator):\n",
    "    print (\"Fib num: \" + str(j) + \" fib values: \" + str(fib_val))"
   ]
  },
  {
   "cell_type": "markdown",
   "metadata": {},
   "source": [
    "Пересоздавая объект, можно сколько угодно раз генерировать заново последовательность. "
   ]
  },
  {
   "cell_type": "code",
   "execution_count": 4,
   "metadata": {},
   "outputs": [
    {
     "name": "stdout",
     "output_type": "stream",
     "text": [
      "Fib num: 0 fib values: 0\n",
      "Fib num: 1 fib values: 1\n",
      "Fib num: 2 fib values: 1\n",
      "Fib num: 3 fib values: 2\n",
      "Fib num: 0 fib values: 0\n",
      "Fib num: 1 fib values: 1\n",
      "Fib num: 2 fib values: 1\n",
      "Fib num: 3 fib values: 2\n",
      "Fib num: 0 fib values: 0\n",
      "Fib num: 1 fib values: 1\n",
      "Fib num: 2 fib values: 1\n",
      "Fib num: 3 fib values: 2\n"
     ]
    }
   ],
   "source": [
    "for i in range(0, 3):\n",
    "    new_generator = fib()\n",
    "    for j, fib_val in enumerate(new_generator):\n",
    "        print (\"Fib num: \" + str(j) + \" fib values: \" + str(fib_val))"
   ]
  },
  {
   "cell_type": "markdown",
   "metadata": {},
   "source": [
    "А вот так уже нельзя."
   ]
  },
  {
   "cell_type": "code",
   "execution_count": 5,
   "metadata": {},
   "outputs": [
    {
     "name": "stdout",
     "output_type": "stream",
     "text": [
      "Fib num: 0 fib values: 0\n",
      "Fib num: 1 fib values: 1\n",
      "Fib num: 2 fib values: 1\n",
      "Fib num: 3 fib values: 2\n"
     ]
    }
   ],
   "source": [
    "new_generator = fib()\n",
    "for i in range(0, 3):\n",
    "    for j, fib_val in enumerate(new_generator):\n",
    "        print (\"Fib num: \" + str(j) + \" fib values: \" + str(fib_val))"
   ]
  },
  {
   "cell_type": "markdown",
   "metadata": {},
   "source": [
    "Концепция крайне удобная для обучения  моделей $-$ у Вас есть некий источник данных, который Вам выдает их кусками, и Вам совершенно все равно откуда он их берет. Под ним может скрывать как массив в оперативной памяти, как файл на жестком диске, так и SQL база данных. Вы сами данные никуда не сохраняете, оперативную память экономите."
   ]
  },
  {
   "cell_type": "markdown",
   "metadata": {},
   "source": [
    "Если Вам понравилась идея с генераторами, то Вы можете реализовать свой, используя прототип batch_generator. В нем Вам нужно выдавать батчи признаков и ответов для каждой новой итерации спуска. Если не понравилась идея, то можете реализовывать SGD или mini-batch GD без генераторов."
   ]
  },
  {
   "cell_type": "code",
   "execution_count": 6,
   "metadata": {},
   "outputs": [],
   "source": [
    "from sklearn.utils import shuffle as shuffler"
   ]
  },
  {
   "cell_type": "code",
   "execution_count": 7,
   "metadata": {},
   "outputs": [],
   "source": [
    "def batch_generator(X, y, shuffle=True, batch_size=1):\n",
    "    \"\"\"\n",
    "    Гератор новых батчей для обучения\n",
    "    X          - матрица объекты-признаки\n",
    "    y_batch    - вектор ответов\n",
    "    shuffle    - нужно ли случайно перемешивать выборку\n",
    "    batch_size - размер батча ( 1 это SGD, > 1 mini-batch GD)\n",
    "    Генерирует подвыборку для итерации спуска (X_batch, y_batch)\n",
    "    \"\"\"\n",
    "    assert X.shape[0] == y.shape[0], \"array sizes must be equal\"\n",
    "    n_samples = X.shape[0]\n",
    "    \n",
    "    if shuffle:\n",
    "        X, y = shuffler(X, y, random_state=None)\n",
    "    \n",
    "    for i in range(0, n_samples, batch_size):\n",
    "        if n_samples - i >= batch_size:\n",
    "            X_batch = X[i: i + batch_size:]\n",
    "            y_batch = y[i: i + batch_size:]\n",
    "            yield (X_batch, y_batch)\n",
    "\n",
    "# Теперь можно сделать генератор по данным ()\n",
    "#  my_batch_generator = batch_generator(X, y, shuffle=True, batch_size=1):"
   ]
  },
  {
   "cell_type": "code",
   "execution_count": 8,
   "metadata": {},
   "outputs": [],
   "source": [
    "from sklearn.base import BaseEstimator, ClassifierMixin"
   ]
  },
  {
   "cell_type": "code",
   "execution_count": 9,
   "metadata": {},
   "outputs": [],
   "source": [
    "%load_ext pycodestyle_magic"
   ]
  },
  {
   "cell_type": "code",
   "execution_count": 10,
   "metadata": {},
   "outputs": [],
   "source": [
    "# %%pycodestyle\n",
    "def sigmoid(x):\n",
    "    \"\"\"\n",
    "    Вычисляем значение сигмоида.\n",
    "    X - выход линейной модели\n",
    "    \"\"\"\n",
    "\n",
    "    # Your code Here\n",
    "    return 1 / (1 + np.exp(-x))\n",
    "\n",
    "\n",
    "class MySGDClassifier(BaseEstimator, ClassifierMixin):\n",
    "    def __init__(self, batch_generator, C=1, alpha=0.01,\n",
    "                 max_epoch=10, model_type='lin_reg'):\n",
    "        \"\"\"\n",
    "        batch_generator -- функция генератор, которой будем создавать батчи\n",
    "        C - коэф. регуляризации\n",
    "        alpha - скорость спуска\n",
    "        max_epoch - максимальное количество эпох\n",
    "        model_type - тим модели, lin_reg или log_reg\n",
    "        \"\"\"\n",
    "\n",
    "        self.C = C\n",
    "        self.alpha = alpha\n",
    "        self.max_epoch = max_epoch\n",
    "        self.batch_generator = batch_generator\n",
    "        self.errors_log = {'iter' : [], 'loss' : []}  \n",
    "        self.model_type = model_type\n",
    "        self.weight = None\n",
    "\n",
    "    def calc_loss(self, X_batch, y_batch):\n",
    "        \"\"\"\n",
    "        Считаем функцию потерь по батчу \n",
    "        X_batch - матрица объекты-признаки по батчу\n",
    "        y_batch - вектор ответов по батчу\n",
    "        Не забудте тип модели (линейная или логистическая регрессия)!\n",
    "        \"\"\"\n",
    "        assert X_batch.shape[0] == y_batch.shape[0], (\"array sizes\"\n",
    "                                                      \"must be equal\")\n",
    "        n_samples = X_batch.shape[0]\n",
    "        reg = 1.0 / self.C * np.linalg.norm(self.weight)\n",
    "\n",
    "        if self.model_type == \"lin_reg\":\n",
    "            mse = 1.0 / n_samples * np.linalg.norm(\n",
    "                np.dot(X_batch, self.weight) - y_batch\n",
    "            )\n",
    "            return mse + reg \n",
    "        elif self.model_type == \"log_reg\":\n",
    "            a = sigmoid(np.dot(X_batch, self.weight))\n",
    "            log_loss = -1.0 / n_samples * np.sum(\n",
    "                y_batch * np.log(a) + (1 - y_batch) * np.log(1 - a)\n",
    "            )\n",
    "            return log_loss + reg\n",
    "        else:\n",
    "            raise RuntimeError(\n",
    "                \"unsupported model_type {}\".format(self.model_type)\n",
    "            )\n",
    "\n",
    "    def calc_loss_grad(self, X_batch, y_batch):\n",
    "        \"\"\"\n",
    "        Считаем  градиент функции потерь по батчу (\n",
    "        то что Вы вывели в задании 1)\n",
    "        X_batch - матрица объекты-признаки по батчу\n",
    "        y_batch - вектор ответов по батчу\n",
    "        Не забудте тип модели (линейная или логистическая регрессия)!\n",
    "        \"\"\"\n",
    "        assert X_batch.shape[0] == y_batch.shape[0], (\"array sizes\"\n",
    "                                                      \"must be equal\")\n",
    "        n_samples = X_batch.shape[0]\n",
    "        weight_filter = np.hstack(([0], np.ones(self.weight.shape[0] - 1)))\n",
    "        reg_term = 2.0 / self.C * (weight_filter * self.weight)\n",
    "\n",
    "        if self.model_type == \"lin_reg\":\n",
    "            return 2.0 / n_samples * np.dot(\n",
    "                X_batch.T, np.dot(X_batch, self.weight) - y_batch\n",
    "            ) + reg_term\n",
    "        elif self.model_type == \"log_reg\":\n",
    "            return 1.0 / n_samples * np.dot(\n",
    "                X_batch.T, sigmoid(np.dot(X_batch, self.weight)) - y_batch\n",
    "            ) + reg_term\n",
    "        else:\n",
    "            raise RuntimeError(\n",
    "                \"unsupported model_type {}\".format(self.model_type)\n",
    "            )\n",
    "\n",
    "    def update_weights(self, new_grad):\n",
    "        \"\"\"\n",
    "        Обновляем вектор весов\n",
    "        new_grad - градиент по батчу\n",
    "        \"\"\"\n",
    "\n",
    "        self.weight = self.weight - self.alpha * new_grad\n",
    "\n",
    "    def fit(self, X, y):\n",
    "        '''\n",
    "        Обучение модели\n",
    "        X - матрица объекты-признаки\n",
    "        y - вектор ответов\n",
    "        '''\n",
    "        X = np.hstack((np.ones((X.shape[0], 1)), X))\n",
    "\n",
    "        # Нужно инициализровать случайно веса\n",
    "\n",
    "        np.random.seed(239)\n",
    "        self.weight = np.random.sample(X.shape[1])\n",
    "\n",
    "        for n in range(0, self.max_epoch):\n",
    "            new_epoch_generator = self.batch_generator(X, y)\n",
    "            for batch_num, new_batch in enumerate(new_epoch_generator):\n",
    "                X_batch = new_batch[0]\n",
    "                y_batch = new_batch[1]\n",
    "                batch_grad = self.calc_loss_grad(X_batch, y_batch)\n",
    "                self.update_weights(batch_grad)\n",
    "                # Подумайте в каком месте стоит посчитать \n",
    "                # ошибку для отладки модели\n",
    "                # До градиентного шага или после\n",
    "                batch_loss = self.calc_loss(X_batch, y_batch)\n",
    "                self.errors_log['iter'].append(batch_num)\n",
    "                self.errors_log['loss'].append(batch_loss)\n",
    "\n",
    "        return self\n",
    "        \n",
    "    def predict(self, X):\n",
    "        '''\n",
    "        Предсказание класса\n",
    "        X - матрица объекты-признаки\n",
    "        Не забудте тип модели (линейная или логистическая регрессия)!\n",
    "        '''\n",
    "        assert self.weight is not None, \"you should call fit before\"\n",
    "        X = np.hstack((np.ones((X.shape[0], 1)), X))\n",
    "\n",
    "        if self.model_type == \"lin_reg\":\n",
    "            return np.dot(X, self.weight)\n",
    "        elif self.model_type == \"log_reg\":\n",
    "            return sigmoid(np.dot(X, self.weight))\n",
    "        else:\n",
    "            raise RuntimeError(\n",
    "                \"unsupported model_type {}\".format(self.model_type)\n",
    "            )\n"
   ]
  },
  {
   "cell_type": "markdown",
   "metadata": {},
   "source": [
    "Запустите обе регрессии на синтетических данных. \n",
    "\n",
    "\n",
    "Выведите полученные веса и нарисуйте разделяющую границу между классами (используйте только первых два веса для первых двух признаков X[:,0], X[:,1] для отображения в 2d пространство ).  "
   ]
  },
  {
   "cell_type": "code",
   "execution_count": 11,
   "metadata": {},
   "outputs": [],
   "source": [
    "def plot_decision_boundary(clf):\n",
    "    # Your code Here\n",
    "    w0, w1, w2, *_ = clf.weight\n",
    "    # w1 * x1 + w2 * x2 + w0 = 0\n",
    "    # r = t * (-w2, w1) + r0\n",
    "    # r0 = (w0 / w1, 0) if w2 == 0 else (0, w0 / w2)\n",
    "    r0 = np.array((-w0 / w1, 0) if w2 == 0 else (0, -w0 / w2))[::, np.newaxis]\n",
    "    T_MAX = 100.0\n",
    "    r = np.array([-w2, w1])[::, np.newaxis]\n",
    "    r = r / np.linalg.norm(r)\n",
    "    xy = r0 + r * np.linspace(-T_MAX, T_MAX, num=100)[np.newaxis, ::]\n",
    "    plt.plot(xy[0, ::], xy[1, ::])"
   ]
  },
  {
   "cell_type": "code",
   "execution_count": 12,
   "metadata": {},
   "outputs": [],
   "source": [
    "from functools import partial"
   ]
  },
  {
   "cell_type": "code",
   "execution_count": 13,
   "metadata": {},
   "outputs": [
    {
     "data": {
      "image/png": "[encoded data removed]",
      "text/plain": [
       "<Figure size 432x288 with 1 Axes>"
      ]
     },
     "metadata": {
      "needs_background": "light"
     },
     "output_type": "display_data"
    }
   ],
   "source": [
    "np.random.seed(0)\n",
    "\n",
    "C1 = np.array([[0., -0.8], [1.5, 0.8]])\n",
    "C2 = np.array([[1., -0.7], [2., 0.7]])\n",
    "gauss1 = np.dot(np.random.randn(200, 2) + np.array([5, 3]), C1)\n",
    "gauss2 = np.dot(np.random.randn(200, 2) + np.array([1.5, 0]), C2)\n",
    "\n",
    "X = np.vstack([gauss1, gauss2])\n",
    "y = np.r_[np.ones(200), np.zeros(200)]\n",
    "\n",
    "clf = MySGDClassifier(\n",
    "    partial(batch_generator, batch_size=10, shuffle=True),\n",
    "    model_type=\"log_reg\", max_epoch=300, C=100, alpha=0.1\n",
    ")\n",
    "clf.fit(X, y)\n",
    "plot_decision_boundary(clf)\n",
    "\n",
    "lin_clf = MySGDClassifier(\n",
    "    partial(batch_generator, batch_size=100, shuffle=True),\n",
    "    model_type=\"lin_reg\", max_epoch=3000, C=10, alpha=0.01\n",
    ")\n",
    "lin_clf.fit(X, y)\n",
    "plot_decision_boundary(lin_clf)\n",
    "\n",
    "plt.xlim((X[:,0].min(), X[:,0].max()))\n",
    "plt.ylim((X[:,1].min(), X[:,1].max()))\n",
    "plt.scatter(X[:,0], X[:,1], c=y)\n",
    "plt.show()"
   ]
  },
  {
   "cell_type": "code",
   "execution_count": 14,
   "metadata": {},
   "outputs": [
    {
     "data": {
      "text/plain": [
       "array([-5.58647129,  1.13834808, -1.25925354])"
      ]
     },
     "execution_count": 14,
     "metadata": {},
     "output_type": "execute_result"
    }
   ],
   "source": [
    "clf.weight"
   ]
  },
  {
   "cell_type": "code",
   "execution_count": 15,
   "metadata": {},
   "outputs": [
    {
     "data": {
      "text/plain": [
       "array([-0.09796624,  0.13985494, -0.15558229])"
      ]
     },
     "execution_count": 15,
     "metadata": {},
     "output_type": "execute_result"
    }
   ],
   "source": [
    "lin_clf.weight"
   ]
  },
  {
   "cell_type": "markdown",
   "metadata": {},
   "source": [
    "Далее будем анализировать Ваш алгоритм. \n",
    "Для этих заданий используйте датасет ниже."
   ]
  },
  {
   "cell_type": "code",
   "execution_count": 16,
   "metadata": {},
   "outputs": [],
   "source": [
    "from sklearn.datasets import make_classification"
   ]
  },
  {
   "cell_type": "code",
   "execution_count": 17,
   "metadata": {},
   "outputs": [],
   "source": [
    "X, y = make_classification(n_samples=100000, n_features=10, \n",
    "                           n_informative=4, n_redundant=0, \n",
    "                           random_state=123, class_sep=1.0,\n",
    "                           n_clusters_per_class=1)"
   ]
  },
  {
   "cell_type": "markdown",
   "metadata": {},
   "source": [
    "Покажите сходимости обеих регрессией на этом датасете: изобразите график  функции потерь, усредненной по $N$ шагам градиентого спуска, для разных `alpha` (размеров шага). Разные `alpha` расположите на одном графике. \n",
    "\n",
    "$N$ можно брать 10, 50, 100 и т.д. "
   ]
  },
  {
   "cell_type": "code",
   "execution_count": 18,
   "metadata": {},
   "outputs": [],
   "source": [
    "from operator import itemgetter\n",
    "from itertools import groupby"
   ]
  },
  {
   "cell_type": "code",
   "execution_count": 19,
   "metadata": {},
   "outputs": [
    {
     "data": {
      "image/png": "[encoded data removed]",
      "text/plain": [
       "<Figure size 432x288 with 1 Axes>"
      ]
     },
     "metadata": {
      "needs_background": "light"
     },
     "output_type": "display_data"
    }
   ],
   "source": [
    "for alpha in np.logspace(-1, -3, 5):\n",
    "    # усредняется по N = 10\n",
    "    clf = MySGDClassifier(\n",
    "        partial(batch_generator, batch_size=400, shuffle=True),\n",
    "        model_type=\"log_reg\", max_epoch=50, C=10, alpha=alpha\n",
    "    )\n",
    "    clf.fit(X, y)\n",
    "    N = 10\n",
    "    ar = np.asarray(clf.errors_log[\"loss\"]).reshape(-1, N)\n",
    "    plt.plot(ar.mean(axis=1), label=r\"$\\alpha = {:.3f}$\".format(alpha))\n",
    "    # print(\"alpha = {:.3f} done\".format(alpha))\n",
    "\n",
    "plt.title(\"logistic regression\")\n",
    "plt.xlabel(\"\")\n",
    "plt.ylabel(\"mean loss\")\n",
    "plt.legend()\n",
    "plt.show()"
   ]
  },
  {
   "cell_type": "code",
   "execution_count": 20,
   "metadata": {},
   "outputs": [
    {
     "data": {
      "image/png": "[encoded data removed]",
      "text/plain": [
       "<Figure size 432x288 with 1 Axes>"
      ]
     },
     "metadata": {
      "needs_background": "light"
     },
     "output_type": "display_data"
    }
   ],
   "source": [
    "for alpha in np.logspace(-1, -3, 5):\n",
    "    clf = MySGDClassifier(\n",
    "        partial(batch_generator, batch_size=400, shuffle=True),\n",
    "        model_type=\"lin_reg\", max_epoch=50, C=100, alpha=alpha\n",
    "    )\n",
    "    clf.fit(X, y)\n",
    "    N = 10\n",
    "    ar = np.asarray(clf.errors_log[\"loss\"]).reshape(-1, N)\n",
    "    plt.plot(ar.mean(axis=1), label=r\"$\\alpha = {:.3f}$\".format(alpha))\n",
    "\n",
    "plt.title(\"linear regression\")\n",
    "plt.xlabel(\"epoch\")\n",
    "plt.ylabel(\"mean loss\")\n",
    "plt.legend()\n",
    "plt.show()"
   ]
  },
  {
   "cell_type": "markdown",
   "metadata": {},
   "source": [
    "Что Вы можете сказать про сходимость метода при различных `alpha`? Какое значение стоит выбирать для лучшей сходимости?"
   ]
  },
  {
   "cell_type": "markdown",
   "metadata": {},
   "source": [
    "Изобразите график среднего значения весов для обеих регрессий в зависимости от коеф. регуляризации С из `np.logspace(3, -3, 10)` "
   ]
  },
  {
   "cell_type": "code",
   "execution_count": 21,
   "metadata": {},
   "outputs": [
    {
     "data": {
      "image/png": "[encoded data removed]",
      "text/plain": [
       "<Figure size 432x288 with 1 Axes>"
      ]
     },
     "metadata": {
      "needs_background": "light"
     },
     "output_type": "display_data"
    }
   ],
   "source": [
    "C_values = np.logspace(3, -3, 10)\n",
    "# происходит переполнение при слишком маленьких С\n",
    "lin_mean = []\n",
    "log_mean = []\n",
    "plt.xscale(\"log\")\n",
    "plt.yscale(\"log\")\n",
    "\n",
    "for C in C_values:\n",
    "    clf = MySGDClassifier(\n",
    "        partial(batch_generator, batch_size=400, shuffle=True),\n",
    "        model_type=\"log_reg\", max_epoch=400, C=C, alpha=0.0001\n",
    "    )\n",
    "    clf.fit(X, y)\n",
    "    log_mean.append(abs(clf.weight[1::].mean()))\n",
    "\n",
    "    lin_clf = MySGDClassifier(\n",
    "        partial(batch_generator, batch_size=400, shuffle=True),\n",
    "        model_type=\"lin_reg\", max_epoch=400, C=C, alpha=0.0001\n",
    "    )\n",
    "    lin_clf.fit(X, y)\n",
    "    lin_mean.append(abs(lin_clf.weight[1::].mean()))\n",
    "    # print(\"C = {:.3f} done\".format(C))\n",
    "\n",
    "plt.plot(C_values, lin_mean, label=\"lin_reg\")\n",
    "plt.plot(C_values, log_mean, label=\"log_reg\")\n",
    "plt.xlabel(\"$C$\")\n",
    "plt.ylabel(\"$|mean\\_weight|$\")\n",
    "plt.legend()\n",
    "plt.show()"
   ]
  },
  {
   "cell_type": "markdown",
   "metadata": {},
   "source": [
    "Довольны ли Вы, насколько сильно уменьшились Ваши веса? "
   ]
  },
  {
   "cell_type": "markdown",
   "metadata": {},
   "source": [
    "# Боевое применение (3  балла)"
   ]
  },
  {
   "cell_type": "markdown",
   "metadata": {},
   "source": [
    "Давайте применим модель на итоговом проекте! Датасет сделаем точно таким же образом, как было показано в project_overview.ipynb\n",
    "\n",
    "Применим обе регрессии, подберем для них параметры и сравним качество. Может быть Вы еще одновременно с решением домашней работы подрастете на лидерборде!"
   ]
  },
  {
   "cell_type": "code",
   "execution_count": 22,
   "metadata": {},
   "outputs": [
    {
     "name": "stdout",
     "output_type": "stream",
     "text": [
      "28026\n"
     ]
    }
   ],
   "source": [
    "doc_to_title = {}\n",
    "with open('docs_titles.tsv') as f:\n",
    "    for num_line, line in enumerate(f):\n",
    "        if num_line == 0:\n",
    "            continue\n",
    "        data = line.strip().split('\\t', 1)\n",
    "        doc_id = int(data[0])\n",
    "        if len(data) == 1:\n",
    "            title = ''\n",
    "        else:\n",
    "            title = data[1]\n",
    "        doc_to_title[doc_id] = title\n",
    "print (len(doc_to_title))\n"
   ]
  },
  {
   "cell_type": "code",
   "execution_count": 23,
   "metadata": {},
   "outputs": [],
   "source": [
    "import pandas as pd\n",
    "train_data = pd.read_csv('train_groups.csv')\n",
    "traingroups_titledata = {}\n",
    "for i in range(len(train_data)):\n",
    "    new_doc = train_data.iloc[i]\n",
    "    doc_group = new_doc['group_id']\n",
    "    doc_id = new_doc['doc_id']\n",
    "    target = new_doc['target']\n",
    "    title = doc_to_title[doc_id]\n",
    "    if doc_group not in traingroups_titledata:\n",
    "        traingroups_titledata[doc_group] = []\n",
    "    traingroups_titledata[doc_group].append((doc_id, title, target))"
   ]
  },
  {
   "cell_type": "code",
   "execution_count": 24,
   "metadata": {},
   "outputs": [
    {
     "name": "stdout",
     "output_type": "stream",
     "text": [
      "(11690, 15) (11690,) (11690,)\n"
     ]
    }
   ],
   "source": [
    "import numpy as np\n",
    "y_train = []\n",
    "X_train = []\n",
    "groups_train = []\n",
    "for new_group in traingroups_titledata:\n",
    "    docs = traingroups_titledata[new_group]\n",
    "    for k, (doc_id, title, target_id) in enumerate(docs):\n",
    "        y_train.append(target_id)\n",
    "        groups_train.append(new_group)\n",
    "        all_dist = []\n",
    "        words = set(title.strip().split())\n",
    "        for j in range(0, len(docs)):\n",
    "            if k == j:\n",
    "                continue\n",
    "            doc_id_j, title_j, target_j = docs[j]\n",
    "            words_j = set(title_j.strip().split())\n",
    "            all_dist.append(len(words.intersection(words_j)))\n",
    "        X_train.append(sorted(all_dist, reverse=True)[0:15]    )\n",
    "X_train = np.array(X_train)\n",
    "y_train = np.array(y_train)\n",
    "groups_train = np.array(groups_train)\n",
    "print (X_train.shape, y_train.shape, groups_train.shape)"
   ]
  },
  {
   "cell_type": "markdown",
   "metadata": {},
   "source": [
    "Подберите размер батча для обучения. Линейная модель не должна учиться дольше нескольких минут. \n",
    "\n",
    "Не забывайте использовать скейлер!"
   ]
  },
  {
   "cell_type": "code",
   "execution_count": 25,
   "metadata": {},
   "outputs": [],
   "source": [
    "from sklearn.metrics import f1_score\n",
    "from sklearn.linear_model import LinearRegression\n",
    "from sklearn.preprocessing import StandardScaler"
   ]
  },
  {
   "cell_type": "code",
   "execution_count": 26,
   "metadata": {},
   "outputs": [],
   "source": [
    "scaler = StandardScaler()\n",
    "scaler.fit(X_train)\n",
    "X_train = scaler.transform(X_train)"
   ]
  },
  {
   "cell_type": "code",
   "execution_count": 27,
   "metadata": {},
   "outputs": [],
   "source": [
    "import time"
   ]
  },
  {
   "cell_type": "code",
   "execution_count": 28,
   "metadata": {},
   "outputs": [
    {
     "data": {
      "image/png": "[encoded data removed]",
      "text/plain": [
       "<Figure size 432x288 with 1 Axes>"
      ]
     },
     "metadata": {
      "needs_background": "light"
     },
     "output_type": "display_data"
    }
   ],
   "source": [
    "# зачем LinearRegression?\n",
    "plt.xscale(\"log\")\n",
    "res_time = []\n",
    "sizes = X_train.shape[0] / np.logspace(0, 4, 10)\n",
    "for batch_size in sizes:\n",
    "    # print(batch_size)\n",
    "    t = time.time()\n",
    "    clf = MySGDClassifier(\n",
    "        partial(batch_generator, batch_size=int(batch_size), shuffle=True),\n",
    "        model_type=\"lin_reg\", max_epoch=500, C=1000, alpha=0.01\n",
    "    )\n",
    "    clf.fit(X_train, y_train)\n",
    "    res_time.append(time.time() - t)\n",
    "plt.plot(sizes, res_time)\n",
    "plt.xlabel(\"batch_size\")\n",
    "plt.ylabel(\"time\")\n",
    "plt.show()"
   ]
  },
  {
   "cell_type": "markdown",
   "metadata": {},
   "source": [
    "Разбейте данные на обучение и валидацию. Подберите параметры C, alpha, max_epoch, model_type на валидации (Вы же помните, как правильно в этой задаче делать валидацию?)"
   ]
  },
  {
   "cell_type": "code",
   "execution_count": 29,
   "metadata": {},
   "outputs": [],
   "source": [
    "from sklearn.model_selection import KFold\n",
    "from sklearn.metrics import roc_auc_score\n",
    "from sklearn.metrics import f1_score\n",
    "from tqdm import tqdm\n",
    "from itertools import product"
   ]
  },
  {
   "cell_type": "code",
   "execution_count": 30,
   "metadata": {},
   "outputs": [],
   "source": [
    "def my_cross_val_score(estimator, kf, X, y, scoring, threshold=None):\n",
    "    res = []\n",
    "    for train_index, test_index in kf.split(X):\n",
    "        X_train, X_test = X[train_index], X[test_index]\n",
    "        y_train, y_test = y[train_index], y[test_index]\n",
    "        estimator.fit(X_train, y_train)\n",
    "        y_pred = estimator.predict(X_test)\n",
    "        if scoring == 'roc_auc':\n",
    "            res.append(roc_auc_score(y_test, y_pred))\n",
    "        elif scoring == 'f1_score':\n",
    "            res.append(f1_score(y_test, y_pred >= threshold))\n",
    "    return np.asarray(res).mean()"
   ]
  },
  {
   "cell_type": "code",
   "execution_count": 31,
   "metadata": {},
   "outputs": [
    {
     "name": "stderr",
     "output_type": "stream",
     "text": [
      "100%|██████████| 2000/2000 [05:31<00:00,  6.03it/s]\n"
     ]
    }
   ],
   "source": [
    "result = {}\n",
    "seq = product(\n",
    "    (\"lin_reg\", \"log_reg\"),\n",
    "    np.logspace(-4, -1, 10),\n",
    "    np.logspace(0, 3, 10),\n",
    "    np.linspace(50, 100, 10)\n",
    ")\n",
    "for model_type, alpha, C, max_epoch in tqdm(list(seq)):\n",
    "    # 2 * 10 * 10 * 10 * n_splits fittings...\n",
    "    clf = MySGDClassifier(\n",
    "        partial(\n",
    "            batch_generator, batch_size=11690, shuffle=True\n",
    "        ),\n",
    "        model_type=model_type,\n",
    "        max_epoch=int(max_epoch), C=C, alpha=alpha\n",
    "    )\n",
    "    score = my_cross_val_score(\n",
    "        estimator=clf, kf=KFold(n_splits=3), X=X_train, y=y_train,\n",
    "        scoring='roc_auc'\n",
    "    )\n",
    "    # print(score)\n",
    "    if \"score\" not in result or result[\"score\"] < score:\n",
    "        result[\"score\"] = score\n",
    "        result[\"model\"] = clf"
   ]
  },
  {
   "cell_type": "markdown",
   "metadata": {},
   "source": [
    "Подберите порог линейной модели, по достижении которого, Вы будете относить объект к классу 1. Вспомните, какую метрику мы оптимизируем в соревновании.  Как тогда правильно подобрать порог?"
   ]
  },
  {
   "cell_type": "code",
   "execution_count": 32,
   "metadata": {},
   "outputs": [
    {
     "name": "stderr",
     "output_type": "stream",
     "text": [
      "100%|██████████| 100/100 [00:13<00:00,  7.43it/s]\n"
     ]
    },
    {
     "data": {
      "image/png": "[encoded data removed]",
      "text/plain": [
       "<Figure size 432x288 with 1 Axes>"
      ]
     },
     "metadata": {
      "needs_background": "light"
     },
     "output_type": "display_data"
    }
   ],
   "source": [
    "model = result[\"model\"]\n",
    "scores = []\n",
    "thrs = []\n",
    "for threshold in tqdm(np.linspace(0.0, 1.0, 100)):\n",
    "    score = my_cross_val_score(\n",
    "        estimator=model, kf=KFold(n_splits=3), X=X_train, y=y_train,\n",
    "        scoring='f1_score', threshold=threshold\n",
    "    )\n",
    "    scores.append(score)\n",
    "    thrs.append(threshold)\n",
    "plt.plot(thrs, scores)\n",
    "plt.xlabel(\"threshold\")\n",
    "plt.ylabel(\"score\")\n",
    "plt.show()"
   ]
  },
  {
   "cell_type": "code",
   "execution_count": 33,
   "metadata": {},
   "outputs": [
    {
     "data": {
      "text/plain": [
       "MySGDClassifier(C=1.0, alpha=0.0001,\n",
       "                batch_generator=functools.partial(<function batch_generator at 0x7f68b7a83598>, batch_size=11690, shuffle=True),\n",
       "                max_epoch=50, model_type='lin_reg')"
      ]
     },
     "execution_count": 33,
     "metadata": {},
     "output_type": "execute_result"
    }
   ],
   "source": [
    "model"
   ]
  },
  {
   "cell_type": "markdown",
   "metadata": {},
   "source": [
    "С лучшими параметрами на валидации сделайте предсказание на тестовом множестве, отправьте его на проверку на платформу kaggle. Убедитесь, что Вы смогли побить public score первого бейзлайна."
   ]
  },
  {
   "cell_type": "markdown",
   "metadata": {},
   "source": [
    "** При сдаче домашки Вам необходимо кроме ссылки на ноутбук прислать Ваш ник на kaggle, под которым Вы залили решение, которое побило первый бейзлайн. **"
   ]
  },
  {
   "cell_type": "code",
   "execution_count": 34,
   "metadata": {},
   "outputs": [],
   "source": [
    "test_data = pd.read_csv('test_groups.csv')\n",
    "testgroups_titledata = {}\n",
    "for i in range(len(test_data)):\n",
    "    new_doc = test_data.iloc[i]\n",
    "    doc_group = new_doc['group_id']\n",
    "    doc_id = new_doc['doc_id']\n",
    "    title = doc_to_title[doc_id]\n",
    "    if doc_group not in testgroups_titledata:\n",
    "        testgroups_titledata[doc_group] = []\n",
    "    testgroups_titledata[doc_group].append((doc_id, title))"
   ]
  },
  {
   "cell_type": "code",
   "execution_count": 35,
   "metadata": {},
   "outputs": [
    {
     "name": "stdout",
     "output_type": "stream",
     "text": [
      "(16627, 15) (16627,)\n"
     ]
    }
   ],
   "source": [
    "y_test = []\n",
    "X_test = []\n",
    "groups_test = []\n",
    "for new_group in testgroups_titledata:\n",
    "    docs = testgroups_titledata[new_group]\n",
    "    for k, (doc_id, title) in enumerate(docs):\n",
    "        groups_test.append(new_group)\n",
    "        all_dist = []\n",
    "        words = set(title.strip().split())\n",
    "        for j in range(0, len(docs)):\n",
    "            if k == j:\n",
    "                continue\n",
    "            doc_id_j, title_j = docs[j]\n",
    "            words_j = set(title_j.strip().split())\n",
    "            all_dist.append(len(words.intersection(words_j)))\n",
    "        X_test.append(sorted(all_dist, reverse=True)[0:15]    )\n",
    "X_test = np.array(X_test)\n",
    "groups_test = np.array(groups_test)\n",
    "print(X_test.shape, groups_test.shape)"
   ]
  },
  {
   "cell_type": "code",
   "execution_count": 36,
   "metadata": {},
   "outputs": [],
   "source": [
    "X_test = scaler.transform(X_test)"
   ]
  },
  {
   "cell_type": "code",
   "execution_count": 37,
   "metadata": {},
   "outputs": [],
   "source": [
    "y_test = np.asarray(model.predict(X_test) > 0.8, dtype=int)\n",
    "# print(y_test.shape)\n",
    "test_data[\"target\"] = pd.Series(y_test)\n",
    "with open(\"predict.csv\", \"w\") as f:\n",
    "    f.write(test_data.to_csv(columns=(\"pair_id\", \"target\"), index=False))"
   ]
  },
  {
   "cell_type": "markdown",
   "metadata": {},
   "source": [
    "# Фидбек (бесценно)"
   ]
  },
  {
   "cell_type": "markdown",
   "metadata": {},
   "source": [
    "* Какие аспекты обучения линейных моделей Вам показались непонятными? Какое место стоит дополнительно объяснить?"
   ]
  },
  {
   "cell_type": "markdown",
   "metadata": {},
   "source": [
    "***Ваше ответ здесь***\n",
    "\n",
    "1) Одним из самых сложных заданий здесь было задание про $w_0$. Кажется, это вызовет некоторые философские рассуждения не только у меня о том, а что же мы за задачу решаем и почему мы сужаем семейство функций именно так (откуда у нас взялось именно такое предсталение об ответе). Возможно, я слишком смотрю на слайды, а на лекции что-то прослушал.\n",
    "\n",
    "2) Да, кросс-валидация подходит для разных видов задач. Но кажется стоило еще много раз об этом сказать, а то почти сложилось впечатление, что это особый подход для KNN и других классификаторов, у которых бесконечная емкость.\n",
    "\n",
    "3) Стохастический градиентный спуск оказался пока немного магией, а дополнительные статьи оказались довольно сложными, хотя я еще попробую. Принцип, конечно, понят. И это было хорошей идеей написать основную его часть в классе, чтобы я мог лучше на него посмотреть."
   ]
  },
  {
   "cell_type": "markdown",
   "metadata": {},
   "source": [
    "* Здесь Вы можете оставить отзыв о этой домашней работе или о всем курсе.   "
   ]
  },
  {
   "cell_type": "markdown",
   "metadata": {},
   "source": [
    "*** ВАШ ОТЗЫВ ЗДЕСЬ***\n",
    "\n",
    "Мне понравилась эта домашняя работа, как и предыдущая. Их интересно делать и в меру сложно. \n",
    "В этой домашней работе правда я не везде точно понимал, что именно от меня хотят. Например я до сих пор не понял, зачем мы там подключаем LinearRegression. Я очень долго думал, как и в каком виде строить для разных алгоритмов ответы на вопросы.\n",
    "\n",
    "Пока я не чувствую полную уверенность в том, что я понял всю математическую строгость SVM. Может быть, не хватает каких-то задач про это. А может они и оказались бы слишком сложные.\n",
    "\n",
    "Возможно, максимальные баллы за разные виды заданий в курсе стоят не совсем сбалансировано: для оформления каждой домашки требовалось много больше времени, чем на то, чтобы повторить материалы к квизам на парах на то же количество баллов."
   ]
  },
  {
   "cell_type": "code",
   "execution_count": null,
   "metadata": {
    "collapsed": true,
    "jupyter": {
     "outputs_hidden": true
    }
   },
   "outputs": [],
   "source": []
  },
  {
   "cell_type": "code",
   "execution_count": null,
   "metadata": {
    "collapsed": true,
    "jupyter": {
     "outputs_hidden": true
    }
   },
   "outputs": [],
   "source": []
  }
 ],
 "metadata": {
  "anaconda-cloud": {},
  "kernelspec": {
   "display_name": ".spherePy",
   "language": "python",
   "name": ".spherepy"
  },
  "language_info": {
   "codemirror_mode": {
    "name": "ipython",
    "version": 3
   },
   "file_extension": ".py",
   "mimetype": "text/x-python",
   "name": "python",
   "nbconvert_exporter": "python",
   "pygments_lexer": "ipython3",
   "version": "3.7.3"
  },
  "nav_menu": {},
  "toc": {
   "colors": {
    "hover_highlight": "#DAA520",
    "navigate_num": "#000000",
    "navigate_text": "#333333",
    "running_highlight": "#FF0000",
    "selected_highlight": "#FFD700",
    "sidebar_border": "#EEEEEE",
    "wrapper_background": "#FFFFFF"
   },
   "moveMenuLeft": true,
   "nav_menu": {
    "height": "402px",
    "width": "253px"
   },
   "navigate_menu": true,
   "number_sections": false,
   "sideBar": true,
   "threshold": 4,
   "toc_cell": false,
   "toc_section_display": "block",
   "toc_window_display": true,
   "widenNotebook": false
  }
 },
 "nbformat": 4,
 "nbformat_minor": 4
}
