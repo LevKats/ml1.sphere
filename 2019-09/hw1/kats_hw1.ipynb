{
 "cells": [
  {
   "cell_type": "markdown",
   "metadata": {},
   "source": [
    "**Общая информация**\n",
    "\n",
    "**Срок сдачи:** 21 октября 2019, 08:30 \n",
    "\n",
    "**Штраф за опоздание:** по 0.5 балла за 24 часа задержки. Через 10 дней домашнее задание сгорает.\n",
    "\n",
    "При отправлении ДЗ указывайте фамилию в названии файла\n",
    "Присылать ДЗ необходимо в виде ссылки на свой github репозиторий на почту ml1.sphere@mail.ru с указанием темы в следующем формате:\n",
    "\n",
    "[ML0919, Задание 1] Фамилия Имя.\n",
    "\n",
    "Используйте данный Ipython Notebook при оформлении домашнего задания."
   ]
  },
  {
   "cell_type": "markdown",
   "metadata": {},
   "source": [
    "\n",
    "**Штрафные баллы:**\n",
    "\n",
    "1. Невыполнение PEP8 -0.5 баллов\n",
    "2. Отсутствие фамилии в имени скрипта (скрипт должен называться по аналогии со stroykova_hw1.ipynb) -0.5 баллов\n",
    "3. Все строчки должны быть выполнены. Нужно, чтобы output команды можно было увидеть уже в git'е. В противном случае -0.5 баллов\n"
   ]
  },
  {
   "cell_type": "code",
   "execution_count": 1,
   "metadata": {},
   "outputs": [],
   "source": [
    "import numpy as np\n",
    "import matplotlib.pyplot as plt\n",
    "\n",
    "import seaborn as sns\n",
    "from sklearn import datasets\n",
    "from sklearn.base import ClassifierMixin\n",
    "from sklearn.datasets import fetch_mldata, fetch_20newsgroups\n",
    "\n",
    "from sklearn.neighbors.base import NeighborsBase, KNeighborsMixin, SupervisedIntegerMixin \n",
    "from sklearn.model_selection import train_test_split\n",
    "from sklearn.neighbors import KNeighborsClassifier\n",
    "%load_ext pycodestyle_magic"
   ]
  },
  {
   "cell_type": "markdown",
   "metadata": {},
   "source": [
    "##### Задание 1 (1 балл)\n",
    "Реализовать KNN в классе MyKNeighborsClassifier (обязательное условие: точность не ниже sklearn реализации)\n",
    "Разберитесь самостоятельно, какая мера расстояния используется в KNeighborsClassifier дефолтно и реализуйте свой алгоритм именно с этой мерой. Самостоятельно разберитесь, как считается score из KNeighborsClassifier и реализуйте аналог в своём классе. Score не должен уступать значению KNN из sklearn"
   ]
  },
  {
   "cell_type": "code",
   "execution_count": 2,
   "metadata": {},
   "outputs": [
    {
     "data": {
      "text/plain": [
       "array([1, 3, 5])"
      ]
     },
     "execution_count": 2,
     "metadata": {},
     "output_type": "execute_result"
    }
   ],
   "source": [
    "a = np.array([1, 2, 3, 4, 5])\n",
    "a[np.array([0, 2, 4])]"
   ]
  },
  {
   "cell_type": "code",
   "execution_count": 63,
   "metadata": {},
   "outputs": [
    {
     "name": "stderr",
     "output_type": "stream",
     "text": [
      "97:1: W391 blank line at end of file\n"
     ]
    }
   ],
   "source": [
    "#%%pycodestyle\n",
    "from sklearn.neighbors import KDTree\n",
    "from sklearn.metrics import pairwise_distances\n",
    "\n",
    "import numpy as np\n",
    "\n",
    "# default weight='uniform’ : uniform weights.\n",
    "# All points in each neighborhood are weighted equally\n",
    "# metric : string or callable, default ‘minkowski’ with default p=2\n",
    "# 'brute’ will use a brute-force search\n",
    "# ‘kd_tree’ will use KDTree\n",
    "\n",
    "\n",
    "class MyKNeighborsClassifier(NeighborsBase, KNeighborsMixin,\n",
    "                             SupervisedIntegerMixin, ClassifierMixin):\n",
    "    def __init__(self, n_neighbors, algorithm='brute', metric='minkowski'):\n",
    "        NeighborsBase.__init__(self)\n",
    "        KNeighborsMixin.__init__(self)\n",
    "        SupervisedIntegerMixin.__init__(self)\n",
    "        ClassifierMixin.__init__(self)\n",
    "        self.__n_neighbors = n_neighbors\n",
    "        self.__algorithm = algorithm\n",
    "        self.__train_x = None\n",
    "        self.__train_y = None\n",
    "        self.__train_x_tree = None\n",
    "        self.__classes = None\n",
    "        self.__metric = metric\n",
    "        assert metric in {'minkowski', 'cosine'}, \"unsupported metric\"\n",
    "        assert algorithm in {'brute', 'kd_tree'}, \"unsupported algorithm\"\n",
    "\n",
    "    def fit(self, x_array, y_array):\n",
    "        # Fit the model using X as training data and y as target values\n",
    "        if self.__algorithm == 'brute':\n",
    "            self.__train_x = x_array\n",
    "        elif self.__algorithm == 'kd_tree':\n",
    "            self.__train_x_tree = KDTree(x_array, metric=self.__metric)\n",
    "        self.__train_y = y_array\n",
    "        self.__classes = np.sort(np.unique(y_array))\n",
    "\n",
    "    def get_k_neighbors_indexes(self, x_array):\n",
    "        if self.__algorithm == \"brute\":\n",
    "            assert self.__train_x is not None, \"you should call fit before\"\n",
    "            metric = 'euclidean' if self.__metric != 'cosine' else 'cosine'\n",
    "            return np.argpartition(\n",
    "                pairwise_distances(\n",
    "                    X=x_array, Y=self.__train_x, metric=metric\n",
    "                ),\n",
    "                self.__n_neighbors - 1\n",
    "            )[::, :self.__n_neighbors:]\n",
    "\n",
    "        elif self.__algorithm == 'kd_tree':\n",
    "            assert self.__train_x_tree is not None, ('you should call fit '\n",
    "                                                     'before')\n",
    "            return self.__train_x_tree.query(\n",
    "                x_array, k=self.__n_neighbors, return_distance=False\n",
    "            )\n",
    "\n",
    "    def predict(self, x_test):\n",
    "        # Predict the class labels for the provided data\n",
    "        indexes = self.get_k_neighbors_indexes(x_test)\n",
    "        y_closest = np.apply_along_axis(\n",
    "            lambda ind: self.__train_y[ind], -1, indexes\n",
    "        )\n",
    "\n",
    "        def most_frequent(array):\n",
    "            value, count = np.unique(array, return_counts=True)\n",
    "            return value[np.argmax(count)]\n",
    "\n",
    "        return np.apply_along_axis(most_frequent, -1, y_closest)\n",
    "\n",
    "    def predict_proba(self, x_test):\n",
    "        # Return probability estimates for the test data X\n",
    "        assert self.__classes is not None, \"you should call fit before\"\n",
    "\n",
    "        indexes = self.get_k_neighbors_indexes(x_test)\n",
    "        y_closest = np.apply_along_axis(\n",
    "            lambda ind: self.__train_y[ind], -1, indexes\n",
    "        )\n",
    "\n",
    "        def get_most_frequent_classes(array):\n",
    "            value, count = np.unique(array, return_counts=True)\n",
    "            most_fr = value[count == count.max()]\n",
    "            result = np.asarray(\n",
    "                most_fr[np.newaxis, ::] == self.__classes[::, np.newaxis]\n",
    "            ).any(axis=1)\n",
    "            return result.astype(float) / result.sum()\n",
    "\n",
    "        return np.apply_along_axis(\n",
    "            get_most_frequent_classes,\n",
    "            -1,\n",
    "            y_closest\n",
    "        )\n",
    "\n",
    "    def score(self, x_test, y_test, sample_weight=None):\n",
    "        # Returns the mean accuracy on the given test data and labels.\n",
    "        return (self.predict(x_test) == y_test).sum() / y_test.shape[0]\n"
   ]
  },
  {
   "cell_type": "markdown",
   "metadata": {},
   "source": [
    "**IRIS**\n",
    "\n",
    "В библиотеке scikit-learn есть несколько датасетов из коробки. Один из них [Ирисы Фишера](https://ru.wikipedia.org/wiki/%D0%98%D1%80%D0%B8%D1%81%D1%8B_%D0%A4%D0%B8%D1%88%D0%B5%D1%80%D0%B0)"
   ]
  },
  {
   "cell_type": "code",
   "execution_count": 4,
   "metadata": {},
   "outputs": [],
   "source": [
    "iris = datasets.load_iris()"
   ]
  },
  {
   "cell_type": "code",
   "execution_count": 5,
   "metadata": {},
   "outputs": [],
   "source": [
    "X_train, X_test, y_train, y_test = train_test_split(iris.data, iris.target, test_size=0.1, stratify=iris.target)"
   ]
  },
  {
   "cell_type": "code",
   "execution_count": 6,
   "metadata": {},
   "outputs": [],
   "source": [
    "clf = KNeighborsClassifier(n_neighbors=2, algorithm='brute')\n",
    "my_clf = MyKNeighborsClassifier(n_neighbors=2, algorithm='brute')"
   ]
  },
  {
   "cell_type": "code",
   "execution_count": 7,
   "metadata": {},
   "outputs": [],
   "source": [
    "clf.fit(X_train, y_train)\n",
    "my_clf.fit(X_train, y_train)"
   ]
  },
  {
   "cell_type": "code",
   "execution_count": 8,
   "metadata": {},
   "outputs": [],
   "source": [
    "assert abs(my_clf.score(X_test, y_test) - clf.score(X_test, y_test)) < 0.005, \"Score must be simillar\""
   ]
  },
  {
   "cell_type": "markdown",
   "metadata": {},
   "source": [
    "**Задание 2 (0.5 балла)**\n",
    "\n",
    "Давайте попробуем добиться скорости работы на fit, predict и predict_proba сравнимой со sklearn для iris.\n",
    "Для этого используем numpy"
   ]
  },
  {
   "cell_type": "code",
   "execution_count": 9,
   "metadata": {},
   "outputs": [
    {
     "name": "stdout",
     "output_type": "stream",
     "text": [
      "CPU times: user 2.98 ms, sys: 0 ns, total: 2.98 ms\n",
      "Wall time: 2.02 ms\n"
     ]
    },
    {
     "data": {
      "text/plain": [
       "KNeighborsClassifier(algorithm='brute', leaf_size=30, metric='minkowski',\n",
       "                     metric_params=None, n_jobs=None, n_neighbors=2, p=2,\n",
       "                     weights='uniform')"
      ]
     },
     "execution_count": 9,
     "metadata": {},
     "output_type": "execute_result"
    }
   ],
   "source": [
    "%time clf.fit(X_train, y_train)"
   ]
  },
  {
   "cell_type": "markdown",
   "metadata": {},
   "source": [
    "Ниже используется %timeit для большей точности. От них ничего не зависит, их можно пропустить для экономии времени"
   ]
  },
  {
   "cell_type": "code",
   "execution_count": 10,
   "metadata": {},
   "outputs": [
    {
     "name": "stdout",
     "output_type": "stream",
     "text": [
      "186 µs ± 20.7 µs per loop (mean ± std. dev. of 7 runs, 1000 loops each)\n"
     ]
    }
   ],
   "source": [
    "%timeit clf.fit(X_train, y_train)"
   ]
  },
  {
   "cell_type": "code",
   "execution_count": 11,
   "metadata": {},
   "outputs": [
    {
     "name": "stdout",
     "output_type": "stream",
     "text": [
      "CPU times: user 874 µs, sys: 111 µs, total: 985 µs\n",
      "Wall time: 757 µs\n"
     ]
    }
   ],
   "source": [
    "%time my_clf.fit(X_train, y_train)"
   ]
  },
  {
   "cell_type": "code",
   "execution_count": 12,
   "metadata": {},
   "outputs": [
    {
     "name": "stdout",
     "output_type": "stream",
     "text": [
      "10.2 µs ± 59.4 ns per loop (mean ± std. dev. of 7 runs, 100000 loops each)\n"
     ]
    }
   ],
   "source": [
    "%timeit my_clf.fit(X_train, y_train)"
   ]
  },
  {
   "cell_type": "code",
   "execution_count": 13,
   "metadata": {},
   "outputs": [
    {
     "name": "stdout",
     "output_type": "stream",
     "text": [
      "CPU times: user 6.62 ms, sys: 7.98 ms, total: 14.6 ms\n",
      "Wall time: 11.1 ms\n"
     ]
    },
    {
     "data": {
      "text/plain": [
       "array([2, 1, 0, 1, 2, 1, 0, 0, 0, 1, 2, 2, 2, 0, 2])"
      ]
     },
     "execution_count": 13,
     "metadata": {},
     "output_type": "execute_result"
    }
   ],
   "source": [
    "%time clf.predict(X_test)"
   ]
  },
  {
   "cell_type": "code",
   "execution_count": 14,
   "metadata": {},
   "outputs": [
    {
     "name": "stdout",
     "output_type": "stream",
     "text": [
      "1 ms ± 139 µs per loop (mean ± std. dev. of 7 runs, 1000 loops each)\n"
     ]
    }
   ],
   "source": [
    "%timeit clf.predict(X_test)"
   ]
  },
  {
   "cell_type": "code",
   "execution_count": 15,
   "metadata": {},
   "outputs": [
    {
     "name": "stdout",
     "output_type": "stream",
     "text": [
      "CPU times: user 9.49 ms, sys: 4.04 ms, total: 13.5 ms\n",
      "Wall time: 9.08 ms\n"
     ]
    },
    {
     "data": {
      "text/plain": [
       "array([2, 1, 0, 1, 2, 1, 0, 0, 0, 1, 2, 2, 2, 0, 2])"
      ]
     },
     "execution_count": 15,
     "metadata": {},
     "output_type": "execute_result"
    }
   ],
   "source": [
    "%time my_clf.predict(X_test)"
   ]
  },
  {
   "cell_type": "code",
   "execution_count": 16,
   "metadata": {},
   "outputs": [
    {
     "name": "stdout",
     "output_type": "stream",
     "text": [
      "726 µs ± 16.7 µs per loop (mean ± std. dev. of 7 runs, 1000 loops each)\n"
     ]
    }
   ],
   "source": [
    "%timeit my_clf.predict(X_test)"
   ]
  },
  {
   "cell_type": "code",
   "execution_count": 17,
   "metadata": {},
   "outputs": [
    {
     "name": "stdout",
     "output_type": "stream",
     "text": [
      "CPU times: user 3.4 ms, sys: 0 ns, total: 3.4 ms\n",
      "Wall time: 2.84 ms\n"
     ]
    },
    {
     "data": {
      "text/plain": [
       "array([[0., 0., 1.],\n",
       "       [0., 1., 0.],\n",
       "       [1., 0., 0.],\n",
       "       [0., 1., 0.],\n",
       "       [0., 0., 1.],\n",
       "       [0., 1., 0.],\n",
       "       [1., 0., 0.],\n",
       "       [1., 0., 0.],\n",
       "       [1., 0., 0.],\n",
       "       [0., 1., 0.],\n",
       "       [0., 0., 1.],\n",
       "       [0., 0., 1.],\n",
       "       [0., 0., 1.],\n",
       "       [1., 0., 0.],\n",
       "       [0., 0., 1.]])"
      ]
     },
     "execution_count": 17,
     "metadata": {},
     "output_type": "execute_result"
    }
   ],
   "source": [
    "%time clf.predict_proba(X_test)"
   ]
  },
  {
   "cell_type": "code",
   "execution_count": 18,
   "metadata": {},
   "outputs": [
    {
     "name": "stdout",
     "output_type": "stream",
     "text": [
      "358 µs ± 8.58 µs per loop (mean ± std. dev. of 7 runs, 1000 loops each)\n"
     ]
    }
   ],
   "source": [
    "%timeit clf.predict_proba(X_test)"
   ]
  },
  {
   "cell_type": "code",
   "execution_count": 19,
   "metadata": {},
   "outputs": [
    {
     "name": "stdout",
     "output_type": "stream",
     "text": [
      "CPU times: user 15.1 ms, sys: 3.99 ms, total: 19.1 ms\n",
      "Wall time: 15.1 ms\n"
     ]
    },
    {
     "data": {
      "text/plain": [
       "array([[0., 0., 1.],\n",
       "       [0., 1., 0.],\n",
       "       [1., 0., 0.],\n",
       "       [0., 1., 0.],\n",
       "       [0., 0., 1.],\n",
       "       [0., 1., 0.],\n",
       "       [1., 0., 0.],\n",
       "       [1., 0., 0.],\n",
       "       [1., 0., 0.],\n",
       "       [0., 1., 0.],\n",
       "       [0., 0., 1.],\n",
       "       [0., 0., 1.],\n",
       "       [0., 0., 1.],\n",
       "       [1., 0., 0.],\n",
       "       [0., 0., 1.]])"
      ]
     },
     "execution_count": 19,
     "metadata": {},
     "output_type": "execute_result"
    }
   ],
   "source": [
    "%time my_clf.predict_proba(X_test)"
   ]
  },
  {
   "cell_type": "code",
   "execution_count": 20,
   "metadata": {},
   "outputs": [
    {
     "name": "stdout",
     "output_type": "stream",
     "text": [
      "1.19 ms ± 56.6 µs per loop (mean ± std. dev. of 7 runs, 1000 loops each)\n"
     ]
    }
   ],
   "source": [
    "%timeit my_clf.predict_proba(X_test)"
   ]
  },
  {
   "cell_type": "code",
   "execution_count": 21,
   "metadata": {},
   "outputs": [],
   "source": [
    "assert (my_clf.predict_proba(X_test) == clf.predict_proba(X_test)).all(), \"predict proba works incorrect :(\""
   ]
  },
  {
   "cell_type": "markdown",
   "metadata": {},
   "source": [
    "###### Задание 3 (1 балл)\n",
    "Добавьте algorithm='kd_tree' в реализацию KNN (использовать KDTree из sklearn.neighbors). Необходимо добиться скорости работы на fit,  predict и predict_proba сравнимой со sklearn для iris.\n",
    "Для этого используем numpy. Score не должен уступать значению KNN из sklearn"
   ]
  },
  {
   "cell_type": "code",
   "execution_count": 22,
   "metadata": {},
   "outputs": [],
   "source": [
    "clf = KNeighborsClassifier(n_neighbors=2, algorithm='kd_tree')\n",
    "my_clf = MyKNeighborsClassifier(n_neighbors=2, algorithm='kd_tree')"
   ]
  },
  {
   "cell_type": "code",
   "execution_count": 23,
   "metadata": {},
   "outputs": [],
   "source": [
    "X_train, X_test, y_train, y_test = train_test_split(iris.data, iris.target, test_size=0.1, stratify=iris.target)"
   ]
  },
  {
   "cell_type": "code",
   "execution_count": 24,
   "metadata": {},
   "outputs": [
    {
     "name": "stdout",
     "output_type": "stream",
     "text": [
      "CPU times: user 3.7 ms, sys: 48 µs, total: 3.74 ms\n",
      "Wall time: 4.9 ms\n"
     ]
    },
    {
     "data": {
      "text/plain": [
       "KNeighborsClassifier(algorithm='kd_tree', leaf_size=30, metric='minkowski',\n",
       "                     metric_params=None, n_jobs=None, n_neighbors=2, p=2,\n",
       "                     weights='uniform')"
      ]
     },
     "execution_count": 24,
     "metadata": {},
     "output_type": "execute_result"
    }
   ],
   "source": [
    "%time clf.fit(X_train, y_train)"
   ]
  },
  {
   "cell_type": "code",
   "execution_count": 25,
   "metadata": {},
   "outputs": [
    {
     "name": "stdout",
     "output_type": "stream",
     "text": [
      "360 µs ± 58.1 µs per loop (mean ± std. dev. of 7 runs, 1000 loops each)\n"
     ]
    }
   ],
   "source": [
    "%timeit clf.fit(X_train, y_train)"
   ]
  },
  {
   "cell_type": "code",
   "execution_count": 26,
   "metadata": {},
   "outputs": [
    {
     "name": "stdout",
     "output_type": "stream",
     "text": [
      "CPU times: user 1.62 ms, sys: 19 µs, total: 1.64 ms\n",
      "Wall time: 1.38 ms\n"
     ]
    }
   ],
   "source": [
    "%time my_clf.fit(X_train, y_train)"
   ]
  },
  {
   "cell_type": "code",
   "execution_count": 27,
   "metadata": {},
   "outputs": [
    {
     "name": "stdout",
     "output_type": "stream",
     "text": [
      "75.4 µs ± 5.91 µs per loop (mean ± std. dev. of 7 runs, 10000 loops each)\n"
     ]
    }
   ],
   "source": [
    "%timeit my_clf.fit(X_train, y_train)"
   ]
  },
  {
   "cell_type": "code",
   "execution_count": 28,
   "metadata": {},
   "outputs": [
    {
     "name": "stdout",
     "output_type": "stream",
     "text": [
      "CPU times: user 9.87 ms, sys: 4 ms, total: 13.9 ms\n",
      "Wall time: 9.96 ms\n"
     ]
    },
    {
     "data": {
      "text/plain": [
       "array([1, 0, 1, 0, 0, 2, 1, 2, 1, 1, 0, 1, 2, 0, 2])"
      ]
     },
     "execution_count": 28,
     "metadata": {},
     "output_type": "execute_result"
    }
   ],
   "source": [
    "%time clf.predict(X_test)"
   ]
  },
  {
   "cell_type": "code",
   "execution_count": 29,
   "metadata": {},
   "outputs": [
    {
     "name": "stdout",
     "output_type": "stream",
     "text": [
      "881 µs ± 7.77 µs per loop (mean ± std. dev. of 7 runs, 1000 loops each)\n"
     ]
    }
   ],
   "source": [
    "%timeit clf.predict(X_test)"
   ]
  },
  {
   "cell_type": "code",
   "execution_count": 30,
   "metadata": {},
   "outputs": [
    {
     "name": "stdout",
     "output_type": "stream",
     "text": [
      "CPU times: user 6.06 ms, sys: 3.99 ms, total: 10 ms\n",
      "Wall time: 6.6 ms\n"
     ]
    },
    {
     "data": {
      "text/plain": [
       "array([1, 0, 1, 0, 0, 2, 1, 2, 1, 1, 0, 1, 2, 0, 2])"
      ]
     },
     "execution_count": 30,
     "metadata": {},
     "output_type": "execute_result"
    }
   ],
   "source": [
    "%time my_clf.predict(X_test)"
   ]
  },
  {
   "cell_type": "code",
   "execution_count": 31,
   "metadata": {},
   "outputs": [
    {
     "name": "stdout",
     "output_type": "stream",
     "text": [
      "714 µs ± 63.7 µs per loop (mean ± std. dev. of 7 runs, 1000 loops each)\n"
     ]
    }
   ],
   "source": [
    "%timeit my_clf.predict(X_test)"
   ]
  },
  {
   "cell_type": "code",
   "execution_count": 32,
   "metadata": {},
   "outputs": [
    {
     "name": "stdout",
     "output_type": "stream",
     "text": [
      "CPU times: user 1.74 ms, sys: 4.02 ms, total: 5.76 ms\n",
      "Wall time: 4.39 ms\n"
     ]
    },
    {
     "data": {
      "text/plain": [
       "array([[0., 1., 0.],\n",
       "       [1., 0., 0.],\n",
       "       [0., 1., 0.],\n",
       "       [1., 0., 0.],\n",
       "       [1., 0., 0.],\n",
       "       [0., 0., 1.],\n",
       "       [0., 1., 0.],\n",
       "       [0., 0., 1.],\n",
       "       [0., 1., 0.],\n",
       "       [0., 1., 0.],\n",
       "       [1., 0., 0.],\n",
       "       [0., 1., 0.],\n",
       "       [0., 0., 1.],\n",
       "       [1., 0., 0.],\n",
       "       [0., 0., 1.]])"
      ]
     },
     "execution_count": 32,
     "metadata": {},
     "output_type": "execute_result"
    }
   ],
   "source": [
    "%time clf.predict_proba(X_test)"
   ]
  },
  {
   "cell_type": "code",
   "execution_count": 33,
   "metadata": {},
   "outputs": [
    {
     "name": "stdout",
     "output_type": "stream",
     "text": [
      "424 µs ± 71.6 µs per loop (mean ± std. dev. of 7 runs, 1000 loops each)\n"
     ]
    }
   ],
   "source": [
    "%timeit clf.predict_proba(X_test)"
   ]
  },
  {
   "cell_type": "code",
   "execution_count": 34,
   "metadata": {},
   "outputs": [
    {
     "name": "stdout",
     "output_type": "stream",
     "text": [
      "CPU times: user 6.48 ms, sys: 3.99 ms, total: 10.5 ms\n",
      "Wall time: 8.05 ms\n"
     ]
    },
    {
     "data": {
      "text/plain": [
       "array([[0., 1., 0.],\n",
       "       [1., 0., 0.],\n",
       "       [0., 1., 0.],\n",
       "       [1., 0., 0.],\n",
       "       [1., 0., 0.],\n",
       "       [0., 0., 1.],\n",
       "       [0., 1., 0.],\n",
       "       [0., 0., 1.],\n",
       "       [0., 1., 0.],\n",
       "       [0., 1., 0.],\n",
       "       [1., 0., 0.],\n",
       "       [0., 1., 0.],\n",
       "       [0., 0., 1.],\n",
       "       [1., 0., 0.],\n",
       "       [0., 0., 1.]])"
      ]
     },
     "execution_count": 34,
     "metadata": {},
     "output_type": "execute_result"
    }
   ],
   "source": [
    "%time my_clf.predict_proba(X_test)"
   ]
  },
  {
   "cell_type": "code",
   "execution_count": 35,
   "metadata": {},
   "outputs": [
    {
     "name": "stdout",
     "output_type": "stream",
     "text": [
      "1.05 ms ± 9.76 µs per loop (mean ± std. dev. of 7 runs, 1000 loops each)\n"
     ]
    }
   ],
   "source": [
    "%timeit my_clf.predict_proba(X_test)"
   ]
  },
  {
   "cell_type": "code",
   "execution_count": 36,
   "metadata": {},
   "outputs": [],
   "source": [
    "assert abs(my_clf.score(X_test, y_test) - clf.score(X_test, y_test)) < 0.005, \"Score must be simillar\""
   ]
  },
  {
   "cell_type": "code",
   "execution_count": 37,
   "metadata": {},
   "outputs": [],
   "source": [
    "assert (my_clf.predict_proba(X_test) == clf.predict_proba(X_test)).all(), \"predict proba works incorrect :(\""
   ]
  },
  {
   "cell_type": "markdown",
   "metadata": {},
   "source": [
    "**Задание 4 (2.5 балла)**\n",
    "\n",
    "Рассмотрим новый датасет 20 newsgroups"
   ]
  },
  {
   "cell_type": "code",
   "execution_count": 38,
   "metadata": {},
   "outputs": [],
   "source": [
    "newsgroups = fetch_20newsgroups(subset='train', remove=['headers','footers', 'quotes'])"
   ]
  },
  {
   "cell_type": "code",
   "execution_count": 39,
   "metadata": {},
   "outputs": [],
   "source": [
    "data = newsgroups['data']\n",
    "target = newsgroups['target']"
   ]
  },
  {
   "cell_type": "markdown",
   "metadata": {},
   "source": [
    "Переведите во всех документах все буквы в нижний регистр и замените во всех документах символы, не\n",
    "являющиеся буквами и цифрами, на пробелы. Далее разбейте текста по пробельным символам на токены(термы/слова). Удалите текста, содержащие только пробелы."
   ]
  },
  {
   "cell_type": "code",
   "execution_count": 40,
   "metadata": {},
   "outputs": [],
   "source": [
    "import re\n",
    "tmp = list(\n",
    "    filter(\n",
    "        lambda tup: len(tup[0]) != 0,\n",
    "        zip(\n",
    "            map(\n",
    "                lambda s: s.split(),\n",
    "                map(\n",
    "                    lambda s: re.sub(r\"\\W\", \" \", s),\n",
    "                    map(lambda s: s.lower(), data)\n",
    "                )\n",
    "            ),\n",
    "            target\n",
    "        )\n",
    "    )\n",
    ")\n",
    "\n",
    "data_tok = []\n",
    "new_target = []\n",
    "for text, tg in tmp:\n",
    "    data_tok.append(text)\n",
    "    new_target.append(tg)\n",
    "#realize here\n",
    "# data_tok should be a list of lists of tokens for each line in data."
   ]
  },
  {
   "cell_type": "code",
   "execution_count": 41,
   "metadata": {},
   "outputs": [],
   "source": [
    "assert all(isinstance(row, (list, tuple)) for row in data_tok), \"please convert each line into a list of tokens (strings)\"\n",
    "assert all(all(isinstance(tok, str) for tok in row) for row in data_tok), \"please convert each line into a list of tokens (strings)\"\n",
    "is_latin = lambda tok: all('a' <= x.lower() <= 'z' for x in tok)\n",
    "assert all(map(lambda l: not is_latin(l) or l.islower() , map(' '.join, data_tok))), \"please make sure that you lowercase the data and drop spaced texts\""
   ]
  },
  {
   "cell_type": "markdown",
   "metadata": {},
   "source": [
    "Преобразуйте датасет в разреженную матрицу scipy.sparse.csr_matrix, где значение x в позиции (i, j)\n",
    "означает, что в документе i слово j встретилось x раз"
   ]
  },
  {
   "cell_type": "code",
   "execution_count": 42,
   "metadata": {},
   "outputs": [],
   "source": [
    "from scipy.sparse import csr_matrix\n",
    "indptr = [0]\n",
    "indices = []\n",
    "data = []\n",
    "dct = {}\n",
    "for doc in data_tok:\n",
    "    for word in doc:\n",
    "        index = dct.setdefault(word, len(dct))\n",
    "        indices.append(index)\n",
    "        data.append(1)\n",
    "    indptr.append(len(indices))\n",
    "\n",
    "docs = csr_matrix((data, indices, indptr), dtype=int)"
   ]
  },
  {
   "cell_type": "markdown",
   "metadata": {},
   "source": [
    "*Так мы получили векторное представление наших текстов. Значит можно приступать к задаче обучения модели*"
   ]
  },
  {
   "cell_type": "markdown",
   "metadata": {},
   "source": [
    "Реализуйте разбиение выборки для кросс-валидации на 3 фолдах. Разрешено использовать sklearn.cross_validation"
   ]
  },
  {
   "cell_type": "code",
   "execution_count": 43,
   "metadata": {},
   "outputs": [],
   "source": [
    "X_fold12, X_fold3, y_fold12, y_fold3 = train_test_split(docs, new_target, test_size=0.33, shuffle=False)"
   ]
  },
  {
   "cell_type": "code",
   "execution_count": 44,
   "metadata": {},
   "outputs": [],
   "source": [
    "X_fold1, X_fold2, y_fold1, y_fold2 = train_test_split(X_fold12, y_fold12, train_size=0.5, shuffle=False)"
   ]
  },
  {
   "cell_type": "markdown",
   "metadata": {},
   "source": [
    "Напишите метод, позволяющий найти оптимальное количество ближайших соседей(дающее максимальный score в среднем на валидации на 3 фолдах).\n",
    "Постройте график зависимости среднего score от количества соседей. Можно рассмотреть число соседей от 1 до 10."
   ]
  },
  {
   "cell_type": "code",
   "execution_count": 48,
   "metadata": {},
   "outputs": [],
   "source": [
    "#%%pycodestyle\n",
    "from scipy.sparse import vstack\n",
    "\n",
    "\n",
    "def get_average_score(x_folds, y_folds, n_neighbors, metric):\n",
    "    assert len(x_folds) == len(y_folds), \"x and y should have the same len\"\n",
    "    assert type(x_folds) is tuple and type(y_folds) is tuple, \"not tuple\"\n",
    "    sum_score = 0.0\n",
    "    for i in range(len(x_folds)):\n",
    "        clf = MyKNeighborsClassifier(\n",
    "            n_neighbors=n_neighbors, algorithm='brute', metric=metric\n",
    "        )\n",
    "\n",
    "        if i == 0:\n",
    "            x_train, x_test = vstack(x_folds[1::]), x_folds[0]\n",
    "            y_train, y_test = np.hstack(y_folds[1::]), y_folds[0]\n",
    "        elif i == len(x_folds) - 1:\n",
    "            x_train, x_test = vstack(x_folds[:-1:]), x_folds[-1]\n",
    "            y_train, y_test = np.hstack(y_folds[:-1:]), y_folds[-1]\n",
    "        else:\n",
    "            x_train, x_test = (\n",
    "                vstack(x_folds[:i:] + x_folds[i + 1::]), x_folds[i]\n",
    "            )\n",
    "            y_train, y_test = (\n",
    "                np.hstack(y_folds[:i:] + y_folds[i + 1::]), y_folds[i]\n",
    "            )\n",
    "\n",
    "        clf.fit(x_train, np.asarray(y_train))\n",
    "        sum_score += clf.score(x_test, np.asarray(y_test))\n",
    "\n",
    "    return sum_score / len(x_folds)\n"
   ]
  },
  {
   "cell_type": "code",
   "execution_count": 49,
   "metadata": {},
   "outputs": [],
   "source": [
    "from scipy.sparse import hstack\n",
    "import pandas as pd"
   ]
  },
  {
   "cell_type": "code",
   "execution_count": 50,
   "metadata": {},
   "outputs": [
    {
     "data": {
      "text/plain": [
       "<matplotlib.axes._subplots.AxesSubplot at 0x7ff7c52d7e48>"
      ]
     },
     "execution_count": 50,
     "metadata": {},
     "output_type": "execute_result"
    },
    {
     "data": {
      "image/png": "[encoded data removed]",
      "text/plain": [
       "<Figure size 432x288 with 1 Axes>"
      ]
     },
     "metadata": {},
     "output_type": "display_data"
    }
   ],
   "source": [
    "lst = []\n",
    "for k in range(1, 11):\n",
    "    lst.append([k, get_average_score((X_fold1, X_fold2, X_fold3), (y_fold1, y_fold2, y_fold3), k, 'minkowski')])\n",
    "\n",
    "df = pd.DataFrame(data=lst, columns=['n_neighbors', 'score'])\n",
    "sns.set(style=\"whitegrid\")\n",
    "sns.barplot(x=\"n_neighbors\", y=\"score\", data=df, color='b')"
   ]
  },
  {
   "cell_type": "markdown",
   "metadata": {},
   "source": [
    "Как изменится качество на валидации, если:\n",
    "\n",
    "1. Используется косинусная метрика вместо евклидовой.\n",
    "2. К текстам применяется TfIdf преобразование( sklearn.feature_extraction.text.TfidfTransformer)\n",
    "\n",
    "Сравните модели, выберите лучшую."
   ]
  },
  {
   "cell_type": "code",
   "execution_count": 51,
   "metadata": {},
   "outputs": [
    {
     "data": {
      "text/plain": [
       "<matplotlib.axes._subplots.AxesSubplot at 0x7ff7bd10d128>"
      ]
     },
     "execution_count": 51,
     "metadata": {},
     "output_type": "execute_result"
    },
    {
     "data": {
      "image/png": "[encoded data removed]",
      "text/plain": [
       "<Figure size 432x288 with 1 Axes>"
      ]
     },
     "metadata": {},
     "output_type": "display_data"
    }
   ],
   "source": [
    "lst = []\n",
    "for k in range(1, 11):\n",
    "    lst.append([k, get_average_score((X_fold1, X_fold2, X_fold3), (y_fold1, y_fold2, y_fold3), k, 'cosine')])\n",
    "\n",
    "df = pd.DataFrame(data=lst, columns=['n_neighbors', 'score'])\n",
    "sns.set(style=\"whitegrid\")\n",
    "sns.barplot(x=\"n_neighbors\", y=\"score\", data=df, color='b')"
   ]
  },
  {
   "cell_type": "code",
   "execution_count": 52,
   "metadata": {},
   "outputs": [],
   "source": [
    "from sklearn.feature_extraction.text import TfidfTransformer"
   ]
  },
  {
   "cell_type": "code",
   "execution_count": 53,
   "metadata": {},
   "outputs": [],
   "source": [
    "transformer = TfidfTransformer()\n",
    "t_docs = transformer.fit_transform(docs, new_target)\n",
    "X_fold12, X_fold3, y_fold12, y_fold3 = train_test_split(t_docs, new_target, test_size=0.33, shuffle=False)\n",
    "X_fold1, X_fold2, y_fold1, y_fold2 = train_test_split(X_fold12, y_fold12, train_size=0.5, shuffle=False)"
   ]
  },
  {
   "cell_type": "code",
   "execution_count": 54,
   "metadata": {},
   "outputs": [
    {
     "data": {
      "text/plain": [
       "<matplotlib.axes._subplots.AxesSubplot at 0x7ff7bca296d8>"
      ]
     },
     "execution_count": 54,
     "metadata": {},
     "output_type": "execute_result"
    },
    {
     "data": {
      "image/png": "[encoded data removed]",
      "text/plain": [
       "<Figure size 432x288 with 1 Axes>"
      ]
     },
     "metadata": {},
     "output_type": "display_data"
    }
   ],
   "source": [
    "lst = []\n",
    "for k in range(1, 11):\n",
    "    lst.append([k, get_average_score((X_fold1, X_fold2, X_fold3), (y_fold1, y_fold2, y_fold3), k, 'minkowski')])\n",
    "\n",
    "df = pd.DataFrame(data=lst, columns=['n_neighbors', 'score'])\n",
    "sns.set(style=\"whitegrid\")\n",
    "sns.barplot(x=\"n_neighbors\", y=\"score\", data=df, color='b')"
   ]
  },
  {
   "cell_type": "code",
   "execution_count": 55,
   "metadata": {},
   "outputs": [
    {
     "data": {
      "text/plain": [
       "<matplotlib.axes._subplots.AxesSubplot at 0x7ff7bc9d1860>"
      ]
     },
     "execution_count": 55,
     "metadata": {},
     "output_type": "execute_result"
    },
    {
     "data": {
      "image/png": "[encoded data removed]",
      "text/plain": [
       "<Figure size 432x288 with 1 Axes>"
      ]
     },
     "metadata": {},
     "output_type": "display_data"
    }
   ],
   "source": [
    "lst = []\n",
    "for k in range(1, 11):\n",
    "    lst.append([k, get_average_score((X_fold1, X_fold2, X_fold3), (y_fold1, y_fold2, y_fold3), k, 'cosine')])\n",
    "\n",
    "df = pd.DataFrame(data=lst, columns=['n_neighbors', 'score'])\n",
    "sns.set(style=\"whitegrid\")\n",
    "sns.barplot(x=\"n_neighbors\", y=\"score\", data=df, color='b')"
   ]
  },
  {
   "cell_type": "markdown",
   "metadata": {},
   "source": [
    "Загрузим  теперь test  часть нашей выборки и преобразуем её аналогично с train частью. Не забудьте, что наборы слов в train и test части могут отличаться."
   ]
  },
  {
   "cell_type": "code",
   "execution_count": 56,
   "metadata": {},
   "outputs": [],
   "source": [
    "newsgroups = fetch_20newsgroups(subset='test',remove=['headers','footers', 'quotes'])"
   ]
  },
  {
   "cell_type": "markdown",
   "metadata": {},
   "source": [
    "Оценим качество(score) вашей лучшей модели на test части датасета. Отличается ли оно от кросс-валидации? Попробуйте сделать выводы, почему отличается качество."
   ]
  },
  {
   "cell_type": "code",
   "execution_count": 57,
   "metadata": {},
   "outputs": [],
   "source": [
    "data = newsgroups['data']\n",
    "target = newsgroups['target']\n",
    "import re\n",
    "tmp = list(\n",
    "    filter(\n",
    "        lambda tup: len(tup[0]) != 0,\n",
    "        zip(\n",
    "            map(\n",
    "                lambda s: s.split(),\n",
    "                map(\n",
    "                    lambda s: re.sub(r\"\\W\", \" \", s),\n",
    "                    map(lambda s: s.lower(), data)\n",
    "                )\n",
    "            ),\n",
    "            target\n",
    "        )\n",
    "    )\n",
    ")\n",
    "\n",
    "data_tok_test = []\n",
    "target_test = []\n",
    "for text, tg in tmp:\n",
    "    data_tok_test.append(text)\n",
    "    target_test.append(tg)"
   ]
  },
  {
   "cell_type": "code",
   "execution_count": 58,
   "metadata": {},
   "outputs": [],
   "source": [
    "indptr = [0]\n",
    "indices = []\n",
    "data = []\n",
    "# dct = {}\n",
    "for doc in data_tok_test:\n",
    "    for word in doc:\n",
    "        if word in dct:\n",
    "            index = dct.setdefault(word, len(dct))\n",
    "            indices.append(index)\n",
    "            data.append(1)\n",
    "    indptr.append(len(indices))\n",
    "\n",
    "docs = csr_matrix((data, indices, indptr), dtype=int)"
   ]
  },
  {
   "cell_type": "code",
   "execution_count": 59,
   "metadata": {},
   "outputs": [],
   "source": [
    "test_docs = transformer.transform(docs)"
   ]
  },
  {
   "cell_type": "code",
   "execution_count": 61,
   "metadata": {},
   "outputs": [
    {
     "data": {
      "text/plain": [
       "0.5409768778218634"
      ]
     },
     "execution_count": 61,
     "metadata": {},
     "output_type": "execute_result"
    }
   ],
   "source": [
    "clf = MyKNeighborsClassifier(n_neighbors=1, algorithm='brute', metric='cosine')\n",
    "clf.fit(t_docs, np.asarray(new_target))\n",
    "clf.score(test_docs, np.asarray(target_test))"
   ]
  },
  {
   "cell_type": "markdown",
   "metadata": {},
   "source": [
    "Качество отличается. Хочется объяснить это переобучением. Также это может быть связано с тем, что пришлось проигнорировать некоторые слова в тестовой выборке из-за использования TfidTransformer: из тестовых текстов взяты только те слова, которые были в обучаюшей выборке. Возможно, были выкинуты какие-то достаточно важные слова."
   ]
  },
  {
   "cell_type": "code",
   "execution_count": null,
   "metadata": {},
   "outputs": [],
   "source": []
  }
 ],
 "metadata": {
  "kernelspec": {
   "display_name": "spherePy",
   "language": "python",
   "name": "spherepy"
  },
  "language_info": {
   "codemirror_mode": {
    "name": "ipython",
    "version": 3
   },
   "file_extension": ".py",
   "mimetype": "text/x-python",
   "name": "python",
   "nbconvert_exporter": "python",
   "pygments_lexer": "ipython3",
   "version": "3.7.3"
  }
 },
 "nbformat": 4,
 "nbformat_minor": 4
}
