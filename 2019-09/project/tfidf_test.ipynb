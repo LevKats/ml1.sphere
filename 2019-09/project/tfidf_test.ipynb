{
  "nbformat": 4,
  "nbformat_minor": 0,
  "metadata": {
    "colab": {
      "name": "tfidf_test.ipynb",
      "provenance": [],
      "collapsed_sections": [],
      "toc_visible": true
    },
    "kernelspec": {
      "name": "python3",
      "display_name": "Python 3"
    }
  },
  "cells": [
    {
      "cell_type": "code",
      "metadata": {
        "id": "ynnG5Zk7YYWc",
        "colab_type": "code",
        "outputId": "1e06a579-3f8a-46f3-8fba-83311cb98588",
        "colab": {
          "base_uri": "https://localhost:8080/",
          "height": 34
        }
      },
      "source": [
        "from google.colab import drive\n",
        "drive.mount('/content/drive')"
      ],
      "execution_count": 0,
      "outputs": [
        {
          "output_type": "stream",
          "text": [
            "Drive already mounted at /content/drive; to attempt to forcibly remount, call drive.mount(\"/content/drive\", force_remount=True).\n"
          ],
          "name": "stdout"
        }
      ]
    },
    {
      "cell_type": "code",
      "metadata": {
        "id": "iE8zkVMfYZTO",
        "colab_type": "code",
        "colab": {}
      },
      "source": [
        "import pandas as pd\n",
        "import numpy as np"
      ],
      "execution_count": 0,
      "outputs": []
    },
    {
      "cell_type": "code",
      "metadata": {
        "id": "JNHegwaLQ_2r",
        "colab_type": "code",
        "colab": {}
      },
      "source": [
        "from tqdm import tqdm"
      ],
      "execution_count": 0,
      "outputs": []
    },
    {
      "cell_type": "code",
      "metadata": {
        "id": "Iz4KQ32xY7eZ",
        "colab_type": "code",
        "colab": {}
      },
      "source": [
        "titles = pd.read_csv(\n",
        "    \"/content/drive/My Drive/Colab Notebooks/docs_titles.tsv\",\n",
        "     sep=\"\\t\"\n",
        "     )\n",
        "groups = pd.read_csv(\n",
        "    \"/content/drive/My Drive/Colab Notebooks/train_groups.csv\",\n",
        "     sep=\",\"\n",
        "     )"
      ],
      "execution_count": 0,
      "outputs": []
    },
    {
      "cell_type": "code",
      "metadata": {
        "id": "h0gjYxVHZRBX",
        "colab_type": "code",
        "outputId": "7ec2232d-ef89-4d76-dce8-13c790b6c55d",
        "colab": {
          "base_uri": "https://localhost:8080/",
          "height": 206
        }
      },
      "source": [
        "titles.head()"
      ],
      "execution_count": 0,
      "outputs": [
        {
          "output_type": "execute_result",
          "data": {
            "text/html": [
              "<div>\n",
              "<style scoped>\n",
              "    .dataframe tbody tr th:only-of-type {\n",
              "        vertical-align: middle;\n",
              "    }\n",
              "\n",
              "    .dataframe tbody tr th {\n",
              "        vertical-align: top;\n",
              "    }\n",
              "\n",
              "    .dataframe thead th {\n",
              "        text-align: right;\n",
              "    }\n",
              "</style>\n",
              "<table border=\"1\" class=\"dataframe\">\n",
              "  <thead>\n",
              "    <tr style=\"text-align: right;\">\n",
              "      <th></th>\n",
              "      <th>doc_id</th>\n",
              "      <th>title</th>\n",
              "    </tr>\n",
              "  </thead>\n",
              "  <tbody>\n",
              "    <tr>\n",
              "      <th>0</th>\n",
              "      <td>15731</td>\n",
              "      <td>ВАЗ 21213 | Замена подшипников ступицы | Нива</td>\n",
              "    </tr>\n",
              "    <tr>\n",
              "      <th>1</th>\n",
              "      <td>14829</td>\n",
              "      <td>Ваз 2107 оптом в Сочи. Сравнить цены, купить п...</td>\n",
              "    </tr>\n",
              "    <tr>\n",
              "      <th>2</th>\n",
              "      <td>15764</td>\n",
              "      <td>Купить ступица Лада калина2. Трансмиссия - пер...</td>\n",
              "    </tr>\n",
              "    <tr>\n",
              "      <th>3</th>\n",
              "      <td>17669</td>\n",
              "      <td>Классика 21010 - 21074</td>\n",
              "    </tr>\n",
              "    <tr>\n",
              "      <th>4</th>\n",
              "      <td>14852</td>\n",
              "      <td>Ступица Нива — замена подшипника своими руками</td>\n",
              "    </tr>\n",
              "  </tbody>\n",
              "</table>\n",
              "</div>"
            ],
            "text/plain": [
              "   doc_id                                              title\n",
              "0   15731      ВАЗ 21213 | Замена подшипников ступицы | Нива\n",
              "1   14829  Ваз 2107 оптом в Сочи. Сравнить цены, купить п...\n",
              "2   15764  Купить ступица Лада калина2. Трансмиссия - пер...\n",
              "3   17669                             Классика 21010 - 21074\n",
              "4   14852     Ступица Нива — замена подшипника своими руками"
            ]
          },
          "metadata": {
            "tags": []
          },
          "execution_count": 70
        }
      ]
    },
    {
      "cell_type": "code",
      "metadata": {
        "id": "CjNO7U-YZfat",
        "colab_type": "code",
        "outputId": "0d63e6fb-74fe-4514-9268-c3673e0ad475",
        "colab": {
          "base_uri": "https://localhost:8080/",
          "height": 206
        }
      },
      "source": [
        "groups.head()"
      ],
      "execution_count": 0,
      "outputs": [
        {
          "output_type": "execute_result",
          "data": {
            "text/html": [
              "<div>\n",
              "<style scoped>\n",
              "    .dataframe tbody tr th:only-of-type {\n",
              "        vertical-align: middle;\n",
              "    }\n",
              "\n",
              "    .dataframe tbody tr th {\n",
              "        vertical-align: top;\n",
              "    }\n",
              "\n",
              "    .dataframe thead th {\n",
              "        text-align: right;\n",
              "    }\n",
              "</style>\n",
              "<table border=\"1\" class=\"dataframe\">\n",
              "  <thead>\n",
              "    <tr style=\"text-align: right;\">\n",
              "      <th></th>\n",
              "      <th>pair_id</th>\n",
              "      <th>group_id</th>\n",
              "      <th>doc_id</th>\n",
              "      <th>target</th>\n",
              "    </tr>\n",
              "  </thead>\n",
              "  <tbody>\n",
              "    <tr>\n",
              "      <th>0</th>\n",
              "      <td>1</td>\n",
              "      <td>1</td>\n",
              "      <td>15731</td>\n",
              "      <td>0</td>\n",
              "    </tr>\n",
              "    <tr>\n",
              "      <th>1</th>\n",
              "      <td>2</td>\n",
              "      <td>1</td>\n",
              "      <td>14829</td>\n",
              "      <td>0</td>\n",
              "    </tr>\n",
              "    <tr>\n",
              "      <th>2</th>\n",
              "      <td>3</td>\n",
              "      <td>1</td>\n",
              "      <td>15764</td>\n",
              "      <td>0</td>\n",
              "    </tr>\n",
              "    <tr>\n",
              "      <th>3</th>\n",
              "      <td>4</td>\n",
              "      <td>1</td>\n",
              "      <td>17669</td>\n",
              "      <td>0</td>\n",
              "    </tr>\n",
              "    <tr>\n",
              "      <th>4</th>\n",
              "      <td>5</td>\n",
              "      <td>1</td>\n",
              "      <td>14852</td>\n",
              "      <td>0</td>\n",
              "    </tr>\n",
              "  </tbody>\n",
              "</table>\n",
              "</div>"
            ],
            "text/plain": [
              "   pair_id  group_id  doc_id  target\n",
              "0        1         1   15731       0\n",
              "1        2         1   14829       0\n",
              "2        3         1   15764       0\n",
              "3        4         1   17669       0\n",
              "4        5         1   14852       0"
            ]
          },
          "metadata": {
            "tags": []
          },
          "execution_count": 71
        }
      ]
    },
    {
      "cell_type": "code",
      "metadata": {
        "id": "KfVjSkk8lpGl",
        "colab_type": "code",
        "colab": {}
      },
      "source": [
        "dct = {}\n",
        "for (doc_id, title) in zip(titles.doc_id, titles.title):\n",
        "  dct[doc_id] = title\n",
        "titles_to_merge = []\n",
        "for doc_id in groups.doc_id:\n",
        "  titles_to_merge.append(dct[doc_id])\n",
        "docs_merged = groups.copy()\n",
        "docs_merged[\"title\"] = pd.Series(titles_to_merge)"
      ],
      "execution_count": 0,
      "outputs": []
    },
    {
      "cell_type": "code",
      "metadata": {
        "id": "8PGQ2-LqaAGT",
        "colab_type": "code",
        "outputId": "9a071ba7-fe75-49c1-92a9-8b4a8320a9f6",
        "colab": {
          "base_uri": "https://localhost:8080/",
          "height": 206
        }
      },
      "source": [
        "with open(\"titles_merged.csv\", \"w\") as f:\n",
        "  f.write(docs_merged.to_csv())\n",
        "docs_merged.head()"
      ],
      "execution_count": 0,
      "outputs": [
        {
          "output_type": "execute_result",
          "data": {
            "text/html": [
              "<div>\n",
              "<style scoped>\n",
              "    .dataframe tbody tr th:only-of-type {\n",
              "        vertical-align: middle;\n",
              "    }\n",
              "\n",
              "    .dataframe tbody tr th {\n",
              "        vertical-align: top;\n",
              "    }\n",
              "\n",
              "    .dataframe thead th {\n",
              "        text-align: right;\n",
              "    }\n",
              "</style>\n",
              "<table border=\"1\" class=\"dataframe\">\n",
              "  <thead>\n",
              "    <tr style=\"text-align: right;\">\n",
              "      <th></th>\n",
              "      <th>pair_id</th>\n",
              "      <th>group_id</th>\n",
              "      <th>doc_id</th>\n",
              "      <th>target</th>\n",
              "      <th>title</th>\n",
              "    </tr>\n",
              "  </thead>\n",
              "  <tbody>\n",
              "    <tr>\n",
              "      <th>0</th>\n",
              "      <td>1</td>\n",
              "      <td>1</td>\n",
              "      <td>15731</td>\n",
              "      <td>0</td>\n",
              "      <td>ВАЗ 21213 | Замена подшипников ступицы | Нива</td>\n",
              "    </tr>\n",
              "    <tr>\n",
              "      <th>1</th>\n",
              "      <td>2</td>\n",
              "      <td>1</td>\n",
              "      <td>14829</td>\n",
              "      <td>0</td>\n",
              "      <td>Ваз 2107 оптом в Сочи. Сравнить цены, купить п...</td>\n",
              "    </tr>\n",
              "    <tr>\n",
              "      <th>2</th>\n",
              "      <td>3</td>\n",
              "      <td>1</td>\n",
              "      <td>15764</td>\n",
              "      <td>0</td>\n",
              "      <td>Купить ступица Лада калина2. Трансмиссия - пер...</td>\n",
              "    </tr>\n",
              "    <tr>\n",
              "      <th>3</th>\n",
              "      <td>4</td>\n",
              "      <td>1</td>\n",
              "      <td>17669</td>\n",
              "      <td>0</td>\n",
              "      <td>Классика 21010 - 21074</td>\n",
              "    </tr>\n",
              "    <tr>\n",
              "      <th>4</th>\n",
              "      <td>5</td>\n",
              "      <td>1</td>\n",
              "      <td>14852</td>\n",
              "      <td>0</td>\n",
              "      <td>Ступица Нива — замена подшипника своими руками</td>\n",
              "    </tr>\n",
              "  </tbody>\n",
              "</table>\n",
              "</div>"
            ],
            "text/plain": [
              "   pair_id  group_id  ...  target                                              title\n",
              "0        1         1  ...       0      ВАЗ 21213 | Замена подшипников ступицы | Нива\n",
              "1        2         1  ...       0  Ваз 2107 оптом в Сочи. Сравнить цены, купить п...\n",
              "2        3         1  ...       0  Купить ступица Лада калина2. Трансмиссия - пер...\n",
              "3        4         1  ...       0                             Классика 21010 - 21074\n",
              "4        5         1  ...       0     Ступица Нива — замена подшипника своими руками\n",
              "\n",
              "[5 rows x 5 columns]"
            ]
          },
          "metadata": {
            "tags": []
          },
          "execution_count": 73
        }
      ]
    },
    {
      "cell_type": "code",
      "metadata": {
        "id": "pjduMmaBcPs0",
        "colab_type": "code",
        "colab": {}
      },
      "source": [
        "docs_merged.title = docs_merged.title.fillna(\"\")\n",
        "X = docs_merged[\"title\"]\n",
        "y = docs_merged[\"target\"]"
      ],
      "execution_count": 0,
      "outputs": []
    },
    {
      "cell_type": "markdown",
      "metadata": {
        "id": "TlbHYgrVfoxo",
        "colab_type": "text"
      },
      "source": [
        "Я там нашел 16 отсутствующих заголовков. Их мало, и потому я слегка забил и заполнил их пустотой, подумав, что в этом есть некоторый физический смысл"
      ]
    },
    {
      "cell_type": "code",
      "metadata": {
        "id": "pR01ih-3czqr",
        "colab_type": "code",
        "colab": {}
      },
      "source": [
        "from sklearn.feature_extraction.text import TfidfVectorizer\n",
        "from sklearn.manifold import TSNE"
      ],
      "execution_count": 0,
      "outputs": []
    },
    {
      "cell_type": "code",
      "metadata": {
        "id": "kt4Qr6MkdPYn",
        "colab_type": "code",
        "outputId": "4f99d419-3ead-4c3e-f06e-800d0e5b5cfe",
        "colab": {
          "base_uri": "https://localhost:8080/",
          "height": 139
        }
      },
      "source": [
        "vectorizer = TfidfVectorizer(ngram_range=(1, 3), max_df=2.0)\n",
        "vectorizer.fit(X)"
      ],
      "execution_count": 0,
      "outputs": [
        {
          "output_type": "execute_result",
          "data": {
            "text/plain": [
              "TfidfVectorizer(analyzer='word', binary=False, decode_error='strict',\n",
              "                dtype=<class 'numpy.float64'>, encoding='utf-8',\n",
              "                input='content', lowercase=True, max_df=2.0, max_features=None,\n",
              "                min_df=1, ngram_range=(1, 3), norm='l2', preprocessor=None,\n",
              "                smooth_idf=True, stop_words=None, strip_accents=None,\n",
              "                sublinear_tf=False, token_pattern='(?u)\\\\b\\\\w\\\\w+\\\\b',\n",
              "                tokenizer=None, use_idf=True, vocabulary=None)"
            ]
          },
          "metadata": {
            "tags": []
          },
          "execution_count": 76
        }
      ]
    },
    {
      "cell_type": "markdown",
      "metadata": {
        "id": "xuH0A-q1fia8",
        "colab_type": "text"
      },
      "source": [
        "А сейчас попробуем сделать какие-то фичи на основе попарных расстояний"
      ]
    },
    {
      "cell_type": "code",
      "metadata": {
        "id": "g1sL_xBLdkYk",
        "colab_type": "code",
        "colab": {}
      },
      "source": [
        "from sklearn.metrics import pairwise_distances\n",
        "from sklearn.preprocessing import StandardScaler"
      ],
      "execution_count": 0,
      "outputs": []
    },
    {
      "cell_type": "code",
      "metadata": {
        "id": "IW9Avszyf-Ga",
        "colab_type": "code",
        "colab": {}
      },
      "source": [
        "groups_indixes = groups.group_id.unique()\n",
        "X_train = []\n",
        "\n",
        "for group_id in groups_indixes:\n",
        "  group_x = vectorizer.transform(\n",
        "      docs_merged[docs_merged.group_id == group_id].title\n",
        "      )\n",
        "  features = np.sort(np.asarray(\n",
        "      pairwise_distances(group_x, metric='cosine')\n",
        "      ))[::,1:21:]\n",
        "  X_train.append(features)\n",
        "X_train = np.vstack(X_train)\n",
        "X_train = StandardScaler().fit_transform(X_train)"
      ],
      "execution_count": 0,
      "outputs": []
    },
    {
      "cell_type": "code",
      "metadata": {
        "id": "3mEl8zQvjGgg",
        "colab_type": "code",
        "outputId": "f8d27ab1-0ff0-42ec-d520-63c7d67d3df7",
        "colab": {
          "base_uri": "https://localhost:8080/",
          "height": 34
        }
      },
      "source": [
        "X_train.shape"
      ],
      "execution_count": 0,
      "outputs": [
        {
          "output_type": "execute_result",
          "data": {
            "text/plain": [
              "(11690, 20)"
            ]
          },
          "metadata": {
            "tags": []
          },
          "execution_count": 79
        }
      ]
    },
    {
      "cell_type": "code",
      "metadata": {
        "id": "qhGBdIzBjofI",
        "colab_type": "code",
        "colab": {}
      },
      "source": [
        "import matplotlib.pyplot as plt\n",
        "\n",
        "%matplotlib inline\n",
        "\n",
        "plt.style.use('ggplot')\n",
        "plt.rcParams['figure.figsize'] = (20,10)"
      ],
      "execution_count": 0,
      "outputs": []
    },
    {
      "cell_type": "code",
      "metadata": {
        "id": "4_J-K8x3npAO",
        "colab_type": "code",
        "outputId": "07ffea29-84c8-463e-8bd8-f541eb74328b",
        "colab": {
          "base_uri": "https://localhost:8080/",
          "height": 592
        }
      },
      "source": [
        "y = docs_merged.target\n",
        "\n",
        "for (i, group) in enumerate([39, 4, 100, 14, 48, 63]):\n",
        "  X_embedded = TSNE(\n",
        "      n_components=2,\n",
        "      metric='cosine'\n",
        "      ).fit_transform(\n",
        "      vectorizer.transform(\n",
        "          docs_merged[docs_merged.group_id == group].title\n",
        "          ).toarray(),\n",
        "      )\n",
        "  plt.subplot(2, 3, i + 1)\n",
        "  plt.scatter(X_embedded[::, 0], X_embedded[::, 1],\n",
        "              c=y[docs_merged.group_id == group])\n",
        "plt.show()"
      ],
      "execution_count": 0,
      "outputs": [
        {
          "output_type": "display_data",
          "data": {
            "image/png": "[encoded data removed]",
            "text/plain": [
              "<Figure size 1440x720 with 6 Axes>"
            ]
          },
          "metadata": {
            "tags": []
          }
        }
      ]
    },
    {
      "cell_type": "markdown",
      "metadata": {
        "id": "yl3IoiZb4NoJ",
        "colab_type": "text"
      },
      "source": [
        "Возможно, делится не так уж и хорошо..."
      ]
    },
    {
      "cell_type": "code",
      "metadata": {
        "id": "-gA0IUqfonQ5",
        "colab_type": "code",
        "colab": {}
      },
      "source": [
        "from sklearn.linear_model import LogisticRegression\n",
        "from sklearn.linear_model import LinearRegression\n",
        "from  sklearn.linear_model import LogisticRegressionCV\n",
        "from  sklearn.linear_model import RidgeCV\n",
        "from sklearn.linear_model import Ridge\n",
        "\n",
        "from sklearn.model_selection import LeavePGroupsOut\n",
        "from sklearn.model_selection import GroupKFold\n",
        "\n",
        "from sklearn.metrics import f1_score\n",
        "from sklearn.metrics import roc_auc_score"
      ],
      "execution_count": 0,
      "outputs": []
    },
    {
      "cell_type": "code",
      "metadata": {
        "id": "X0EPOr-9Sb7Q",
        "colab_type": "code",
        "colab": {}
      },
      "source": [
        "# нужно, чтобы пихать в стандартные CV\n",
        "class MyFoldGenerator:\n",
        "  def __init__(self, groups, n_splits=1, cv=None):\n",
        "    self.__n_splits = n_splits\n",
        "    self.__groups = groups\n",
        "    if cv is not None:\n",
        "      self.__cv = cv\n",
        "    else:\n",
        "      self.__cv = LeavePGroupsOut(self.__n_splits) \n",
        "  def split(self, X, y, *args):\n",
        "    yield from self.__cv.split(X, y, self.__groups)\n",
        "  def get_n_splits(self, X, y, *args):\n",
        "    return self.__cv.get_n_splits(X, y, self.__groups)"
      ],
      "execution_count": 0,
      "outputs": []
    },
    {
      "cell_type": "code",
      "metadata": {
        "id": "PcgiG91yY01k",
        "colab_type": "code",
        "colab": {}
      },
      "source": [
        "def cross_validation(\n",
        "    model, X, y, groups, cv=None,\n",
        "    score_func=f1_score, treshold=None, \n",
        "    use_tqdm=True\n",
        "    ):\n",
        "  score = 0\n",
        "  if cv is None:\n",
        "    cv = LeavePGroupsOut(1)\n",
        "  seq = cv.split(X, y, groups)\n",
        "  if use_tqdm:\n",
        "    seq = tqdm(list(seq))\n",
        "  count = 0\n",
        "  for (train, test) in seq:\n",
        "    model.fit(X[train], y[train])\n",
        "    if treshold is not None:\n",
        "      score += score_func(\n",
        "          y[test], model.predict(X[test]) > treshold\n",
        "          ) * y[test].shape[0]\n",
        "    else:\n",
        "      score += score_func(\n",
        "          y[test], model.predict(X[test])\n",
        "          ) * y[test].shape[0]\n",
        "    count += 1\n",
        "  return score / y.shape[0]"
      ],
      "execution_count": 0,
      "outputs": []
    },
    {
      "cell_type": "code",
      "metadata": {
        "id": "VVDckE8RWAY5",
        "colab_type": "code",
        "colab": {}
      },
      "source": [
        "cv = MyFoldGenerator(groups=docs_merged.group_id, cv=GroupKFold(10))"
      ],
      "execution_count": 0,
      "outputs": []
    },
    {
      "cell_type": "code",
      "metadata": {
        "id": "sjqY2ihZprVJ",
        "colab_type": "code",
        "outputId": "80e6df6c-c50d-41fe-c340-47ff3efcdf2c",
        "colab": {
          "base_uri": "https://localhost:8080/",
          "height": 34
        }
      },
      "source": [
        "clf = RidgeCV(\n",
        "    alphas=np.logspace(0.1, 10, 100),\n",
        "    cv=cv, scoring=\"roc_auc\"\n",
        "    ).fit(X_train, y)\n",
        "clf_ridge = Ridge(alpha=clf.alpha_)\n",
        "cross_validation(\n",
        "    clf_ridge, X_train[::, ::], y, docs_merged.group_id,\n",
        "     cv, roc_auc_score, use_tqdm=False\n",
        "     )"
      ],
      "execution_count": 0,
      "outputs": [
        {
          "output_type": "execute_result",
          "data": {
            "text/plain": [
              "0.8722506909618358"
            ]
          },
          "metadata": {
            "tags": []
          },
          "execution_count": 86
        }
      ]
    },
    {
      "cell_type": "code",
      "metadata": {
        "id": "UQL539o-vHnG",
        "colab_type": "code",
        "outputId": "a8b67e3e-c834-4a38-caf0-5ce23d0dd9b3",
        "colab": {
          "base_uri": "https://localhost:8080/",
          "height": 609
        }
      },
      "source": [
        "trs, scores = [], []\n",
        "for treshold in tqdm(np.linspace(0, 0.35, 35)):\n",
        "  scores.append(cross_validation(\n",
        "    clf_ridge, X_train[::, ::], y, docs_merged.group_id,\n",
        "    cv, f1_score, treshold=treshold, use_tqdm=False\n",
        "    ))\n",
        "  trs.append(treshold)\n",
        "plt.plot(trs, scores)\n",
        "plt.show()"
      ],
      "execution_count": 0,
      "outputs": [
        {
          "output_type": "stream",
          "text": [
            "100%|██████████| 35/35 [00:03<00:00,  9.45it/s]\n"
          ],
          "name": "stderr"
        },
        {
          "output_type": "display_data",
          "data": {
            "image/png": "[encoded data removed]",
            "text/plain": [
              "<Figure size 1440x720 with 1 Axes>"
            ]
          },
          "metadata": {
            "tags": []
          }
        }
      ]
    },
    {
      "cell_type": "code",
      "metadata": {
        "id": "bbClyEyggdtE",
        "colab_type": "code",
        "outputId": "74f863c0-a752-45e3-da95-5a3dc82e1994",
        "colab": {
          "base_uri": "https://localhost:8080/",
          "height": 86
        }
      },
      "source": [
        "!pip install pymorphy2"
      ],
      "execution_count": 0,
      "outputs": [
        {
          "output_type": "stream",
          "text": [
            "Requirement already satisfied: pymorphy2 in /usr/local/lib/python3.6/dist-packages (0.8)\n",
            "Requirement already satisfied: dawg-python>=0.7 in /usr/local/lib/python3.6/dist-packages (from pymorphy2) (0.7.2)\n",
            "Requirement already satisfied: pymorphy2-dicts<3.0,>=2.4 in /usr/local/lib/python3.6/dist-packages (from pymorphy2) (2.4.393442.3710985)\n",
            "Requirement already satisfied: docopt>=0.6 in /usr/local/lib/python3.6/dist-packages (from pymorphy2) (0.6.2)\n"
          ],
          "name": "stdout"
        }
      ]
    },
    {
      "cell_type": "markdown",
      "metadata": {
        "id": "5cpkS8CP4C7j",
        "colab_type": "text"
      },
      "source": [
        "Хочу попробовать лемминг"
      ]
    },
    {
      "cell_type": "code",
      "metadata": {
        "id": "DnWDGqP01-mM",
        "colab_type": "code",
        "colab": {}
      },
      "source": [
        "import pymorphy2"
      ],
      "execution_count": 0,
      "outputs": []
    },
    {
      "cell_type": "code",
      "metadata": {
        "id": "Zt32vtjq1kz6",
        "colab_type": "code",
        "colab": {}
      },
      "source": [
        "morph = pymorphy2.MorphAnalyzer()"
      ],
      "execution_count": 0,
      "outputs": []
    },
    {
      "cell_type": "markdown",
      "metadata": {
        "id": "JoxA9LuF62Vz",
        "colab_type": "text"
      },
      "source": [
        "Попробуем пока забить на слова, которые не будут русскими. И на числа тоже пока. Вообще слово у нас пока будет довольно простое -- строчные буквы + мб дефис. Пока никаких аббревиатур и прочих радостей"
      ]
    },
    {
      "cell_type": "code",
      "metadata": {
        "id": "ZXkQ_Z9b838t",
        "colab_type": "code",
        "colab": {}
      },
      "source": [
        "import re"
      ],
      "execution_count": 0,
      "outputs": []
    },
    {
      "cell_type": "code",
      "metadata": {
        "id": "JX_htbrg7-LK",
        "colab_type": "code",
        "colab": {}
      },
      "source": [
        "# pattern = re.compile(r'[а-я]+\\-?[а-я]*|[a-z]+\\-?[a-z]*|[0-9]+')\n",
        "pattern = re.compile(\n",
        "    (r'[a-z]+\\-?[a-z]*\\.[a-z]{2}|[а-я]+\\-?[а-я]*\\.[а-я]{2}|'\n",
        "    '[а-я]+\\-?[а-я]*|[a-z]+\\-?[a-z]*|[0-9]+')\n",
        ")"
      ],
      "execution_count": 0,
      "outputs": []
    },
    {
      "cell_type": "code",
      "metadata": {
        "id": "2yFaVNfE5eAP",
        "colab_type": "code",
        "colab": {}
      },
      "source": [
        "titles = list(map(\n",
        "    lambda title: re.findall(pattern, title.lower()),\n",
        "    docs_merged.title)\n",
        ")"
      ],
      "execution_count": 0,
      "outputs": []
    },
    {
      "cell_type": "code",
      "metadata": {
        "id": "pNhfcawC5op5",
        "colab_type": "code",
        "colab": {}
      },
      "source": [
        "lemmed_titles = []\n",
        "all_words = set()\n",
        "for title in titles:\n",
        "  lemmed_title = []\n",
        "  for word in title:\n",
        "    all_words.add(word)\n",
        "    lemmed_title.append(morph.parse(word)[0].normal_form)\n",
        "  lemmed_titles.append(lemmed_title)\n",
        "titles = np.asarray(list(map(\" \".join, lemmed_titles)))"
      ],
      "execution_count": 0,
      "outputs": []
    },
    {
      "cell_type": "code",
      "metadata": {
        "id": "rhqRb1W3-rwI",
        "colab_type": "code",
        "outputId": "ce80eb2c-ffc0-4a9a-d1dd-38ced325a896",
        "colab": {
          "base_uri": "https://localhost:8080/",
          "height": 156
        }
      },
      "source": [
        "vectorizer = TfidfVectorizer(ngram_range=(1, 3), token_pattern=pattern)\n",
        "vectorizer.fit(titles)"
      ],
      "execution_count": 0,
      "outputs": [
        {
          "output_type": "execute_result",
          "data": {
            "text/plain": [
              "TfidfVectorizer(analyzer='word', binary=False, decode_error='strict',\n",
              "                dtype=<class 'numpy.float64'>, encoding='utf-8',\n",
              "                input='content', lowercase=True, max_df=1.0, max_features=None,\n",
              "                min_df=1, ngram_range=(1, 3), norm='l2', preprocessor=None,\n",
              "                smooth_idf=True, stop_words=None, strip_accents=None,\n",
              "                sublinear_tf=False,\n",
              "                token_pattern=re.compile('[a-z]+\\\\-?[a-z]*\\\\.[a-z]{2}|[а-я]+\\\\-?[а-я]*\\\\.[а-я]{2}|[а-я]+\\\\-?[а-я]*|[a-z]+\\\\-?[a-z]*|[0-9]+'),\n",
              "                tokenizer=None, use_idf=True, vocabulary=None)"
            ]
          },
          "metadata": {
            "tags": []
          },
          "execution_count": 95
        }
      ]
    },
    {
      "cell_type": "code",
      "metadata": {
        "id": "Y9w_4-MRW1IQ",
        "colab_type": "code",
        "outputId": "622fba79-9fe4-402f-b7f3-7d10e17fb208",
        "colab": {
          "base_uri": "https://localhost:8080/",
          "height": 34
        }
      },
      "source": [
        "pattern.findall(\"грамота.рф\")"
      ],
      "execution_count": 0,
      "outputs": [
        {
          "output_type": "execute_result",
          "data": {
            "text/plain": [
              "['грамота.рф']"
            ]
          },
          "metadata": {
            "tags": []
          },
          "execution_count": 96
        }
      ]
    },
    {
      "cell_type": "code",
      "metadata": {
        "id": "HhY75aUAAoqw",
        "colab_type": "code",
        "outputId": "7211729a-7693-4278-e60e-14d6f1164699",
        "colab": {
          "base_uri": "https://localhost:8080/",
          "height": 1000
        }
      },
      "source": [
        "vectorizer.get_feature_names()[10000::]"
      ],
      "execution_count": 0,
      "outputs": [
        {
          "output_type": "execute_result",
          "data": {
            "text/plain": [
              "['excel скачать',\n",
              " 'excel скачать бесплатно',\n",
              " 'excel скорый',\n",
              " 'excel скорый компьютерный',\n",
              " 'excel студопедия',\n",
              " 'excel управление',\n",
              " 'excel управление файл',\n",
              " 'excelsior',\n",
              " 'excelsior челентать',\n",
              " 'excelsior челентать франко',\n",
              " 'exceltip',\n",
              " 'exclusive',\n",
              " 'exclusive content',\n",
              " 'exclusive content ps',\n",
              " 'exdom',\n",
              " 'exdom 2',\n",
              " 'exdom 2 ru',\n",
              " 'exe',\n",
              " 'exe 7',\n",
              " 'exe 7 96',\n",
              " 'exe и',\n",
              " 'exe и как',\n",
              " 'exe скачать',\n",
              " 'exe скачать для',\n",
              " 'exe скачать код',\n",
              " 'executive-kino',\n",
              " 'expert',\n",
              " 'expert русский',\n",
              " 'expert русский drift',\n",
              " 'expertoza',\n",
              " 'experts',\n",
              " 'explorer',\n",
              " 'explorer от',\n",
              " 'explorer от 2005',\n",
              " 'express',\n",
              " 'extended',\n",
              " 'extended weapon',\n",
              " 'extended weapon mods',\n",
              " 'extension',\n",
              " 'external',\n",
              " 'external usb',\n",
              " 'external usb hard',\n",
              " 'extract.ru',\n",
              " 'extract.ru форум',\n",
              " 'extract.ru форум теория',\n",
              " 'extreme',\n",
              " 'extreme не',\n",
              " 'extreme не пользоваться',\n",
              " 'exynos',\n",
              " 'exynos 7872',\n",
              " 'exynos 7872 sintetiki',\n",
              " 'ezid',\n",
              " 'ezid в',\n",
              " 'ezid в инстагра',\n",
              " 'f',\n",
              " 'f 1',\n",
              " 'f 1 cd.ru',\n",
              " 'f a',\n",
              " 'f a q',\n",
              " 'f audio',\n",
              " 'f audio и',\n",
              " 'f panel',\n",
              " 'f panel f',\n",
              " 'f usb',\n",
              " 'f-links',\n",
              " 'f-links москва',\n",
              " 'facebook',\n",
              " 'facebook instagram',\n",
              " 'facebook instagram youtube',\n",
              " 'facebook без',\n",
              " 'facebook без ввод',\n",
              " 'facebook.co',\n",
              " 'facebook.co m',\n",
              " 'facebook.co m rapidshare.co',\n",
              " 'facte.ru',\n",
              " 'factory',\n",
              " 'factory вконтакте',\n",
              " 'fadex.ru',\n",
              " 'fadex.ru карта',\n",
              " 'fadex.ru карта сайт',\n",
              " 'fag',\n",
              " 'fag страница',\n",
              " 'fag страница 23',\n",
              " 'falconry',\n",
              " 'falconry festival',\n",
              " 'falconry festival 2009',\n",
              " 'fallout',\n",
              " 'fallout 4',\n",
              " 'fallout 4 witcher',\n",
              " 'fallout 4 мода',\n",
              " 'fallout yoffy.ru',\n",
              " 'falls',\n",
              " 'falls the',\n",
              " 'falls the mystery',\n",
              " 'fandeeff',\n",
              " 'fandom',\n",
              " 'fandom powered',\n",
              " 'fandom powered by',\n",
              " 'fanfiction',\n",
              " 'fantasy-book',\n",
              " 'faq',\n",
              " 'faq ps',\n",
              " 'faq ps 3',\n",
              " 'faq как',\n",
              " 'faq как устанавливать',\n",
              " 'faq по',\n",
              " 'faq по counter-strike',\n",
              " 'faq по акппа',\n",
              " 'faq по возвращение',\n",
              " 'faq по вопрос',\n",
              " 'faq по создание',\n",
              " 'faq страница',\n",
              " 'faq страница 45',\n",
              " 'faq форум',\n",
              " 'faq форум клуб',\n",
              " 'faq что',\n",
              " 'faq что взять',\n",
              " 'faqos',\n",
              " 'faqusha.ru',\n",
              " 'faqusha.ru сборник',\n",
              " 'faqusha.ru сборник игровой',\n",
              " 'farline',\n",
              " 'fashion-',\n",
              " 'fashion- провал',\n",
              " 'fashion- провал каннский',\n",
              " 'fast-torrent',\n",
              " 'fastmoney',\n",
              " 'fastmoney 24',\n",
              " 'fastmoney 24 hours.ru',\n",
              " 'fastmoney весь',\n",
              " 'fastmoney весь о',\n",
              " 'fatal',\n",
              " 'fatal error',\n",
              " 'favorite',\n",
              " 'favorite torrents',\n",
              " 'favorite torrents search',\n",
              " 'fb',\n",
              " 'fb 2',\n",
              " 'fb 2 rtf',\n",
              " 'fb 2 txt',\n",
              " 'fb 2 амманить',\n",
              " 'fb 2 куллиб',\n",
              " 'fb 2 либруська',\n",
              " 'feat',\n",
              " 'feat artik',\n",
              " 'feat artik вернуться',\n",
              " 'feat asti',\n",
              " 'feat asti весь',\n",
              " 'feat asti вспоминать',\n",
              " 'feat asti знаешь',\n",
              " 'feat asti мой',\n",
              " 'feat asti музыка',\n",
              " 'feat asti облако',\n",
              " 'feat asti половина',\n",
              " 'feat asti ты',\n",
              " 'feat asti-',\n",
              " 'feat asti- не',\n",
              " 'feat photo',\n",
              " 'feat photo training',\n",
              " 'feat если',\n",
              " 'feat если хотеть',\n",
              " 'feeder',\n",
              " 'feeling',\n",
              " 'feeling dance',\n",
              " 'feeling dance version',\n",
              " 'feels',\n",
              " 'feels so',\n",
              " 'feels so good',\n",
              " 'femida',\n",
              " 'femida 78',\n",
              " 'femida 78 team',\n",
              " 'fermer.ru',\n",
              " 'fermer.ru страница',\n",
              " 'fermer.ru страница 115',\n",
              " 'fermer.ru страница 37',\n",
              " 'fermer.ru фермер',\n",
              " 'fermer.ru фермер р',\n",
              " 'ferra.ru',\n",
              " 'ferroli',\n",
              " 'ferroli бытовой',\n",
              " 'ferroli бытовой и',\n",
              " 'fesda',\n",
              " 'fesda neasa',\n",
              " 'festival',\n",
              " 'festival 2009',\n",
              " 'festival de',\n",
              " 'festival de cannes',\n",
              " 'festival in',\n",
              " 'festival in scotland',\n",
              " 'ffclub',\n",
              " 'fiat',\n",
              " 'fiat albea',\n",
              " 'fiat albea алька',\n",
              " 'fiateivas',\n",
              " 'fictionbook',\n",
              " 'fiesta',\n",
              " 'fiesta club',\n",
              " 'fifa',\n",
              " 'fifa 10',\n",
              " 'fifa 10 x-box',\n",
              " 'fight',\n",
              " 'fight the',\n",
              " 'fight the bad',\n",
              " 'fighters',\n",
              " 'fighters samp',\n",
              " 'fighters samp gamemode',\n",
              " 'file',\n",
              " 'file archive',\n",
              " 'filefactory',\n",
              " 'filefactory безкоштовен',\n",
              " 'filefactory безкоштовен завантаженний',\n",
              " 'filehippo',\n",
              " 'filehippo портал',\n",
              " 'filehippo портал бесплатный',\n",
              " 'filesonic',\n",
              " 'filesowl',\n",
              " 'film',\n",
              " 'film музыка',\n",
              " 'film музыка без',\n",
              " 'film.ru',\n",
              " 'final',\n",
              " 'final для',\n",
              " 'final для gta',\n",
              " 'final файлодр',\n",
              " 'final файлодр скачать',\n",
              " 'finance.bl',\n",
              " 'finance.bl r.cc',\n",
              " 'finatica.by',\n",
              " 'finland',\n",
              " 'finland и',\n",
              " 'finland и я',\n",
              " 'finnish',\n",
              " 'finnish war',\n",
              " 'firearms',\n",
              " 'firearms mossberg',\n",
              " 'firearms mossberg remington',\n",
              " 'firefox',\n",
              " 'firefox бесплатный',\n",
              " 'firefox бесплатный веб-браузер',\n",
              " 'first',\n",
              " 'first ft',\n",
              " 'first ft po',\n",
              " 'first person',\n",
              " 'first person mod',\n",
              " 'fish.ru',\n",
              " 'fishing',\n",
              " 'fishing 1',\n",
              " 'fishing 1 10',\n",
              " 'fishing youtube',\n",
              " 'fitness',\n",
              " 'fitness online',\n",
              " 'fitoheel',\n",
              " 'fj',\n",
              " 'fj 2012',\n",
              " 'fl',\n",
              " 'fl studio',\n",
              " 'fl studio 10',\n",
              " 'fl studio 9',\n",
              " 'fl studo',\n",
              " 'fl studo профессиональный',\n",
              " 'flac',\n",
              " 'flac wv',\n",
              " 'flac wv wav',\n",
              " 'flash',\n",
              " 'flash a',\n",
              " 'flash a x',\n",
              " 'flash intro',\n",
              " 'flash intro banner',\n",
              " 'flash lite',\n",
              " 'flash lite 3',\n",
              " 'flash video',\n",
              " 'flash video downloader',\n",
              " 'flash zone',\n",
              " 'flash zone forum',\n",
              " 'flow',\n",
              " 'flowers',\n",
              " 'flowers daisies',\n",
              " 'flowers daisies youtube',\n",
              " 'flowery-blog',\n",
              " 'flstudio',\n",
              " 'flstudio вобла',\n",
              " 'flstudio вобла youtube',\n",
              " 'fluence-club.ru',\n",
              " 'fluence-club.ru форум',\n",
              " 'fluence-club.ru форум megane-',\n",
              " 'flv',\n",
              " 'flv roadreview',\n",
              " 'flyme',\n",
              " 'flyme 5',\n",
              " 'flyme 5 1',\n",
              " 'flyme 6',\n",
              " 'flyme 6 7',\n",
              " 'flyme в',\n",
              " 'flyme в ручной',\n",
              " 'fm',\n",
              " 'fm 107',\n",
              " 'fm 107 0',\n",
              " 'fm архив',\n",
              " 'fm архив fastmoney',\n",
              " 'fm вакансия',\n",
              " 'fm канал',\n",
              " 'fm канал общение',\n",
              " 'fma-',\n",
              " 'fma- fanfiction',\n",
              " 'fnh',\n",
              " 'fnh usa',\n",
              " 'fnh usa legacy',\n",
              " 'fo',\n",
              " 'fo всегда',\n",
              " 'fo всегда свежий',\n",
              " 'fokas',\n",
              " 'fokas интернет',\n",
              " 'fokas интернет компания',\n",
              " 'folk',\n",
              " 'folk rock',\n",
              " 'folk rock the',\n",
              " 'fonarevka.ru',\n",
              " 'fonarevka.ru вс',\n",
              " 'fonarevka.ru вс о',\n",
              " 'fonts',\n",
              " 'fonts wtd',\n",
              " 'fonts wtd оригинальный',\n",
              " 'foodclub.ru',\n",
              " 'football',\n",
              " 'football manager',\n",
              " 'football manager для',\n",
              " 'football shopping',\n",
              " 'football shopping part',\n",
              " 'for',\n",
              " 'for business',\n",
              " 'for business nightlife',\n",
              " 'for downloading',\n",
              " 'for downloading vdownloader',\n",
              " 'for free',\n",
              " 'for free 100',\n",
              " 'for men',\n",
              " 'for men in',\n",
              " 'for samp',\n",
              " 'for samp 3',\n",
              " 'for savefrom.ne',\n",
              " 'for savefrom.ne t',\n",
              " 'for you',\n",
              " 'for you хороший',\n",
              " 'ford',\n",
              " 'ford explorer',\n",
              " 'ford explorer от',\n",
              " 'forest',\n",
              " 'forest офф-лайна',\n",
              " 'forest офф-лайна турнир',\n",
              " 'forever',\n",
              " 'format',\n",
              " 'format sprint',\n",
              " 'format sprint telecom',\n",
              " 'forpost',\n",
              " 'forpost севастополь',\n",
              " 'forpost севастополь новость',\n",
              " 'fort',\n",
              " 'fort comme',\n",
              " 'fort comme la',\n",
              " 'forum',\n",
              " 'forum web-globus.de',\n",
              " 'forum игровой',\n",
              " 'forum игровой сообщество',\n",
              " 'forum киберфорум',\n",
              " 'forum киберфорум na',\n",
              " 'forum страница',\n",
              " 'forum страница 455',\n",
              " 'forum страница 64',\n",
              " 'forum утверждение',\n",
              " 'forum утверждение обвинительный',\n",
              " 'forum.an',\n",
              " 'forum.an astasia.ru',\n",
              " 'forum.an astasia.ru вече',\n",
              " 'forum.an astasia.ru дизайн',\n",
              " 'forum.an astasia.ru образ',\n",
              " 'forum.an astasia.ru остановить',\n",
              " 'forum.an astasia.ru ошибка',\n",
              " 'forum.ch',\n",
              " 'forum.ch ina-iphone.ru',\n",
              " 'forum.do',\n",
              " 'forum.do mik.ua',\n",
              " 'forum.op',\n",
              " 'forum.op ennet.ru',\n",
              " 'forum.op ennet.ru один',\n",
              " 'forum.ps',\n",
              " 'forum.ps y-lgu.sp',\n",
              " 'forum.ps y-lgu.sp b.ru',\n",
              " 'forumdaily',\n",
              " 'forumhouse',\n",
              " 'forums',\n",
              " 'forums курилка',\n",
              " 'fotoservistob',\n",
              " 'four',\n",
              " 'four seasons',\n",
              " 'four seasons hotel',\n",
              " 'fox',\n",
              " 'fox layly',\n",
              " 'fox layly стих',\n",
              " 'fox архив',\n",
              " 'fox архив civ.cl',\n",
              " 'fox ева',\n",
              " 'fox ева р',\n",
              " 'foxclub',\n",
              " 'foxclub forums',\n",
              " 'foxclub forums курилка',\n",
              " 'foxkirov.ru',\n",
              " 'fragmentariness',\n",
              " 'framaroot',\n",
              " 'framaroot root-device',\n",
              " 'framaroot root-device root',\n",
              " 'franchising',\n",
              " 'franchising издательство',\n",
              " 'franchising издательство креативный',\n",
              " 'fraui',\n",
              " 'fraui интернет',\n",
              " 'fraui интернет журнал',\n",
              " 'free',\n",
              " 'free 100',\n",
              " 'free 100 working',\n",
              " 'free download',\n",
              " 'free download and',\n",
              " 'free web',\n",
              " 'free web hosting',\n",
              " 'free with',\n",
              " 'free with crack',\n",
              " 'free youtube',\n",
              " 'free youtube download',\n",
              " 'free-pass.ru',\n",
              " 'free.ru',\n",
              " 'freebook.ne',\n",
              " 'freebook.ne t.ua',\n",
              " 'freeboot',\n",
              " 'freeboot механика',\n",
              " 'freeboot скачать',\n",
              " 'freeplay',\n",
              " 'freeplay самый',\n",
              " 'freeplay самый хороший',\n",
              " 'freeppt',\n",
              " 'freeppt 4',\n",
              " 'freeppt 4 u.co',\n",
              " 'freetime',\n",
              " 'freetime bon',\n",
              " 'freetime bon voyage',\n",
              " 'freud',\n",
              " 'friend',\n",
              " 'friend checker',\n",
              " 'friend checker autoupdater',\n",
              " 'friendship',\n",
              " 'friendship is',\n",
              " 'friendship is magic',\n",
              " 'friendship.te',\n",
              " 'friendship.te amforum.ru',\n",
              " 'friendship.te amforum.ru просмотр',\n",
              " 'from',\n",
              " 'from above',\n",
              " 'from above помощь',\n",
              " 'from liberty',\n",
              " 'from liberty city',\n",
              " 'from t-mobile',\n",
              " 'from t-mobile overview',\n",
              " 'frontieres',\n",
              " 'frontieres live-',\n",
              " 'frontieres live- сборка',\n",
              " 'frontpage',\n",
              " 'frontpage и',\n",
              " 'frontpage и internet',\n",
              " 'frozen',\n",
              " 'frozen throne',\n",
              " 'frozen throne 1',\n",
              " 'ft',\n",
              " 'ft lil',\n",
              " 'ft lil kong',\n",
              " 'ft po',\n",
              " 'ft po хороший',\n",
              " 'ftp',\n",
              " 'ftp server',\n",
              " 'ftp server установка',\n",
              " 'fu',\n",
              " 'fu bunny',\n",
              " 'fu panda',\n",
              " 'fu panda 2',\n",
              " 'fu panda 2008',\n",
              " 'fu panda 3',\n",
              " 'fu panda ruk',\n",
              " 'fu panda secrets',\n",
              " 'fu panda youtube',\n",
              " 'fu panda марк',\n",
              " 'fu panda обсуждение',\n",
              " 'fu скачать',\n",
              " 'fu скачать бесплатно',\n",
              " 'fuar',\n",
              " 'fuar hotel',\n",
              " 'fuar hotel istanbul',\n",
              " 'fuel',\n",
              " 'fuel mod',\n",
              " 'fuel mod final',\n",
              " 'full',\n",
              " 'full burst',\n",
              " 'full burst xbox',\n",
              " 'full softwares',\n",
              " 'full softwares free',\n",
              " 'full version',\n",
              " 'full version for',\n",
              " 'fullhub',\n",
              " 'fun',\n",
              " 'fun factory',\n",
              " 'fun factory вконтакте',\n",
              " 'funnycraft',\n",
              " 'funnycraft ip',\n",
              " 'funnycraft ip mc.fu',\n",
              " 'fury',\n",
              " 'fury 2015',\n",
              " 'fury 2015 web-dlrip',\n",
              " 'fut',\n",
              " 'fut kung',\n",
              " 'fut kung fu',\n",
              " 'fx',\n",
              " 'fx 45',\n",
              " 'fx 45 premiym',\n",
              " 'fxtrend.in',\n",
              " 'fxtrend.in fo',\n",
              " 'g',\n",
              " 'g 01',\n",
              " 'g 01 n',\n",
              " 'g 3',\n",
              " 'g 3 0',\n",
              " 'g 30',\n",
              " 'g 30 архив',\n",
              " 'g 7',\n",
              " 'g 7 youtube',\n",
              " 'g 73',\n",
              " 'g 73 jh',\n",
              " 'g 900',\n",
              " 'g 900 вопрос-ответ',\n",
              " 'g beta',\n",
              " 'g bittorrent',\n",
              " 'g bittorrent трекер',\n",
              " 'g catalyst',\n",
              " 'g catalyst механика',\n",
              " 'g stebuch',\n",
              " 'g где',\n",
              " 'g где мой',\n",
              " 'g загранпаспорт',\n",
              " 'g модем',\n",
              " 'g модем мтс',\n",
              " 'g модем от',\n",
              " 'g подробный',\n",
              " 'g подробный обзор',\n",
              " 'g просмотр',\n",
              " 'g просмотр тема',\n",
              " 'g прошивка',\n",
              " 'g прошивка на',\n",
              " 'g.ru',\n",
              " 'ga',\n",
              " 'ga рудольф',\n",
              " 'ga рудольф штейнер',\n",
              " 'gaga',\n",
              " 'gaga леди',\n",
              " 'gaga леди гага',\n",
              " 'gaga реферат',\n",
              " 'gaga реферат 2',\n",
              " 'gaivota',\n",
              " 'gaivota port',\n",
              " 'gaivota port liveinternet',\n",
              " 'galaxy',\n",
              " 'galaxy s',\n",
              " 'galaxy s iii',\n",
              " 'galaxy s iv',\n",
              " 'galinka',\n",
              " 'galinka 88',\n",
              " 'galinka 88 liveinternet',\n",
              " 'galinkha',\n",
              " 'game',\n",
              " 'game faq',\n",
              " 'game gta',\n",
              " 'game gta san',\n",
              " 'game world',\n",
              " 'game world страница',\n",
              " 'game сервер',\n",
              " 'game сервер сампа',\n",
              " 'game-fan',\n",
              " 'game-play.ru',\n",
              " 'game-play.ru новость',\n",
              " 'game-play.ru новость из',\n",
              " 'gameloft.co',\n",
              " 'gameloft.co m',\n",
              " 'gamemode',\n",
              " 'gamemode л',\n",
              " 'gamemode л гкий',\n",
              " 'gamemodes',\n",
              " 'gamemodes street',\n",
              " 'gamemodes street workout',\n",
              " 'gamer-mods.ru',\n",
              " 'games',\n",
              " 'gamesisart.ru',\n",
              " 'gamidroid.ru',\n",
              " 'gamidroid.ru хороший',\n",
              " 'gamidroid.ru хороший приложение',\n",
              " 'garden',\n",
              " 'gardening',\n",
              " 'gardening формирование',\n",
              " 'gardening формирование томат',\n",
              " 'gaudeamus',\n",
              " 'gay',\n",
              " 'gay toni',\n",
              " 'gay toni скачать',\n",
              " 'gay tony',\n",
              " 'gay tony simple',\n",
              " 'gay tony чит',\n",
              " 'gb',\n",
              " 'gb 8500',\n",
              " 'gb 8500 р',\n",
              " 'gb black',\n",
              " 'gb black ижевск',\n",
              " 'gb class',\n",
              " 'gb class 10',\n",
              " 'gb lte',\n",
              " 'gb lte silver',\n",
              " 'gb xbox',\n",
              " 'gb xbox 360',\n",
              " 'gb в',\n",
              " 'gb в набережная',\n",
              " 'gb играть',\n",
              " 'gb играть можно',\n",
              " 'gb плохой',\n",
              " 'gb страница',\n",
              " 'gb страница 2',\n",
              " 'gb формат',\n",
              " 'gb ч',\n",
              " 'gb ч рный',\n",
              " 'gda-mozhno.ru',\n",
              " 'gday.ru',\n",
              " 'gday.ru иммиграция',\n",
              " 'gday.ru иммиграция обучение',\n",
              " 'ge',\n",
              " 'ge 70',\n",
              " 'ge 70 0',\n",
              " 'gearbest',\n",
              " 'gearbest skuonline.ru',\n",
              " 'gearbest skuonline.ru обзор',\n",
              " 'gearbest.co',\n",
              " 'gearbest.co m',\n",
              " 'gearbest.co m страница',\n",
              " 'geektimes',\n",
              " 'geforce',\n",
              " 'geforce gtx',\n",
              " 'geforce gtx 660',\n",
              " 'gen',\n",
              " 'genby',\n",
              " 'genby.ru',\n",
              " 'generation-',\n",
              " 'generation- 5',\n",
              " 'generation- 5 купить',\n",
              " 'georgi',\n",
              " 'georgi watschnadse',\n",
              " 'georgui',\n",
              " 'georgui vatchnadze',\n",
              " 'gerasimova.uc',\n",
              " 'gerasimova.uc oz.ru',\n",
              " 'germany',\n",
              " 'germany обсуждение',\n",
              " 'germany обсуждение на',\n",
              " 'get',\n",
              " 'get to',\n",
              " 'get to work',\n",
              " 'getvideo',\n",
              " 'getvideo скачать',\n",
              " 'getvideo скачать видео',\n",
              " 'getz',\n",
              " 'getz autopeople',\n",
              " 'gf',\n",
              " 'gf мото',\n",
              " 'gf мото 500',\n",
              " 'ghosts',\n",
              " 'ghosts call',\n",
              " 'ghosts call of',\n",
              " 'ghour',\n",
              " 'ghour 3',\n",
              " 'ghour 3 fitoheel',\n",
              " 'gipertoniti',\n",
              " 'gipertoniyadavlenie-lechenie.mp',\n",
              " 'gipertoniyadavlenie-lechenie.mp tour.ru',\n",
              " 'girl',\n",
              " 'girl club',\n",
              " 'girl club скачать',\n",
              " 'girl crying',\n",
              " 'girl crying silicone',\n",
              " 'girl dj',\n",
              " 'girl dj polkovnik-rmx',\n",
              " 'girl mobilegeek.ru',\n",
              " 'girlsovets.ru',\n",
              " 'girsa.ru',\n",
              " 'gizmonews.ru',\n",
              " 'gkitfm.ru',\n",
              " 'glickrih',\n",
              " 'global',\n",
              " 'global colonization',\n",
              " 'global colonization глобальный',\n",
              " 'global offensive',\n",
              " 'global offensive и',\n",
              " 'gm',\n",
              " 'gm мода',\n",
              " 'gm мода rp',\n",
              " 'go',\n",
              " 'go abitsmarter',\n",
              " 'go abitsmarter yoffy.ru',\n",
              " 'go cs',\n",
              " 'go cs go',\n",
              " 'go csgo-play.ru',\n",
              " 'go h',\n",
              " 'go h 1',\n",
              " 'go http',\n",
              " 'go http csgo',\n",
              " 'go v',\n",
              " 'go v 2',\n",
              " 'go yoffy.ru',\n",
              " 'go весь',\n",
              " 'go весь консольный',\n",
              " 'go вконтакте',\n",
              " 'go вопрос',\n",
              " 'go вопрос новичок',\n",
              " 'go для',\n",
              " 'go для игра',\n",
              " 'go как',\n",
              " 'go как у',\n",
              " 'go команда',\n",
              " 'go команда для',\n",
              " 'go купить',\n",
              " 'go купить cs',\n",
              " 'go литр',\n",
              " 'go литр гкий',\n",
              " 'go менять',\n",
              " 'go менять прицел',\n",
              " 'go настройка',\n",
              " 'go настройка прицел',\n",
              " 'go прицел',\n",
              " 'go прицел по',\n",
              " 'go смотреть',\n",
              " 'go смотреть на',\n",
              " 'go стим',\n",
              " 'go стим и',\n",
              " 'go страница',\n",
              " 'go страница 2',\n",
              " 'go форум',\n",
              " 'go форум о',\n",
              " 'go фото',\n",
              " 'go фото как',\n",
              " 'gobesty',\n",
              " 'god',\n",
              " 'god s',\n",
              " 'god s holiday',\n",
              " 'godfather',\n",
              " 'godfather razdacha',\n",
              " 'godfather razdacha akk',\n",
              " 'goha.ru',\n",
              " 'gojob.kz',\n",
              " 'golbis',\n",
              " 'goldenshara.or',\n",
              " 'goldenshara.or g',\n",
              " 'goldenummka',\n",
              " 'gomez',\n",
              " 'gomez john',\n",
              " 'gomez john patterson',\n",
              " 'good',\n",
              " 'good to',\n",
              " 'good to be',\n",
              " 'good tube',\n",
              " 'good tube net',\n",
              " 'goodgame',\n",
              " 'goodgame restream',\n",
              " 'goodgame restream обзор',\n",
              " 'goodhouse.ru',\n",
              " 'google',\n",
              " 'google c',\n",
              " 'google c правка',\n",
              " 'google chrome',\n",
              " 'google chrome с',\n",
              " 'google chrome смотреть',\n",
              " 'google drive',\n",
              " 'google drive youtube',\n",
              " 'google metacafe',\n",
              " 'google metacafe savefrom.ne',\n",
              " 'google now',\n",
              " 'google now launcher',\n",
              " 'google play',\n",
              " 'google play в',\n",
              " 'google play на',\n",
              " 'google play плей',\n",
              " 'google play смотреть',\n",
              " 'google на',\n",
              " 'google на meizu',\n",
              " 'google на смартфон',\n",
              " 'google научиться',\n",
              " 'google научиться понимать',\n",
              " 'google с',\n",
              " 'google с meizu',\n",
              " 'google старт',\n",
              " 'google старт видео',\n",
              " 'google форма',\n",
              " 'google форма бесплатно',\n",
              " 'gorod',\n",
              " 'gorod 812',\n",
              " 'gprs',\n",
              " 'gps',\n",
              " 'gps на',\n",
              " 'gps на acer',\n",
              " 'gps на android',\n",
              " 'gps на андроид',\n",
              " 'gpt',\n",
              " 'gpt через',\n",
              " 'gpt через uefi',\n",
              " 'gpu',\n",
              " 'gpu газодинамика',\n",
              " 'gpu газодинамика гидродинамика',\n",
              " 'gq.ru',\n",
              " 'gr',\n",
              " 'gr 2150',\n",
              " 'gr 2150 tx',\n",
              " 'gr tis',\n",
              " 'grace',\n",
              " 'grace автобиография',\n",
              " 'gradesaver',\n",
              " 'gram',\n",
              " 'gram человечность',\n",
              " 'gram человечность правило',\n",
              " 'grand',\n",
              " 'grand hotel',\n",
              " 'grand hotel excelsior',\n",
              " 'grand theft',\n",
              " 'grand theft auto',\n",
              " 'granicenter',\n",
              " 'gravity',\n",
              " 'gravity falls',\n",
              " 'gravity falls the',\n",
              " 'gray',\n",
              " 'gray цена',\n",
              " 'gray цена купить',\n",
              " 'greecetoday.ru',\n",
              " 'green',\n",
              " 'green 2011',\n",
              " 'green 2011 год',\n",
              " 'green сайт',\n",
              " 'green сайт о',\n",
              " 'greig',\n",
              " 'greig reichel',\n",
              " 'greig reichel jsnjvy',\n",
              " 'gresley',\n",
              " 'gresley где',\n",
              " 'gresley где найти',\n",
              " 'griefing.ru',\n",
              " 'griefing.ru блог',\n",
              " 'griefing.ru блог ресурс-паки',\n",
              " 'group',\n",
              " 'group бытовой',\n",
              " 'group бытовой услуга',\n",
              " 'group на',\n",
              " 'group на метро',\n",
              " 'grouple.ru',\n",
              " 'groupmoney.ru',\n",
              " 'grub',\n",
              " 'grub 4',\n",
              " 'grub 4 dos',\n",
              " 'grumman',\n",
              " 'grumman tbf',\n",
              " 'grumman tbf tbm',\n",
              " 'grundig',\n",
              " 'grundig gr',\n",
              " 'grundig gr 2150',\n",
              " 'gs',\n",
              " 'gs b',\n",
              " 'gs b 520',\n",
              " 'gsconto',\n",
              " 'gsl',\n",
              " 'gsm',\n",
              " 'gsm форум',\n",
              " 'gsm форум gsmforum.su',\n",
              " 'gsm-zona',\n",
              " 'gsm-zona секрет',\n",
              " 'gsm-zona секрет ремонт',\n",
              " 'gsmforum.su',\n",
              " 'gspott',\n",
              " 'gspott урс',\n",
              " 'gspott урс кайфовать',\n",
              " 'gt',\n",
              " 'gt gt',\n",
              " 'gt gt и',\n",
              " 'gt gt полезный',\n",
              " 'gt и',\n",
              " 'gt и чем',\n",
              " 'gt полезный',\n",
              " 'gt-i',\n",
              " 'gt-i 9305',\n",
              " 'gt-i 9305 galaxy',\n",
              " 'gta',\n",
              " 'gta 3',\n",
              " 'gta 3 ini',\n",
              " 'gta 4',\n",
              " 'gta 4 anton',\n",
              " 'gta 4 beta',\n",
              " 'gta 4 episodes',\n",
              " 'gta 4 gta',\n",
              " 'gta 4 he',\n",
              " 'gta 4 hill',\n",
              " 'gta 4 infamous',\n",
              " 'gta 4 lignt',\n",
              " 'gta 4 the',\n",
              " 'gta 4 архив',\n",
              " 'gta 4 весь',\n",
              " 'gta 4 высота',\n",
              " 'gta 4 заспавнить',\n",
              " 'gta 4 как',\n",
              " 'gta 4 код',\n",
              " 'gta 4 общий',\n",
              " 'gta 4 одежда',\n",
              " 'gta 4 оригинальный',\n",
              " 'gta 4 официальный',\n",
              " 'gta 4 скачать',\n",
              " 'gta 4 скина',\n",
              " 'gta 5',\n",
              " 'gta 5 c',\n",
              " 'gta 5 cheats',\n",
              " 'gta 5 exclusive',\n",
              " 'gta 5 gta',\n",
              " 'gta 5 hd',\n",
              " 'gta 5 one',\n",
              " 'gta 5 online',\n",
              " 'gta 5 pc',\n",
              " 'gta 5 ps',\n",
              " 'gta 5 shop',\n",
              " 'gta 5 sony',\n",
              " 'gta 5 title',\n",
              " 'gta 5 xbox',\n",
              " 'gta 5 активация',\n",
              " 'gta 5 ввести',\n",
              " 'gta 5 где',\n",
              " 'gta 5 девочка',\n",
              " 'gta 5 для',\n",
              " 'gta 5 искать',\n",
              " 'gta 5 как',\n",
              " 'gta 5 какой',\n",
              " 'gta 5 карта',\n",
              " 'gta 5 ключ',\n",
              " 'gta 5 код',\n",
              " 'gta 5 лофофора',\n",
              " 'gta 5 на',\n",
              " 'gta 5 не',\n",
              " 'gta 5 обзор',\n",
              " 'gta 5 онлайн',\n",
              " 'gta 5 отметка',\n",
              " 'gta 5 перезагружаться',\n",
              " 'gta 5 пустыня',\n",
              " 'gta 5 скачать',\n",
              " 'gta 5 хороший',\n",
              " 'gta 5 чистый',\n",
              " 'gta 5 чоп',\n",
              " 'gta 5 что',\n",
              " 'gta deluks',\n",
              " 'gta iv',\n",
              " 'gta iv multiplayer',\n",
              " 'gta iv скачать',\n",
              " 'gta naruto',\n",
              " 'gta naruto gta',\n",
              " 'gta online',\n",
              " 'gta online c',\n",
              " 'gta online gta',\n",
              " 'gta online wiki',\n",
              " 'gta online код',\n",
              " 'gta online по',\n",
              " 'gta online тюнинг',\n",
              " 'gta online уровень',\n",
              " 'gta sa',\n",
              " 'gta sa gta',\n",
              " 'gta sa multiplayer',\n",
              " 'gta sa ps',\n",
              " 'gta sa глобальный',\n",
              " 'gta sa значок',\n",
              " 'gta sa конвертирование',\n",
              " 'gta sa мода',\n",
              " 'gta sa морпех',\n",
              " 'gta sa на',\n",
              " 'gta sa с',\n",
              " 'gta sa скачать',\n",
              " 'gta sa скина',\n",
              " 'gta sa управление',\n",
              " 'gta samp',\n",
              " 'gta samp dayz',\n",
              " 'gta san',\n",
              " 'gta san andreas',\n",
              " 'gta san andres',\n",
              " 'gta sun',\n",
              " 'gta sun andres',\n",
              " 'gta super',\n",
              " 'gta super cars',\n",
              " 'gta v',\n",
              " 'gta v для',\n",
              " 'gta vc',\n",
              " 'gta vc deluxe',\n",
              " 'gta vc ваенный',\n",
              " 'gta vice',\n",
              " 'gta vice city',\n",
              " ...]"
            ]
          },
          "metadata": {
            "tags": []
          },
          "execution_count": 97
        }
      ]
    },
    {
      "cell_type": "code",
      "metadata": {
        "id": "sRA_5Jg3A7ve",
        "colab_type": "code",
        "colab": {}
      },
      "source": [
        "groups_indixes = groups.group_id.unique()\n",
        "X_train = []\n",
        "\n",
        "for group_id in groups_indixes:\n",
        "  group_x = vectorizer.transform(\n",
        "      titles[docs_merged.group_id == group_id]\n",
        "      )\n",
        "  features = np.sort(np.asarray(\n",
        "      pairwise_distances(group_x, metric='cosine')\n",
        "      ))[::,1:21:]\n",
        "  X_train.append(features)\n",
        "X_train = np.vstack(X_train)\n",
        "X_train = StandardScaler().fit_transform(X_train)"
      ],
      "execution_count": 0,
      "outputs": []
    },
    {
      "cell_type": "code",
      "metadata": {
        "id": "9SZE3QxUBQUW",
        "colab_type": "code",
        "outputId": "0163a71e-764c-4d22-c306-1434945bf3f7",
        "colab": {
          "base_uri": "https://localhost:8080/",
          "height": 595
        }
      },
      "source": [
        "y = docs_merged.target\n",
        "\n",
        "for (i, group) in enumerate([39, 4, 100, 14, 48, 63]):\n",
        "  X_embedded = TSNE(\n",
        "      n_components=2,\n",
        "      metric='cosine'\n",
        "        ).fit_transform(\n",
        "      vectorizer.transform(\n",
        "          docs_merged[docs_merged.group_id == group].title\n",
        "          ).toarray(),\n",
        "      )\n",
        "  plt.subplot(2, 3, i + 1)\n",
        "  plt.scatter(X_embedded[::, 0], X_embedded[::, 1],\n",
        "              c=y[docs_merged.group_id == group])\n",
        "plt.show()"
      ],
      "execution_count": 0,
      "outputs": [
        {
          "output_type": "display_data",
          "data": {
            "image/png": "[encoded data removed]",
            "text/plain": [
              "<Figure size 1440x720 with 6 Axes>"
            ]
          },
          "metadata": {
            "tags": []
          }
        }
      ]
    },
    {
      "cell_type": "markdown",
      "metadata": {
        "id": "SvZ-Pik_Bg-5",
        "colab_type": "text"
      },
      "source": [
        "как интересно! другой формы вышло"
      ]
    },
    {
      "cell_type": "code",
      "metadata": {
        "id": "U7fyYM_JBnrc",
        "colab_type": "code",
        "outputId": "81d43ac9-59ed-4514-9b9f-e9107bb28e2f",
        "colab": {
          "base_uri": "https://localhost:8080/",
          "height": 34
        }
      },
      "source": [
        "clf = RidgeCV(\n",
        "    alphas=np.logspace(0.1, 10, 100),\n",
        "    cv=cv, scoring=\"roc_auc\"\n",
        "    ).fit(X_train, y)\n",
        "clf_ridge = Ridge(alpha=clf.alpha_)\n",
        "cross_validation(\n",
        "    clf_ridge, X_train[::, ::], y, docs_merged.group_id,\n",
        "     cv, roc_auc_score, use_tqdm=False\n",
        "     )"
      ],
      "execution_count": 0,
      "outputs": [
        {
          "output_type": "execute_result",
          "data": {
            "text/plain": [
              "0.8834693176116611"
            ]
          },
          "metadata": {
            "tags": []
          },
          "execution_count": 100
        }
      ]
    },
    {
      "cell_type": "code",
      "metadata": {
        "id": "3aD_0WiMuXqs",
        "colab_type": "code",
        "outputId": "db6376cd-e979-47f2-8c69-3884034db383",
        "colab": {
          "base_uri": "https://localhost:8080/",
          "height": 609
        }
      },
      "source": [
        "trs, scores = [], []\n",
        "for treshold in tqdm(np.linspace(0, 0.35, 35)):\n",
        "  scores.append(cross_validation(\n",
        "    clf_ridge, X_train[::, ::], y, docs_merged.group_id,\n",
        "    cv, f1_score, treshold=treshold, use_tqdm=False\n",
        "    ))\n",
        "  trs.append(treshold)\n",
        "plt.plot(trs, scores)\n",
        "plt.show()"
      ],
      "execution_count": 0,
      "outputs": [
        {
          "output_type": "stream",
          "text": [
            "100%|██████████| 35/35 [00:03<00:00,  9.70it/s]\n"
          ],
          "name": "stderr"
        },
        {
          "output_type": "display_data",
          "data": {
            "image/png": "[encoded data removed]",
            "text/plain": [
              "<Figure size 1440x720 with 1 Axes>"
            ]
          },
          "metadata": {
            "tags": []
          }
        }
      ]
    },
    {
      "cell_type": "code",
      "metadata": {
        "id": "mRZOGKMIOkV9",
        "colab_type": "code",
        "outputId": "77a1d61f-5e11-47e2-9ff1-e303a5f80422",
        "colab": {
          "base_uri": "https://localhost:8080/",
          "height": 34
        }
      },
      "source": [
        "f1_score(y, clf_ridge.predict(X_train) > 0.25)"
      ],
      "execution_count": 0,
      "outputs": [
        {
          "output_type": "execute_result",
          "data": {
            "text/plain": [
              "0.7148387096774194"
            ]
          },
          "metadata": {
            "tags": []
          },
          "execution_count": 102
        }
      ]
    },
    {
      "cell_type": "markdown",
      "metadata": {
        "id": "_RrxJZnLu8PH",
        "colab_type": "text"
      },
      "source": [
        "## Bootstraping!"
      ]
    },
    {
      "cell_type": "code",
      "metadata": {
        "id": "0dDJlLyPj27B",
        "colab_type": "code",
        "colab": {}
      },
      "source": [
        "from sklearn.utils import resample\n",
        "from sklearn.base import clone"
      ],
      "execution_count": 0,
      "outputs": []
    },
    {
      "cell_type": "code",
      "metadata": {
        "id": "s-HReY5foAp9",
        "colab_type": "code",
        "colab": {}
      },
      "source": [
        "from functools import reduce"
      ],
      "execution_count": 0,
      "outputs": []
    },
    {
      "cell_type": "code",
      "metadata": {
        "id": "RKX3R2FQmpPz",
        "colab_type": "code",
        "colab": {}
      },
      "source": [
        "class BootstrapClassifier:\n",
        "  def __init__(self, model, n_divisions=10 ,n_estimators=50):\n",
        "    self.__model = model\n",
        "    self.__n_estimators = n_estimators\n",
        "    self.__n_divisions = n_divisions\n",
        "    self.__estimators = None\n",
        "  \n",
        "  def fit(self, X, y):\n",
        "    estimators = []\n",
        "    for _ in range(self.__n_estimators):\n",
        "      x_est, y_est = resample(\n",
        "      X, y, stratify=y, n_samples=int(y.shape[0] / self.__n_divisions)\n",
        "      )\n",
        "      try:\n",
        "        clf_est = clone(self.__model)\n",
        "      except:\n",
        "        clf_est = self.__model.clone()\n",
        "      clf_est.fit(x_est, y_est)\n",
        "      estimators.append(clf_est)\n",
        "    self.__estimators = estimators\n",
        "\n",
        "  def predict(self, X):\n",
        "    return np.apply_along_axis(\n",
        "        lambda i: self.__estimators[i[0]].predict(X),\n",
        "        -1,\n",
        "        np.arange(self.__n_estimators, dtype=int)[::, np.newaxis]\n",
        "        ).sum(axis=0) >= self.__n_estimators / 2.0"
      ],
      "execution_count": 0,
      "outputs": []
    },
    {
      "cell_type": "code",
      "metadata": {
        "id": "oBarcxyYJxcC",
        "colab_type": "code",
        "colab": {}
      },
      "source": [
        "class BootstrapReg:\n",
        "  def __init__(self, model, n_divisions=10 ,n_estimators=50):\n",
        "    self.__model = model\n",
        "    self.__n_estimators = n_estimators\n",
        "    self.__n_divisions = n_divisions\n",
        "    self.__estimators = None\n",
        "  \n",
        "  def fit(self, X, y):\n",
        "    estimators = []\n",
        "    for _ in range(self.__n_estimators):\n",
        "      x_est, y_est = resample(\n",
        "      X, y, stratify=y, n_samples=int(y.shape[0] / self.__n_divisions)\n",
        "      )\n",
        "      try:\n",
        "        clf_est = clone(self.__model)\n",
        "      except:\n",
        "        clf_est = self.__model.clone()\n",
        "      clf_est.fit(x_est, y_est)\n",
        "      estimators.append(clf_est)\n",
        "    self.__estimators = estimators\n",
        "\n",
        "  def predict(self, X):\n",
        "    return np.apply_along_axis(\n",
        "        lambda i: self.__estimators[i[0]].predict(X),\n",
        "        -1,\n",
        "        np.arange(self.__n_estimators, dtype=int)[::, np.newaxis]\n",
        "        ).sum(axis=0) / self.__n_estimators"
      ],
      "execution_count": 0,
      "outputs": []
    },
    {
      "cell_type": "code",
      "metadata": {
        "colab_type": "code",
        "id": "TZGfDMLIEuq2",
        "colab": {}
      },
      "source": [
        "class ClassifierFromReg:\n",
        "  def __init__(self, model, trs):\n",
        "    self.__model = model\n",
        "    self.__treshold = trs\n",
        "  \n",
        "  def fit(self, X, y):\n",
        "    self.__model.fit(X, y)\n",
        "\n",
        "  def predict(self, X):\n",
        "    return self.__model.predict(X) > self.__treshold\n",
        "\n",
        "  def clone(self):\n",
        "    return ClassifierFromReg(clone(self.__model), self.__treshold)\n"
      ],
      "execution_count": 0,
      "outputs": []
    },
    {
      "cell_type": "code",
      "metadata": {
        "id": "M-qf_7u9qF86",
        "colab_type": "code",
        "outputId": "35acb63e-b167-429e-cfa6-450ddd56290d",
        "colab": {
          "base_uri": "https://localhost:8080/",
          "height": 609
        }
      },
      "source": [
        "scores = []\n",
        "divs = []\n",
        "for n_divisions in tqdm(np.logspace(0.4, 2, 10)):\n",
        "  scores.append(cross_validation(\n",
        "    BootstrapReg(clf_ridge, n_divisions=n_divisions),\n",
        "    X_train, y, docs_merged.group_id,\n",
        "    cv, roc_auc_score, treshold=None, use_tqdm=False\n",
        "    ))\n",
        "  divs.append(n_divisions)\n",
        "plt.plot(divs, scores)\n",
        "plt.show()"
      ],
      "execution_count": 0,
      "outputs": [
        {
          "output_type": "stream",
          "text": [
            "100%|██████████| 10/10 [00:20<00:00,  1.71s/it]\n"
          ],
          "name": "stderr"
        },
        {
          "output_type": "display_data",
          "data": {
            "image/png": "[encoded data removed]",
            "text/plain": [
              "<Figure size 1440x720 with 1 Axes>"
            ]
          },
          "metadata": {
            "tags": []
          }
        }
      ]
    },
    {
      "cell_type": "code",
      "metadata": {
        "id": "14vJRP6CkE8T",
        "colab_type": "code",
        "outputId": "065c8fa5-8302-44be-dd2a-f6ecca6c98bf",
        "colab": {
          "base_uri": "https://localhost:8080/",
          "height": 609
        }
      },
      "source": [
        "trs, scores = [], []\n",
        "for treshold in tqdm(np.linspace(0, 0.35, 35)):\n",
        "  scores.append(cross_validation(\n",
        "    BootstrapReg(clf_ridge, n_divisions=10**0.4), X_train[::, ::], \n",
        "    y, docs_merged.group_id,\n",
        "    cv, f1_score, treshold=treshold, use_tqdm=False\n",
        "    ))\n",
        "  trs.append(treshold)\n",
        "plt.plot(trs, scores)\n",
        "plt.show()"
      ],
      "execution_count": 0,
      "outputs": [
        {
          "output_type": "stream",
          "text": [
            "100%|██████████| 35/35 [02:05<00:00,  3.58s/it]\n"
          ],
          "name": "stderr"
        },
        {
          "output_type": "display_data",
          "data": {
            "image/png": "[encoded data removed]",
            "text/plain": [
              "<Figure size 1440x720 with 1 Axes>"
            ]
          },
          "metadata": {
            "tags": []
          }
        }
      ]
    },
    {
      "cell_type": "code",
      "metadata": {
        "id": "BH0RibtRkdci",
        "colab_type": "code",
        "colab": {}
      },
      "source": [
        "groups_test = pd.read_csv(\n",
        "    \"/content/drive/My Drive/Colab Notebooks/test_groups.csv\",\n",
        "     sep=\",\"\n",
        "     )\n",
        "titles = pd.read_csv(\n",
        "    \"/content/drive/My Drive/Colab Notebooks/docs_titles.tsv\",\n",
        "     sep=\"\\t\"\n",
        "     )"
      ],
      "execution_count": 0,
      "outputs": []
    },
    {
      "cell_type": "code",
      "metadata": {
        "id": "rGoTg8_Zskp4",
        "colab_type": "code",
        "outputId": "7c79499d-2780-4875-a135-99849e53e4de",
        "colab": {
          "base_uri": "https://localhost:8080/",
          "height": 424
        }
      },
      "source": [
        "dct = {}\n",
        "pattern = re.compile(r'[а-я]+\\-?[а-я]*|[a-z]+\\-?[a-z]*|[0-9]+')\n",
        "count = 0\n",
        "for (doc_id, title) in zip(titles.doc_id, titles.title):\n",
        "  dct[doc_id] = title\n",
        "titles_to_merge = []\n",
        "for doc_id in groups_test.doc_id:\n",
        "  if doc_id in dct:\n",
        "    titles_to_merge.append(dct[doc_id])\n",
        "  else:\n",
        "    titles_to_merge.append('')\n",
        "    count += 1\n",
        "docs_merged = groups_test.copy()\n",
        "docs_merged[\"title\"] = pd.Series(titles_to_merge)\n",
        "docs_merged"
      ],
      "execution_count": 0,
      "outputs": [
        {
          "output_type": "execute_result",
          "data": {
            "text/html": [
              "<div>\n",
              "<style scoped>\n",
              "    .dataframe tbody tr th:only-of-type {\n",
              "        vertical-align: middle;\n",
              "    }\n",
              "\n",
              "    .dataframe tbody tr th {\n",
              "        vertical-align: top;\n",
              "    }\n",
              "\n",
              "    .dataframe thead th {\n",
              "        text-align: right;\n",
              "    }\n",
              "</style>\n",
              "<table border=\"1\" class=\"dataframe\">\n",
              "  <thead>\n",
              "    <tr style=\"text-align: right;\">\n",
              "      <th></th>\n",
              "      <th>pair_id</th>\n",
              "      <th>group_id</th>\n",
              "      <th>doc_id</th>\n",
              "      <th>title</th>\n",
              "    </tr>\n",
              "  </thead>\n",
              "  <tbody>\n",
              "    <tr>\n",
              "      <th>0</th>\n",
              "      <td>11691</td>\n",
              "      <td>130</td>\n",
              "      <td>6710</td>\n",
              "      <td>КАК ПРОПИСАТЬ АДМИНКУ В КС 1.6 СЕБЕ ИЛИ ДРУГУ ...</td>\n",
              "    </tr>\n",
              "    <tr>\n",
              "      <th>1</th>\n",
              "      <td>11692</td>\n",
              "      <td>130</td>\n",
              "      <td>4030</td>\n",
              "      <td>Скачать: SGL-RP доработка | Слив мода [MySQL] ...</td>\n",
              "    </tr>\n",
              "    <tr>\n",
              "      <th>2</th>\n",
              "      <td>11693</td>\n",
              "      <td>130</td>\n",
              "      <td>5561</td>\n",
              "      <td>Как прописать админку в кс 1.6 - Counter-Strik...</td>\n",
              "    </tr>\n",
              "    <tr>\n",
              "      <th>3</th>\n",
              "      <td>11694</td>\n",
              "      <td>130</td>\n",
              "      <td>4055</td>\n",
              "      <td>Как прописать простую админку в кс 1 6</td>\n",
              "    </tr>\n",
              "    <tr>\n",
              "      <th>4</th>\n",
              "      <td>11695</td>\n",
              "      <td>130</td>\n",
              "      <td>4247</td>\n",
              "      <td>Подбор админов для сервера по КОД_4 [Архив]  -...</td>\n",
              "    </tr>\n",
              "    <tr>\n",
              "      <th>...</th>\n",
              "      <td>...</td>\n",
              "      <td>...</td>\n",
              "      <td>...</td>\n",
              "      <td>...</td>\n",
              "    </tr>\n",
              "    <tr>\n",
              "      <th>16622</th>\n",
              "      <td>28313</td>\n",
              "      <td>309</td>\n",
              "      <td>16637</td>\n",
              "      <td>Ответы@Mail.Ru: полезно ли кушать творог по ут...</td>\n",
              "    </tr>\n",
              "    <tr>\n",
              "      <th>16623</th>\n",
              "      <td>28314</td>\n",
              "      <td>309</td>\n",
              "      <td>16759</td>\n",
              "      <td>Творог. Полезные свойства и лечение творогом. ...</td>\n",
              "    </tr>\n",
              "    <tr>\n",
              "      <th>16624</th>\n",
              "      <td>28315</td>\n",
              "      <td>309</td>\n",
              "      <td>15358</td>\n",
              "      <td>Творог - Полезные и опасные свойства творога</td>\n",
              "    </tr>\n",
              "    <tr>\n",
              "      <th>16625</th>\n",
              "      <td>28316</td>\n",
              "      <td>309</td>\n",
              "      <td>17287</td>\n",
              "      <td>Ответы@Mail.Ru: Чем полезен творог?</td>\n",
              "    </tr>\n",
              "    <tr>\n",
              "      <th>16626</th>\n",
              "      <td>28317</td>\n",
              "      <td>309</td>\n",
              "      <td>16026</td>\n",
              "      <td>Творог: польза и вред :: Как выбирать продукты...</td>\n",
              "    </tr>\n",
              "  </tbody>\n",
              "</table>\n",
              "<p>16627 rows × 4 columns</p>\n",
              "</div>"
            ],
            "text/plain": [
              "       pair_id  ...                                              title\n",
              "0        11691  ...  КАК ПРОПИСАТЬ АДМИНКУ В КС 1.6 СЕБЕ ИЛИ ДРУГУ ...\n",
              "1        11692  ...  Скачать: SGL-RP доработка | Слив мода [MySQL] ...\n",
              "2        11693  ...  Как прописать админку в кс 1.6 - Counter-Strik...\n",
              "3        11694  ...             Как прописать простую админку в кс 1 6\n",
              "4        11695  ...  Подбор админов для сервера по КОД_4 [Архив]  -...\n",
              "...        ...  ...                                                ...\n",
              "16622    28313  ...  Ответы@Mail.Ru: полезно ли кушать творог по ут...\n",
              "16623    28314  ...  Творог. Полезные свойства и лечение творогом. ...\n",
              "16624    28315  ...       Творог - Полезные и опасные свойства творога\n",
              "16625    28316  ...                Ответы@Mail.Ru: Чем полезен творог?\n",
              "16626    28317  ...  Творог: польза и вред :: Как выбирать продукты...\n",
              "\n",
              "[16627 rows x 4 columns]"
            ]
          },
          "metadata": {
            "tags": []
          },
          "execution_count": 76
        }
      ]
    },
    {
      "cell_type": "code",
      "metadata": {
        "id": "6sVhDmMesuEQ",
        "colab_type": "code",
        "colab": {}
      },
      "source": [
        "docs_merged.title = docs_merged.title.fillna(\"\")\n",
        "titles = list(map(\n",
        "    lambda title: re.findall(pattern, title.lower()),\n",
        "    docs_merged.title)\n",
        ")\n",
        "lemmed_titles = []\n",
        "for title in titles:\n",
        "  lemmed_title = []\n",
        "  for word in title:\n",
        "    lemmed_title.append(morph.parse(word)[0].normal_form)\n",
        "  lemmed_titles.append(lemmed_title)\n",
        "titles = np.asarray(list(map(\" \".join, lemmed_titles)))"
      ],
      "execution_count": 0,
      "outputs": []
    },
    {
      "cell_type": "code",
      "metadata": {
        "id": "APriapgisxZf",
        "colab_type": "code",
        "outputId": "97295df7-8f7d-48c8-a842-c64dc1575c4b",
        "colab": {
          "base_uri": "https://localhost:8080/",
          "height": 139
        }
      },
      "source": [
        "vectorizer = TfidfVectorizer(ngram_range=(1, 3))\n",
        "vectorizer.fit(titles)"
      ],
      "execution_count": 0,
      "outputs": [
        {
          "output_type": "execute_result",
          "data": {
            "text/plain": [
              "TfidfVectorizer(analyzer='word', binary=False, decode_error='strict',\n",
              "                dtype=<class 'numpy.float64'>, encoding='utf-8',\n",
              "                input='content', lowercase=True, max_df=1.0, max_features=None,\n",
              "                min_df=1, ngram_range=(1, 3), norm='l2', preprocessor=None,\n",
              "                smooth_idf=True, stop_words=None, strip_accents=None,\n",
              "                sublinear_tf=False, token_pattern='(?u)\\\\b\\\\w\\\\w+\\\\b',\n",
              "                tokenizer=None, use_idf=True, vocabulary=None)"
            ]
          },
          "metadata": {
            "tags": []
          },
          "execution_count": 78
        }
      ]
    },
    {
      "cell_type": "code",
      "metadata": {
        "id": "mnwxuMT_kdlI",
        "colab_type": "code",
        "colab": {}
      },
      "source": [
        "groups_indixes = groups_test.group_id.unique()\n",
        "X_test = []\n",
        "\n",
        "for group_id in groups_indixes:\n",
        "  group_x = vectorizer.transform(\n",
        "      titles[docs_merged.group_id == group_id]\n",
        "      )\n",
        "  features = np.sort(np.asarray(\n",
        "      pairwise_distances(group_x, metric='cosine')\n",
        "      ))[::,1:21:]\n",
        "  X_test.append(features)\n",
        "X_test = np.vstack(X_test)\n",
        "X_test = StandardScaler().fit_transform(X_test)"
      ],
      "execution_count": 0,
      "outputs": []
    },
    {
      "cell_type": "code",
      "metadata": {
        "id": "C71RgLnTt7c7",
        "colab_type": "code",
        "colab": {}
      },
      "source": [
        "model = BootstrapReg(clf_ridge, 10**0.4)\n",
        "model.fit(X_train, y)"
      ],
      "execution_count": 0,
      "outputs": []
    },
    {
      "cell_type": "code",
      "metadata": {
        "id": "iLXHqZC6kpnj",
        "colab_type": "code",
        "colab": {}
      },
      "source": [
        "pred = np.array(model.predict(X_test) > 0.25, dtype=int)"
      ],
      "execution_count": 0,
      "outputs": []
    },
    {
      "cell_type": "code",
      "metadata": {
        "id": "x0rtthxWt3Aq",
        "colab_type": "code",
        "colab": {}
      },
      "source": [
        "groups_test[\"target\"] = pd.Series(pred)\n",
        "with open(\"predict.csv\", \"w\") as f:\n",
        "  f.write(groups_test.to_csv(columns=(\"pair_id\", \"target\"), index=False))"
      ],
      "execution_count": 0,
      "outputs": []
    },
    {
      "cell_type": "markdown",
      "metadata": {
        "id": "bgEyHc_YvGcx",
        "colab_type": "text"
      },
      "source": [
        "Ну, это несколько улучшило конечно результат..."
      ]
    },
    {
      "cell_type": "markdown",
      "metadata": {
        "id": "AOqQENCHwOu4",
        "colab_type": "text"
      },
      "source": [
        "## Clustering"
      ]
    },
    {
      "cell_type": "markdown",
      "metadata": {
        "id": "OREgl4gbwbnz",
        "colab_type": "text"
      },
      "source": [
        "попробуем как-то внутри каждой группы как-то что-то кластеризовать и в качестве фичи добавить расстояние до центроида (или до центроидов?)"
      ]
    },
    {
      "cell_type": "code",
      "metadata": {
        "id": "CFrmPGghyvf7",
        "colab_type": "code",
        "colab": {}
      },
      "source": [
        "from sklearn.cluster import KMeans\n",
        "from sklearn.cluster import AgglomerativeClustering"
      ],
      "execution_count": 0,
      "outputs": []
    },
    {
      "cell_type": "code",
      "metadata": {
        "id": "RbujnX5Jwx8B",
        "colab_type": "code",
        "colab": {}
      },
      "source": [
        "groups_indixes = groups.group_id.unique()\n",
        "X_train = []\n",
        "\n",
        "for group_id in groups_indixes:\n",
        "  group_x = vectorizer.transform(\n",
        "      titles[docs_merged.group_id == group_id]\n",
        "  )\n",
        "  features = np.sort(np.asarray(\n",
        "      pairwise_distances(group_x, metric='cosine')\n",
        "      ))[::,1:11:]\n",
        "  features2 = np.sort(\n",
        "      KMeans(n_clusters=8, random_state=0).fit_transform(features)\n",
        "  )\n",
        "  clusters = AgglomerativeClustering(\n",
        "      affinity=\"precomputed\", linkage=\"complete\"\n",
        "      ).fit_predict(pairwise_distances(group_x, metric='cosine')\n",
        "  )\n",
        "\n",
        "  values, counts = np.unique(clusters, return_counts=True)\n",
        "  features3 = clusters == values[np.argmax(counts)]\n",
        "  X_train.append(np.hstack((features, features2))) #, features3[::, np.newaxis])))\n",
        "X_train = np.vstack(X_train)\n",
        "X_train = StandardScaler().fit_transform(X_train)"
      ],
      "execution_count": 0,
      "outputs": []
    },
    {
      "cell_type": "code",
      "metadata": {
        "id": "IlrtBJKBwSsv",
        "colab_type": "code",
        "outputId": "ff9b6da0-6454-40c3-9a12-ed95979c094b",
        "colab": {
          "base_uri": "https://localhost:8080/",
          "height": 592
        }
      },
      "source": [
        "for (i, group) in enumerate([39, 4, 100, 14, 48, 63]):\n",
        "  X_embedded = TSNE(\n",
        "      n_components=2,\n",
        "      metric='cosine'\n",
        "        ).fit_transform(\n",
        "      vectorizer.transform(\n",
        "          docs_merged[docs_merged.group_id == group].title\n",
        "          ).toarray(),\n",
        "      )\n",
        "  plt.subplot(2, 3, i + 1)\n",
        "  plt.scatter(X_embedded[::, 0], X_embedded[::, 1],\n",
        "              c=y[docs_merged.group_id == group])\n",
        "plt.show()"
      ],
      "execution_count": 0,
      "outputs": [
        {
          "output_type": "display_data",
          "data": {
            "image/png": "[encoded data removed]",
            "text/plain": [
              "<Figure size 1440x720 with 6 Axes>"
            ]
          },
          "metadata": {
            "tags": []
          }
        }
      ]
    },
    {
      "cell_type": "code",
      "metadata": {
        "id": "T3g1yed5rYKb",
        "colab_type": "code",
        "colab": {}
      },
      "source": [
        "from sklearn.ensemble import RandomForestClassifier"
      ],
      "execution_count": 0,
      "outputs": []
    },
    {
      "cell_type": "code",
      "metadata": {
        "id": "hLHymJqer8gi",
        "colab_type": "code",
        "colab": {}
      },
      "source": [
        "from sklearn.model_selection import GridSearchCV"
      ],
      "execution_count": 0,
      "outputs": []
    },
    {
      "cell_type": "code",
      "metadata": {
        "id": "0yzh3WRCsGIz",
        "colab_type": "code",
        "outputId": "c06cd9fd-4147-4e97-8817-93423eaec51e",
        "colab": {
          "base_uri": "https://localhost:8080/",
          "height": 72
        }
      },
      "source": [
        "param_grid = {\n",
        "    \"criterion\": [\"gini\", \"entropy\"],\n",
        "    \"max_depth\": np.arange(2, 10, dtype=int),\n",
        "    \"max_features\": [None, \"sqrt\", \"log2\"]\n",
        "}\n",
        "\n",
        "model = GridSearchCV(\n",
        "    RandomForestClassifier(n_estimators=30), param_grid=param_grid, cv=cv,\n",
        "    scoring='f1', n_jobs=-1\n",
        "    ).fit(X_train, y)"
      ],
      "execution_count": 0,
      "outputs": [
        {
          "output_type": "stream",
          "text": [
            "/usr/local/lib/python3.6/dist-packages/sklearn/model_selection/_search.py:814: DeprecationWarning: The default of the `iid` parameter will change from True to False in version 0.22 and will be removed in 0.24. This will change numeric results when test-set sizes are unequal.\n",
            "  DeprecationWarning)\n"
          ],
          "name": "stderr"
        }
      ]
    },
    {
      "cell_type": "code",
      "metadata": {
        "id": "mHjeB7BXtxQy",
        "colab_type": "code",
        "outputId": "2e12892c-f52f-4541-c452-584fd0c4b1b8",
        "colab": {
          "base_uri": "https://localhost:8080/",
          "height": 86
        }
      },
      "source": [
        "model.best_estimator_.feature_importances_"
      ],
      "execution_count": 0,
      "outputs": [
        {
          "output_type": "execute_result",
          "data": {
            "text/plain": [
              "array([0.03103361, 0.01166747, 0.05176623, 0.12228042, 0.1279296 ,\n",
              "       0.104957  , 0.10937348, 0.09710649, 0.09583077, 0.05537723,\n",
              "       0.01084174, 0.01976979, 0.02418162, 0.03648235, 0.03870852,\n",
              "       0.02996112, 0.01389924, 0.01883331])"
            ]
          },
          "metadata": {
            "tags": []
          },
          "execution_count": 113
        }
      ]
    },
    {
      "cell_type": "code",
      "metadata": {
        "id": "_XVZG1gnuBrT",
        "colab_type": "code",
        "outputId": "9856f69a-7725-4a4c-cb28-02953144776a",
        "colab": {
          "base_uri": "https://localhost:8080/",
          "height": 1000
        }
      },
      "source": [
        "model.cv_results_"
      ],
      "execution_count": 0,
      "outputs": [
        {
          "output_type": "execute_result",
          "data": {
            "text/plain": [
              "{'mean_fit_time': array([1.36182761, 0.39917083, 0.39367843, 1.93255506, 0.53665228,\n",
              "        0.52812319, 2.48404787, 0.65665932, 0.65454812, 3.00355313,\n",
              "        0.78123357, 0.77636645, 3.51986113, 0.90822425, 0.90380619,\n",
              "        4.02503495, 1.01272073, 1.01326015, 4.50745597, 1.12918348,\n",
              "        1.12859962, 4.9638483 , 1.21506639, 1.22175725, 2.3568094 ,\n",
              "        0.62322533, 0.62165391, 3.41409426, 0.86205437, 0.86293306,\n",
              "        4.43383164, 1.09552751, 1.10821788, 5.45210121, 1.32645476,\n",
              "        1.32264907, 6.39016111, 1.5428622 , 1.54366107, 7.21221197,\n",
              "        1.75158319, 1.74053202, 7.98211813, 1.93600202, 1.92321963,\n",
              "        8.64573205, 2.08452313, 2.02368658]),\n",
              " 'mean_score_time': array([0.00934582, 0.00933218, 0.00914941, 0.0106045 , 0.01046572,\n",
              "        0.01076698, 0.01038795, 0.01013825, 0.00998116, 0.01097369,\n",
              "        0.01106853, 0.01039767, 0.01145377, 0.01173666, 0.01071119,\n",
              "        0.01144891, 0.01142104, 0.01175711, 0.0121254 , 0.0126667 ,\n",
              "        0.01178095, 0.01265037, 0.0138042 , 0.01262028, 0.00882664,\n",
              "        0.00899518, 0.00895431, 0.00887535, 0.00912285, 0.00902216,\n",
              "        0.00942466, 0.00949078, 0.01011038, 0.00978422, 0.00981808,\n",
              "        0.00982115, 0.01013772, 0.01013198, 0.01020696, 0.01047761,\n",
              "        0.0104573 , 0.01053879, 0.01102257, 0.01102691, 0.01099052,\n",
              "        0.0110786 , 0.01126916, 0.01110985]),\n",
              " 'mean_test_score': array([0.67700993, 0.68961709, 0.68669612, 0.68692496, 0.69002307,\n",
              "        0.69211966, 0.69450965, 0.69484944, 0.69466621, 0.70298244,\n",
              "        0.70076602, 0.69902542, 0.70332192, 0.70019544, 0.69979222,\n",
              "        0.7024081 , 0.70848089, 0.70750393, 0.69792862, 0.70095986,\n",
              "        0.70427112, 0.69888549, 0.70163123, 0.70466318, 0.67968709,\n",
              "        0.68137281, 0.68976867, 0.68818652, 0.69434124, 0.69180291,\n",
              "        0.69948148, 0.69696265, 0.69367403, 0.70148971, 0.69644746,\n",
              "        0.69794043, 0.70289373, 0.69834433, 0.69978278, 0.70792515,\n",
              "        0.69980754, 0.70565869, 0.7057831 , 0.70274754, 0.70508447,\n",
              "        0.70219547, 0.7052107 , 0.70503191]),\n",
              " 'param_criterion': masked_array(data=['gini', 'gini', 'gini', 'gini', 'gini', 'gini', 'gini',\n",
              "                    'gini', 'gini', 'gini', 'gini', 'gini', 'gini', 'gini',\n",
              "                    'gini', 'gini', 'gini', 'gini', 'gini', 'gini', 'gini',\n",
              "                    'gini', 'gini', 'gini', 'entropy', 'entropy',\n",
              "                    'entropy', 'entropy', 'entropy', 'entropy', 'entropy',\n",
              "                    'entropy', 'entropy', 'entropy', 'entropy', 'entropy',\n",
              "                    'entropy', 'entropy', 'entropy', 'entropy', 'entropy',\n",
              "                    'entropy', 'entropy', 'entropy', 'entropy', 'entropy',\n",
              "                    'entropy', 'entropy'],\n",
              "              mask=[False, False, False, False, False, False, False, False,\n",
              "                    False, False, False, False, False, False, False, False,\n",
              "                    False, False, False, False, False, False, False, False,\n",
              "                    False, False, False, False, False, False, False, False,\n",
              "                    False, False, False, False, False, False, False, False,\n",
              "                    False, False, False, False, False, False, False, False],\n",
              "        fill_value='?',\n",
              "             dtype=object),\n",
              " 'param_max_depth': masked_array(data=[2, 2, 2, 3, 3, 3, 4, 4, 4, 5, 5, 5, 6, 6, 6, 7, 7, 7,\n",
              "                    8, 8, 8, 9, 9, 9, 2, 2, 2, 3, 3, 3, 4, 4, 4, 5, 5, 5,\n",
              "                    6, 6, 6, 7, 7, 7, 8, 8, 8, 9, 9, 9],\n",
              "              mask=[False, False, False, False, False, False, False, False,\n",
              "                    False, False, False, False, False, False, False, False,\n",
              "                    False, False, False, False, False, False, False, False,\n",
              "                    False, False, False, False, False, False, False, False,\n",
              "                    False, False, False, False, False, False, False, False,\n",
              "                    False, False, False, False, False, False, False, False],\n",
              "        fill_value='?',\n",
              "             dtype=object),\n",
              " 'param_max_features': masked_array(data=[None, 'sqrt', 'log2', None, 'sqrt', 'log2', None,\n",
              "                    'sqrt', 'log2', None, 'sqrt', 'log2', None, 'sqrt',\n",
              "                    'log2', None, 'sqrt', 'log2', None, 'sqrt', 'log2',\n",
              "                    None, 'sqrt', 'log2', None, 'sqrt', 'log2', None,\n",
              "                    'sqrt', 'log2', None, 'sqrt', 'log2', None, 'sqrt',\n",
              "                    'log2', None, 'sqrt', 'log2', None, 'sqrt', 'log2',\n",
              "                    None, 'sqrt', 'log2', None, 'sqrt', 'log2'],\n",
              "              mask=[False, False, False, False, False, False, False, False,\n",
              "                    False, False, False, False, False, False, False, False,\n",
              "                    False, False, False, False, False, False, False, False,\n",
              "                    False, False, False, False, False, False, False, False,\n",
              "                    False, False, False, False, False, False, False, False,\n",
              "                    False, False, False, False, False, False, False, False],\n",
              "        fill_value='?',\n",
              "             dtype=object),\n",
              " 'params': [{'criterion': 'gini', 'max_depth': 2, 'max_features': None},\n",
              "  {'criterion': 'gini', 'max_depth': 2, 'max_features': 'sqrt'},\n",
              "  {'criterion': 'gini', 'max_depth': 2, 'max_features': 'log2'},\n",
              "  {'criterion': 'gini', 'max_depth': 3, 'max_features': None},\n",
              "  {'criterion': 'gini', 'max_depth': 3, 'max_features': 'sqrt'},\n",
              "  {'criterion': 'gini', 'max_depth': 3, 'max_features': 'log2'},\n",
              "  {'criterion': 'gini', 'max_depth': 4, 'max_features': None},\n",
              "  {'criterion': 'gini', 'max_depth': 4, 'max_features': 'sqrt'},\n",
              "  {'criterion': 'gini', 'max_depth': 4, 'max_features': 'log2'},\n",
              "  {'criterion': 'gini', 'max_depth': 5, 'max_features': None},\n",
              "  {'criterion': 'gini', 'max_depth': 5, 'max_features': 'sqrt'},\n",
              "  {'criterion': 'gini', 'max_depth': 5, 'max_features': 'log2'},\n",
              "  {'criterion': 'gini', 'max_depth': 6, 'max_features': None},\n",
              "  {'criterion': 'gini', 'max_depth': 6, 'max_features': 'sqrt'},\n",
              "  {'criterion': 'gini', 'max_depth': 6, 'max_features': 'log2'},\n",
              "  {'criterion': 'gini', 'max_depth': 7, 'max_features': None},\n",
              "  {'criterion': 'gini', 'max_depth': 7, 'max_features': 'sqrt'},\n",
              "  {'criterion': 'gini', 'max_depth': 7, 'max_features': 'log2'},\n",
              "  {'criterion': 'gini', 'max_depth': 8, 'max_features': None},\n",
              "  {'criterion': 'gini', 'max_depth': 8, 'max_features': 'sqrt'},\n",
              "  {'criterion': 'gini', 'max_depth': 8, 'max_features': 'log2'},\n",
              "  {'criterion': 'gini', 'max_depth': 9, 'max_features': None},\n",
              "  {'criterion': 'gini', 'max_depth': 9, 'max_features': 'sqrt'},\n",
              "  {'criterion': 'gini', 'max_depth': 9, 'max_features': 'log2'},\n",
              "  {'criterion': 'entropy', 'max_depth': 2, 'max_features': None},\n",
              "  {'criterion': 'entropy', 'max_depth': 2, 'max_features': 'sqrt'},\n",
              "  {'criterion': 'entropy', 'max_depth': 2, 'max_features': 'log2'},\n",
              "  {'criterion': 'entropy', 'max_depth': 3, 'max_features': None},\n",
              "  {'criterion': 'entropy', 'max_depth': 3, 'max_features': 'sqrt'},\n",
              "  {'criterion': 'entropy', 'max_depth': 3, 'max_features': 'log2'},\n",
              "  {'criterion': 'entropy', 'max_depth': 4, 'max_features': None},\n",
              "  {'criterion': 'entropy', 'max_depth': 4, 'max_features': 'sqrt'},\n",
              "  {'criterion': 'entropy', 'max_depth': 4, 'max_features': 'log2'},\n",
              "  {'criterion': 'entropy', 'max_depth': 5, 'max_features': None},\n",
              "  {'criterion': 'entropy', 'max_depth': 5, 'max_features': 'sqrt'},\n",
              "  {'criterion': 'entropy', 'max_depth': 5, 'max_features': 'log2'},\n",
              "  {'criterion': 'entropy', 'max_depth': 6, 'max_features': None},\n",
              "  {'criterion': 'entropy', 'max_depth': 6, 'max_features': 'sqrt'},\n",
              "  {'criterion': 'entropy', 'max_depth': 6, 'max_features': 'log2'},\n",
              "  {'criterion': 'entropy', 'max_depth': 7, 'max_features': None},\n",
              "  {'criterion': 'entropy', 'max_depth': 7, 'max_features': 'sqrt'},\n",
              "  {'criterion': 'entropy', 'max_depth': 7, 'max_features': 'log2'},\n",
              "  {'criterion': 'entropy', 'max_depth': 8, 'max_features': None},\n",
              "  {'criterion': 'entropy', 'max_depth': 8, 'max_features': 'sqrt'},\n",
              "  {'criterion': 'entropy', 'max_depth': 8, 'max_features': 'log2'},\n",
              "  {'criterion': 'entropy', 'max_depth': 9, 'max_features': None},\n",
              "  {'criterion': 'entropy', 'max_depth': 9, 'max_features': 'sqrt'},\n",
              "  {'criterion': 'entropy', 'max_depth': 9, 'max_features': 'log2'}],\n",
              " 'rank_test_score': array([48, 42, 45, 44, 40, 38, 35, 33, 34, 12, 20, 26, 11, 21, 23, 15,  1,\n",
              "         3, 30, 19, 10, 27, 17,  9, 47, 46, 41, 43, 36, 39, 25, 31, 37, 18,\n",
              "        32, 29, 13, 28, 24,  2, 22,  5,  4, 14,  7, 16,  6,  8],\n",
              "       dtype=int32),\n",
              " 'split0_test_score': array([0.68476621, 0.67682927, 0.68224299, 0.70788253, 0.68837209,\n",
              "        0.6874028 , 0.69466882, 0.7032967 , 0.70192308, 0.7281399 ,\n",
              "        0.71404959, 0.70759289, 0.73162939, 0.71949287, 0.70550162,\n",
              "        0.70662461, 0.71451356, 0.709062  , 0.70512821, 0.7163233 ,\n",
              "        0.71451356, 0.71383648, 0.6912    , 0.7184466 , 0.61564626,\n",
              "        0.6372549 , 0.66666667, 0.71582181, 0.69753086, 0.71228616,\n",
              "        0.71692308, 0.709375  , 0.70496894, 0.70552147, 0.70261438,\n",
              "        0.71111111, 0.70998415, 0.71315372, 0.7170418 , 0.7192429 ,\n",
              "        0.70550162, 0.71661238, 0.73046252, 0.70645161, 0.71153846,\n",
              "        0.73449921, 0.71175523, 0.73417722]),\n",
              " 'split1_test_score': array([0.7432286 , 0.76483051, 0.76414088, 0.75641026, 0.77004219,\n",
              "        0.77602524, 0.75266525, 0.77599143, 0.77412513, 0.75459459,\n",
              "        0.76659529, 0.76972281, 0.74145299, 0.7755102 , 0.76483516,\n",
              "        0.75780409, 0.7616975 , 0.77072121, 0.75026795, 0.7664155 ,\n",
              "        0.76489707, 0.72156013, 0.76426265, 0.75652174, 0.77857878,\n",
              "        0.77324974, 0.78125   , 0.77319588, 0.77673936, 0.7791411 ,\n",
              "        0.77286742, 0.77997914, 0.7753396 , 0.77333333, 0.78315789,\n",
              "        0.76810073, 0.76907001, 0.77494692, 0.76332623, 0.75319149,\n",
              "        0.76572668, 0.77481323, 0.75832438, 0.77022654, 0.76856835,\n",
              "        0.75      , 0.76426265, 0.76004343]),\n",
              " 'split2_test_score': array([0.33215548, 0.33333333, 0.34507042, 0.32258065, 0.35379061,\n",
              "        0.33699634, 0.34875445, 0.32835821, 0.3269962 , 0.36630037,\n",
              "        0.33207547, 0.34057971, 0.38461538, 0.35338346, 0.35471698,\n",
              "        0.375     , 0.3943662 , 0.38405797, 0.37671233, 0.34686347,\n",
              "        0.35424354, 0.41077441, 0.36428571, 0.38297872, 0.34482759,\n",
              "        0.34408602, 0.33576642, 0.32876712, 0.33333333, 0.32727273,\n",
              "        0.36486486, 0.34074074, 0.32857143, 0.37931034, 0.3465704 ,\n",
              "        0.34408602, 0.36805556, 0.34456929, 0.34944238, 0.40689655,\n",
              "        0.34328358, 0.3649635 , 0.3862069 , 0.36029412, 0.36231884,\n",
              "        0.37323944, 0.3986014 , 0.38461538]),\n",
              " 'split3_test_score': array([0.77957447, 0.80099502, 0.80099917, 0.79298831, 0.80100756,\n",
              "        0.80033417, 0.81469388, 0.8059455 , 0.80495868, 0.8       ,\n",
              "        0.81142857, 0.81306122, 0.81795918, 0.80885972, 0.82227682,\n",
              "        0.81280788, 0.8195122 , 0.81900082, 0.81147541, 0.80766028,\n",
              "        0.81188119, 0.80948487, 0.81054366, 0.81945589, 0.79506173,\n",
              "        0.80264244, 0.80987654, 0.79736409, 0.8053024 , 0.8019802 ,\n",
              "        0.80523732, 0.8101473 , 0.8111202 , 0.8026208 , 0.81081081,\n",
              "        0.81076672, 0.8045977 , 0.81578947, 0.81408681, 0.82285714,\n",
              "        0.81713344, 0.82247557, 0.82189542, 0.81706317, 0.81378179,\n",
              "        0.82679739, 0.81967213, 0.81414474]),\n",
              " 'split4_test_score': array([0.7641196 , 0.76906077, 0.77327492, 0.77412281, 0.78175896,\n",
              "        0.77729258, 0.78794403, 0.78617711, 0.78702703, 0.79273504,\n",
              "        0.79224973, 0.79229122, 0.79828326, 0.79741379, 0.78918919,\n",
              "        0.78833693, 0.79125683, 0.79569892, 0.79402348, 0.79520697,\n",
              "        0.79184549, 0.78571429, 0.80860215, 0.79175705, 0.77608696,\n",
              "        0.766191  , 0.77885653, 0.77874187, 0.78794403, 0.79009688,\n",
              "        0.78571429, 0.79099678, 0.78617711, 0.79487179, 0.78748652,\n",
              "        0.7887931 , 0.79699248, 0.7887931 , 0.78617711, 0.7961165 ,\n",
              "        0.79484425, 0.80043384, 0.79655544, 0.79565217, 0.78873239,\n",
              "        0.79786096, 0.79826464, 0.79089924]),\n",
              " 'split5_test_score': array([0.77727273, 0.79069767, 0.7826087 , 0.77727273, 0.79907621,\n",
              "        0.79534884, 0.80182232, 0.79908676, 0.80091533, 0.80995475,\n",
              "        0.80995475, 0.80369515, 0.79818594, 0.80637813, 0.80182232,\n",
              "        0.81264108, 0.81179138, 0.8       , 0.7972973 , 0.80361174,\n",
              "        0.80909091, 0.80530973, 0.80630631, 0.80449438, 0.78571429,\n",
              "        0.77990431, 0.8       , 0.78082192, 0.79814385, 0.77751756,\n",
              "        0.8045977 , 0.80092593, 0.80733945, 0.80637813, 0.80091533,\n",
              "        0.80995475, 0.80542986, 0.80272109, 0.80898876, 0.80717489,\n",
              "        0.80909091, 0.80909091, 0.80361174, 0.80812641, 0.80995475,\n",
              "        0.79006772, 0.80717489, 0.80542986]),\n",
              " 'split6_test_score': array([0.59491194, 0.62737643, 0.62109375, 0.61036468, 0.61627907,\n",
              "        0.62135922, 0.62042389, 0.63547758, 0.64122137, 0.62645914,\n",
              "        0.64750958, 0.63479924, 0.62737643, 0.62669246, 0.64      ,\n",
              "        0.62645914, 0.64354528, 0.62813102, 0.61657033, 0.63157895,\n",
              "        0.65142857, 0.61538462, 0.63601533, 0.63076923, 0.61851852,\n",
              "        0.64761905, 0.63516068, 0.62132353, 0.63320463, 0.63619048,\n",
              "        0.64136622, 0.64783427, 0.63706564, 0.64393939, 0.63097514,\n",
              "        0.63198459, 0.62998102, 0.62977099, 0.63984674, 0.64216634,\n",
              "        0.63740458, 0.63789869, 0.62813102, 0.63339731, 0.63619048,\n",
              "        0.63198459, 0.64272212, 0.63909774]),\n",
              " 'split7_test_score': array([0.76823339, 0.7594108 , 0.75728155, 0.76823339, 0.76006441,\n",
              "        0.76771005, 0.76823339, 0.7649919 , 0.76298701, 0.78064516,\n",
              "        0.77346278, 0.76998369, 0.77616747, 0.76823339, 0.77544426,\n",
              "        0.784     , 0.77741935, 0.7902439 , 0.77265501, 0.7819063 ,\n",
              "        0.78343949, 0.77955272, 0.7804878 , 0.78456592, 0.76205788,\n",
              "        0.75362319, 0.74876847, 0.77147488, 0.75806452, 0.75974026,\n",
              "        0.7616    , 0.7634584 , 0.76252019, 0.76947536, 0.76328502,\n",
              "        0.7634584 , 0.77093207, 0.76923077, 0.76547231, 0.76311606,\n",
              "        0.77250409, 0.78175896, 0.77367576, 0.77294686, 0.77142857,\n",
              "        0.76507937, 0.76774194, 0.77324633]),\n",
              " 'split8_test_score': array([0.63829787, 0.67631103, 0.65549348, 0.64650284, 0.65037594,\n",
              "        0.66168224, 0.65420561, 0.66044776, 0.66055046, 0.66055046,\n",
              "        0.65930018, 0.65073529, 0.66058394, 0.65321101, 0.65176909,\n",
              "        0.66061706, 0.65938069, 0.66424682, 0.66061706, 0.67395264,\n",
              "        0.66545455, 0.65255732, 0.66181818, 0.66300366, 0.62068966,\n",
              "        0.64150943, 0.63773585, 0.64695009, 0.65064695, 0.65808824,\n",
              "        0.64695009, 0.64564007, 0.6443203 , 0.64575646, 0.64944649,\n",
              "        0.65808824, 0.64575646, 0.65555556, 0.65321101, 0.67030965,\n",
              "        0.65185185, 0.66423358, 0.65813528, 0.66545455, 0.68478261,\n",
              "        0.66181818, 0.66184448, 0.67028986]),\n",
              " 'split9_test_score': array([0.68669528, 0.69716776, 0.68409586, 0.71221532, 0.67849224,\n",
              "        0.69639066, 0.70081967, 0.68817204, 0.68546638, 0.70967742,\n",
              "        0.70042194, 0.70686071, 0.69617706, 0.6918239 , 0.69135802,\n",
              "        0.69879518, 0.71020408, 0.71283096, 0.69371197, 0.68571429,\n",
              "        0.69529652, 0.69354839, 0.692     , 0.69371197, 0.69795918,\n",
              "        0.66666667, 0.70235546, 0.66666667, 0.70168067, 0.67532468,\n",
              "        0.69361702, 0.67956989, 0.67833698, 0.69247312, 0.68817204,\n",
              "        0.69230769, 0.72690763, 0.68803419, 0.69936034, 0.69739479,\n",
              "        0.69979296, 0.68343816, 0.69980119, 0.69709544, 0.70325203,\n",
              "        0.6899384 , 0.67908903, 0.67775468]),\n",
              " 'std_fit_time': array([0.01000868, 0.00381897, 0.00579774, 0.01275218, 0.00337927,\n",
              "        0.00395298, 0.01632022, 0.00170576, 0.00324009, 0.00862388,\n",
              "        0.00973595, 0.00676371, 0.01327794, 0.02144906, 0.00734742,\n",
              "        0.01257299, 0.0059454 , 0.00388344, 0.01495507, 0.00967271,\n",
              "        0.00991341, 0.01478359, 0.00624711, 0.00675663, 0.01617323,\n",
              "        0.00769698, 0.00325015, 0.0179286 , 0.00423853, 0.00502977,\n",
              "        0.01881056, 0.00481083, 0.0128895 , 0.03294162, 0.00415142,\n",
              "        0.00587044, 0.03932247, 0.0082253 , 0.01116422, 0.04846905,\n",
              "        0.01384921, 0.01080527, 0.07218517, 0.01584954, 0.01140007,\n",
              "        0.08878367, 0.01458068, 0.18397106]),\n",
              " 'std_score_time': array([0.00084862, 0.00037225, 0.00040306, 0.00161088, 0.0019591 ,\n",
              "        0.00222845, 0.00124976, 0.00062048, 0.00048871, 0.00176858,\n",
              "        0.00168965, 0.00057293, 0.0015464 , 0.0020341 , 0.00052427,\n",
              "        0.00089097, 0.0005204 , 0.00158407, 0.00170041, 0.00171521,\n",
              "        0.00077603, 0.00238533, 0.00204122, 0.00175251, 0.00037651,\n",
              "        0.00048155, 0.00042728, 0.00012199, 0.00029321, 0.00022444,\n",
              "        0.00021666, 0.00023646, 0.00063809, 0.00038125, 0.00034959,\n",
              "        0.000298  , 0.00034965, 0.00023945, 0.00027176, 0.00018008,\n",
              "        0.00022919, 0.00020825, 0.00035699, 0.00037239, 0.00041075,\n",
              "        0.0002635 , 0.00020607, 0.00115887]),\n",
              " 'std_test_score': array([0.13004292, 0.13103762, 0.12794406, 0.13445749, 0.12846952,\n",
              "        0.1324685 , 0.13082611, 0.13537455, 0.13541833, 0.12655355,\n",
              "        0.13560366, 0.13370133, 0.12195007, 0.13118541, 0.13013939,\n",
              "        0.12531742, 0.11980903, 0.12379188, 0.12344885, 0.13192159,\n",
              "        0.12967307, 0.11451972, 0.12852625, 0.12312944, 0.1323219 ,\n",
              "        0.12840439, 0.13381521, 0.13433533, 0.13407347, 0.13425231,\n",
              "        0.12578555, 0.13310304, 0.13676198, 0.12281639, 0.1320051 ,\n",
              "        0.1323238 , 0.1268357 , 0.13295484, 0.13060085, 0.11543535,\n",
              "        0.13367831, 0.1295457 , 0.12268696, 0.12912798, 0.12723301,\n",
              "        0.12467754, 0.11867068, 0.12151997])}"
            ]
          },
          "metadata": {
            "tags": []
          },
          "execution_count": 114
        }
      ]
    },
    {
      "cell_type": "code",
      "metadata": {
        "id": "Fka72p2cxqDc",
        "colab_type": "code",
        "colab": {}
      },
      "source": [
        "clf_forest = model.best_estimator_"
      ],
      "execution_count": 0,
      "outputs": []
    },
    {
      "cell_type": "code",
      "metadata": {
        "id": "WG9WF1AVyA3R",
        "colab_type": "code",
        "outputId": "c0e57668-8c20-4726-8250-03b75fb94daf",
        "colab": {
          "base_uri": "https://localhost:8080/",
          "height": 34
        }
      },
      "source": [
        "cross_validation(\n",
        "    clf_forest, X_train[::, ::], \n",
        "    y, docs_merged.group_id,\n",
        "    cv, f1_score, treshold=0.5, use_tqdm=False\n",
        "    )"
      ],
      "execution_count": 0,
      "outputs": [
        {
          "output_type": "execute_result",
          "data": {
            "text/plain": [
              "0.7032009180682293"
            ]
          },
          "metadata": {
            "tags": []
          },
          "execution_count": 116
        }
      ]
    },
    {
      "cell_type": "code",
      "metadata": {
        "id": "bU4SP1gjzqRn",
        "colab_type": "code",
        "colab": {}
      },
      "source": [
        "importances = model.best_estimator_.feature_importances_[np.newaxis, ::]\n",
        "X_train = X_train[::, ::] * importances"
      ],
      "execution_count": 0,
      "outputs": []
    },
    {
      "cell_type": "code",
      "metadata": {
        "id": "9Ec16Oaf2A2x",
        "colab_type": "code",
        "outputId": "5ec221d1-9520-4468-cb31-7577d717b564",
        "colab": {
          "base_uri": "https://localhost:8080/",
          "height": 34
        }
      },
      "source": [
        "clf = RidgeCV(\n",
        "    alphas=np.logspace(0.1, 10, 100),\n",
        "    cv=cv, scoring=\"roc_auc\"\n",
        "    ).fit(X_train, y)\n",
        "clf_ridge = Ridge(alpha=clf.alpha_)\n",
        "cross_validation(\n",
        "    clf_ridge, X_train[::, ::], y, docs_merged.group_id,\n",
        "     cv, roc_auc_score, use_tqdm=False\n",
        "     )"
      ],
      "execution_count": 0,
      "outputs": [
        {
          "output_type": "execute_result",
          "data": {
            "text/plain": [
              "0.8914926955009161"
            ]
          },
          "metadata": {
            "tags": []
          },
          "execution_count": 118
        }
      ]
    },
    {
      "cell_type": "code",
      "metadata": {
        "id": "6ylsz2b-2Mn_",
        "colab_type": "code",
        "outputId": "d161dbb6-923c-4de9-d637-379b8a8a74ee",
        "colab": {
          "base_uri": "https://localhost:8080/",
          "height": 609
        }
      },
      "source": [
        "trs, scores = [], []\n",
        "for treshold in tqdm(np.linspace(0, 0.35, 35)):\n",
        "  scores.append(cross_validation(\n",
        "    clf_ridge, X_train[::, ::], \n",
        "    y, docs_merged.group_id,\n",
        "    cv, f1_score, treshold=treshold, use_tqdm=False\n",
        "    ))\n",
        "  trs.append(treshold)\n",
        "plt.plot(trs, scores)\n",
        "plt.show()"
      ],
      "execution_count": 0,
      "outputs": [
        {
          "output_type": "stream",
          "text": [
            "100%|██████████| 35/35 [00:03<00:00, 10.21it/s]\n"
          ],
          "name": "stderr"
        },
        {
          "output_type": "display_data",
          "data": {
            "image/png": "[encoded data removed]",
            "text/plain": [
              "<Figure size 1440x720 with 1 Axes>"
            ]
          },
          "metadata": {
            "tags": []
          }
        }
      ]
    },
    {
      "cell_type": "code",
      "metadata": {
        "id": "zHmSAxRS267G",
        "colab_type": "code",
        "outputId": "29b0d28e-1863-497d-d8b4-ef64a117cd7e",
        "colab": {
          "base_uri": "https://localhost:8080/",
          "height": 34
        }
      },
      "source": [
        "max_trs = trs[np.argmax(scores)]\n",
        "trs[np.argmax(scores)], np.max(scores)"
      ],
      "execution_count": 0,
      "outputs": [
        {
          "output_type": "execute_result",
          "data": {
            "text/plain": [
              "(0.25735294117647056, 0.7079972410869396)"
            ]
          },
          "metadata": {
            "tags": []
          },
          "execution_count": 120
        }
      ]
    },
    {
      "cell_type": "code",
      "metadata": {
        "id": "Va6_ry1V3Jf_",
        "colab_type": "code",
        "colab": {}
      },
      "source": [
        "groups_test = pd.read_csv(\n",
        "    \"/content/drive/My Drive/Colab Notebooks/test_groups.csv\",\n",
        "     sep=\",\"\n",
        "     )\n",
        "titles = pd.read_csv(\n",
        "    \"/content/drive/My Drive/Colab Notebooks/docs_titles.tsv\",\n",
        "     sep=\"\\t\"\n",
        "     )"
      ],
      "execution_count": 0,
      "outputs": []
    },
    {
      "cell_type": "code",
      "metadata": {
        "id": "ZiERN1mv3U_q",
        "colab_type": "code",
        "outputId": "04cda12d-0f3e-4d38-e8f0-a9ff5fa2e595",
        "colab": {
          "base_uri": "https://localhost:8080/",
          "height": 424
        }
      },
      "source": [
        "dct = {}\n",
        "# pattern = re.compile(r'[а-я]+\\-?[а-я]*|[a-z]+\\-?[a-z]*|[0-9]+')\n",
        "count = 0\n",
        "for (doc_id, title) in zip(titles.doc_id, titles.title):\n",
        "  dct[doc_id] = title\n",
        "titles_to_merge = []\n",
        "for doc_id in groups_test.doc_id:\n",
        "  if doc_id in dct:\n",
        "    titles_to_merge.append(dct[doc_id])\n",
        "  else:\n",
        "    titles_to_merge.append('')\n",
        "    count += 1\n",
        "docs_merged = groups_test.copy()\n",
        "docs_merged[\"title\"] = pd.Series(titles_to_merge)\n",
        "docs_merged"
      ],
      "execution_count": 0,
      "outputs": [
        {
          "output_type": "execute_result",
          "data": {
            "text/html": [
              "<div>\n",
              "<style scoped>\n",
              "    .dataframe tbody tr th:only-of-type {\n",
              "        vertical-align: middle;\n",
              "    }\n",
              "\n",
              "    .dataframe tbody tr th {\n",
              "        vertical-align: top;\n",
              "    }\n",
              "\n",
              "    .dataframe thead th {\n",
              "        text-align: right;\n",
              "    }\n",
              "</style>\n",
              "<table border=\"1\" class=\"dataframe\">\n",
              "  <thead>\n",
              "    <tr style=\"text-align: right;\">\n",
              "      <th></th>\n",
              "      <th>pair_id</th>\n",
              "      <th>group_id</th>\n",
              "      <th>doc_id</th>\n",
              "      <th>title</th>\n",
              "    </tr>\n",
              "  </thead>\n",
              "  <tbody>\n",
              "    <tr>\n",
              "      <th>0</th>\n",
              "      <td>11691</td>\n",
              "      <td>130</td>\n",
              "      <td>6710</td>\n",
              "      <td>КАК ПРОПИСАТЬ АДМИНКУ В КС 1.6 СЕБЕ ИЛИ ДРУГУ ...</td>\n",
              "    </tr>\n",
              "    <tr>\n",
              "      <th>1</th>\n",
              "      <td>11692</td>\n",
              "      <td>130</td>\n",
              "      <td>4030</td>\n",
              "      <td>Скачать: SGL-RP доработка | Слив мода [MySQL] ...</td>\n",
              "    </tr>\n",
              "    <tr>\n",
              "      <th>2</th>\n",
              "      <td>11693</td>\n",
              "      <td>130</td>\n",
              "      <td>5561</td>\n",
              "      <td>Как прописать админку в кс 1.6 - Counter-Strik...</td>\n",
              "    </tr>\n",
              "    <tr>\n",
              "      <th>3</th>\n",
              "      <td>11694</td>\n",
              "      <td>130</td>\n",
              "      <td>4055</td>\n",
              "      <td>Как прописать простую админку в кс 1 6</td>\n",
              "    </tr>\n",
              "    <tr>\n",
              "      <th>4</th>\n",
              "      <td>11695</td>\n",
              "      <td>130</td>\n",
              "      <td>4247</td>\n",
              "      <td>Подбор админов для сервера по КОД_4 [Архив]  -...</td>\n",
              "    </tr>\n",
              "    <tr>\n",
              "      <th>...</th>\n",
              "      <td>...</td>\n",
              "      <td>...</td>\n",
              "      <td>...</td>\n",
              "      <td>...</td>\n",
              "    </tr>\n",
              "    <tr>\n",
              "      <th>16622</th>\n",
              "      <td>28313</td>\n",
              "      <td>309</td>\n",
              "      <td>16637</td>\n",
              "      <td>Ответы@Mail.Ru: полезно ли кушать творог по ут...</td>\n",
              "    </tr>\n",
              "    <tr>\n",
              "      <th>16623</th>\n",
              "      <td>28314</td>\n",
              "      <td>309</td>\n",
              "      <td>16759</td>\n",
              "      <td>Творог. Полезные свойства и лечение творогом. ...</td>\n",
              "    </tr>\n",
              "    <tr>\n",
              "      <th>16624</th>\n",
              "      <td>28315</td>\n",
              "      <td>309</td>\n",
              "      <td>15358</td>\n",
              "      <td>Творог - Полезные и опасные свойства творога</td>\n",
              "    </tr>\n",
              "    <tr>\n",
              "      <th>16625</th>\n",
              "      <td>28316</td>\n",
              "      <td>309</td>\n",
              "      <td>17287</td>\n",
              "      <td>Ответы@Mail.Ru: Чем полезен творог?</td>\n",
              "    </tr>\n",
              "    <tr>\n",
              "      <th>16626</th>\n",
              "      <td>28317</td>\n",
              "      <td>309</td>\n",
              "      <td>16026</td>\n",
              "      <td>Творог: польза и вред :: Как выбирать продукты...</td>\n",
              "    </tr>\n",
              "  </tbody>\n",
              "</table>\n",
              "<p>16627 rows × 4 columns</p>\n",
              "</div>"
            ],
            "text/plain": [
              "       pair_id  ...                                              title\n",
              "0        11691  ...  КАК ПРОПИСАТЬ АДМИНКУ В КС 1.6 СЕБЕ ИЛИ ДРУГУ ...\n",
              "1        11692  ...  Скачать: SGL-RP доработка | Слив мода [MySQL] ...\n",
              "2        11693  ...  Как прописать админку в кс 1.6 - Counter-Strik...\n",
              "3        11694  ...             Как прописать простую админку в кс 1 6\n",
              "4        11695  ...  Подбор админов для сервера по КОД_4 [Архив]  -...\n",
              "...        ...  ...                                                ...\n",
              "16622    28313  ...  Ответы@Mail.Ru: полезно ли кушать творог по ут...\n",
              "16623    28314  ...  Творог. Полезные свойства и лечение творогом. ...\n",
              "16624    28315  ...       Творог - Полезные и опасные свойства творога\n",
              "16625    28316  ...                Ответы@Mail.Ru: Чем полезен творог?\n",
              "16626    28317  ...  Творог: польза и вред :: Как выбирать продукты...\n",
              "\n",
              "[16627 rows x 4 columns]"
            ]
          },
          "metadata": {
            "tags": []
          },
          "execution_count": 122
        }
      ]
    },
    {
      "cell_type": "code",
      "metadata": {
        "id": "khSTVYV74m-x",
        "colab_type": "code",
        "colab": {}
      },
      "source": [
        "docs_merged.title = docs_merged.title.fillna(\"\")\n",
        "titles = list(map(\n",
        "    lambda title: re.findall(pattern, title.lower()),\n",
        "    docs_merged.title)\n",
        ")\n",
        "lemmed_titles = []\n",
        "for title in titles:\n",
        "  lemmed_title = []\n",
        "  for word in title:\n",
        "    lemmed_title.append(morph.parse(word)[0].normal_form)\n",
        "  lemmed_titles.append(lemmed_title)\n",
        "titles = np.asarray(list(map(\" \".join, lemmed_titles)))"
      ],
      "execution_count": 0,
      "outputs": []
    },
    {
      "cell_type": "code",
      "metadata": {
        "id": "qOI95ES73cLC",
        "colab_type": "code",
        "outputId": "fa498e41-48b4-4c93-c22e-7c4cb4a231b2",
        "colab": {
          "base_uri": "https://localhost:8080/",
          "height": 156
        }
      },
      "source": [
        "vectorizer = TfidfVectorizer(ngram_range=(1, 3), token_pattern=pattern)\n",
        "vectorizer.fit(titles)"
      ],
      "execution_count": 0,
      "outputs": [
        {
          "output_type": "execute_result",
          "data": {
            "text/plain": [
              "TfidfVectorizer(analyzer='word', binary=False, decode_error='strict',\n",
              "                dtype=<class 'numpy.float64'>, encoding='utf-8',\n",
              "                input='content', lowercase=True, max_df=1.0, max_features=None,\n",
              "                min_df=1, ngram_range=(1, 3), norm='l2', preprocessor=None,\n",
              "                smooth_idf=True, stop_words=None, strip_accents=None,\n",
              "                sublinear_tf=False,\n",
              "                token_pattern=re.compile('[a-z]+\\\\-?[a-z]*\\\\.[a-z]{2}|[а-я]+\\\\-?[а-я]*\\\\.[а-я]{2}|[а-я]+\\\\-?[а-я]*|[a-z]+\\\\-?[a-z]*|[0-9]+'),\n",
              "                tokenizer=None, use_idf=True, vocabulary=None)"
            ]
          },
          "metadata": {
            "tags": []
          },
          "execution_count": 124
        }
      ]
    },
    {
      "cell_type": "code",
      "metadata": {
        "id": "GWRMLz7W3cQ2",
        "colab_type": "code",
        "colab": {}
      },
      "source": [
        "groups_indixes = groups_test.group_id.unique()\n",
        "X_test = []\n",
        "\n",
        "for group_id in groups_indixes:\n",
        "  group_x = vectorizer.transform(\n",
        "      titles[docs_merged.group_id == group_id]\n",
        "  )\n",
        "  features = np.sort(np.asarray(\n",
        "      pairwise_distances(group_x, metric='cosine')\n",
        "      ))[::,1:11:]\n",
        "  features2 = np.sort(\n",
        "      KMeans(n_clusters=8, random_state=0).fit_transform(features)\n",
        "      )\n",
        "  clusters = AgglomerativeClustering().fit_predict(features)\n",
        "  \n",
        "  values, counts = np.unique(clusters, return_counts=True)\n",
        "  features3 = clusters == values[np.argmax(counts)]\n",
        "  X_test.append(np.hstack((features, features2))) #, features3[::, np.newaxis])))\n",
        "X_test = np.vstack(X_test)\n",
        "X_test = StandardScaler().fit_transform(X_test)"
      ],
      "execution_count": 0,
      "outputs": []
    },
    {
      "cell_type": "code",
      "metadata": {
        "id": "FHZkn0Z9-Rwu",
        "colab_type": "code",
        "colab": {}
      },
      "source": [
        "X_test = X_test * importances"
      ],
      "execution_count": 0,
      "outputs": []
    },
    {
      "cell_type": "code",
      "metadata": {
        "id": "5qIDyHB03cV0",
        "colab_type": "code",
        "colab": {}
      },
      "source": [
        "pred = np.asarray(clf_ridge.predict(X_test) > trs[np.argmax(scores)], dtype=int)"
      ],
      "execution_count": 0,
      "outputs": []
    },
    {
      "cell_type": "code",
      "metadata": {
        "id": "GCENu01E3cO3",
        "colab_type": "code",
        "colab": {}
      },
      "source": [
        "groups_test[\"target\"] = pd.Series(pred)\n",
        "with open(\"predict.csv\", \"w\") as f:\n",
        "  f.write(groups_test.to_csv(columns=(\"pair_id\", \"target\"), index=False))"
      ],
      "execution_count": 0,
      "outputs": []
    },
    {
      "cell_type": "markdown",
      "metadata": {
        "id": "aiS-s4cK7gQs",
        "colab_type": "text"
      },
      "source": [
        "## Clustering + Bootstraping"
      ]
    },
    {
      "cell_type": "markdown",
      "metadata": {
        "id": "hpEmRwQG7vep",
        "colab_type": "text"
      },
      "source": [
        "черт его знает, что из этого выйдет, но интересно же"
      ]
    },
    {
      "cell_type": "code",
      "metadata": {
        "id": "Rsg_DZI076PR",
        "colab_type": "code",
        "outputId": "efb2263b-0a11-4710-f6bf-bb695f1488d2",
        "colab": {
          "base_uri": "https://localhost:8080/",
          "height": 609
        }
      },
      "source": [
        "scores = []\n",
        "divs = []\n",
        "for n_divisions in tqdm(np.logspace(0.4, 2, 50)):\n",
        "  scores.append(cross_validation(\n",
        "    BootstrapClassifier(ClassifierFromReg(clf_ridge, max_trs),\n",
        "                        n_divisions=n_divisions),\n",
        "    X_train, y, docs_merged.group_id,\n",
        "    cv, f1_score, treshold=0.5, use_tqdm=False\n",
        "    ))\n",
        "  divs.append(n_divisions)\n",
        "plt.plot(divs, scores)\n",
        "plt.show()"
      ],
      "execution_count": 0,
      "outputs": [
        {
          "output_type": "stream",
          "text": [
            "100%|██████████| 50/50 [01:36<00:00,  1.45s/it]\n"
          ],
          "name": "stderr"
        },
        {
          "output_type": "display_data",
          "data": {
            "image/png": "[encoded data removed]",
            "text/plain": [
              "<Figure size 1440x720 with 1 Axes>"
            ]
          },
          "metadata": {
            "tags": []
          }
        }
      ]
    },
    {
      "cell_type": "code",
      "metadata": {
        "id": "kp_-ogxZ8Chr",
        "colab_type": "code",
        "outputId": "d21438bc-403d-4649-c399-c47455570617",
        "colab": {
          "base_uri": "https://localhost:8080/",
          "height": 34
        }
      },
      "source": [
        "np.max(scores), divs[np.argmax(scores)]"
      ],
      "execution_count": 0,
      "outputs": [
        {
          "output_type": "execute_result",
          "data": {
            "text/plain": [
              "(0.708633327900446, 2.51188643150958)"
            ]
          },
          "metadata": {
            "tags": []
          },
          "execution_count": 57
        }
      ]
    },
    {
      "cell_type": "code",
      "metadata": {
        "id": "Jz6b0n_e8Cq1",
        "colab_type": "code",
        "colab": {}
      },
      "source": [
        "groups_test = pd.read_csv(\n",
        "    \"/content/drive/My Drive/Colab Notebooks/test_groups.csv\",\n",
        "     sep=\",\"\n",
        "     )\n",
        "titles = pd.read_csv(\n",
        "    \"/content/drive/My Drive/Colab Notebooks/docs_titles.tsv\",\n",
        "     sep=\"\\t\"\n",
        "     )"
      ],
      "execution_count": 0,
      "outputs": []
    },
    {
      "cell_type": "code",
      "metadata": {
        "id": "XgW5rQzJ8C7p",
        "colab_type": "code",
        "outputId": "81a8e968-4e05-4ca5-8734-cedb466441be",
        "colab": {
          "base_uri": "https://localhost:8080/",
          "height": 424
        }
      },
      "source": [
        "dct = {}\n",
        "# pattern = re.compile(r'[а-я]+\\-?[а-я]*|[a-z]+\\-?[a-z]*|[0-9]+')\n",
        "count = 0\n",
        "for (doc_id, title) in zip(titles.doc_id, titles.title):\n",
        "  dct[doc_id] = title\n",
        "titles_to_merge = []\n",
        "for doc_id in groups_test.doc_id:\n",
        "  if doc_id in dct:\n",
        "    titles_to_merge.append(dct[doc_id])\n",
        "  else:\n",
        "    titles_to_merge.append('')\n",
        "    count += 1\n",
        "docs_merged = groups_test.copy()\n",
        "docs_merged[\"title\"] = pd.Series(titles_to_merge)\n",
        "docs_merged"
      ],
      "execution_count": 0,
      "outputs": [
        {
          "output_type": "execute_result",
          "data": {
            "text/html": [
              "<div>\n",
              "<style scoped>\n",
              "    .dataframe tbody tr th:only-of-type {\n",
              "        vertical-align: middle;\n",
              "    }\n",
              "\n",
              "    .dataframe tbody tr th {\n",
              "        vertical-align: top;\n",
              "    }\n",
              "\n",
              "    .dataframe thead th {\n",
              "        text-align: right;\n",
              "    }\n",
              "</style>\n",
              "<table border=\"1\" class=\"dataframe\">\n",
              "  <thead>\n",
              "    <tr style=\"text-align: right;\">\n",
              "      <th></th>\n",
              "      <th>pair_id</th>\n",
              "      <th>group_id</th>\n",
              "      <th>doc_id</th>\n",
              "      <th>title</th>\n",
              "    </tr>\n",
              "  </thead>\n",
              "  <tbody>\n",
              "    <tr>\n",
              "      <th>0</th>\n",
              "      <td>11691</td>\n",
              "      <td>130</td>\n",
              "      <td>6710</td>\n",
              "      <td>КАК ПРОПИСАТЬ АДМИНКУ В КС 1.6 СЕБЕ ИЛИ ДРУГУ ...</td>\n",
              "    </tr>\n",
              "    <tr>\n",
              "      <th>1</th>\n",
              "      <td>11692</td>\n",
              "      <td>130</td>\n",
              "      <td>4030</td>\n",
              "      <td>Скачать: SGL-RP доработка | Слив мода [MySQL] ...</td>\n",
              "    </tr>\n",
              "    <tr>\n",
              "      <th>2</th>\n",
              "      <td>11693</td>\n",
              "      <td>130</td>\n",
              "      <td>5561</td>\n",
              "      <td>Как прописать админку в кс 1.6 - Counter-Strik...</td>\n",
              "    </tr>\n",
              "    <tr>\n",
              "      <th>3</th>\n",
              "      <td>11694</td>\n",
              "      <td>130</td>\n",
              "      <td>4055</td>\n",
              "      <td>Как прописать простую админку в кс 1 6</td>\n",
              "    </tr>\n",
              "    <tr>\n",
              "      <th>4</th>\n",
              "      <td>11695</td>\n",
              "      <td>130</td>\n",
              "      <td>4247</td>\n",
              "      <td>Подбор админов для сервера по КОД_4 [Архив]  -...</td>\n",
              "    </tr>\n",
              "    <tr>\n",
              "      <th>...</th>\n",
              "      <td>...</td>\n",
              "      <td>...</td>\n",
              "      <td>...</td>\n",
              "      <td>...</td>\n",
              "    </tr>\n",
              "    <tr>\n",
              "      <th>16622</th>\n",
              "      <td>28313</td>\n",
              "      <td>309</td>\n",
              "      <td>16637</td>\n",
              "      <td>Ответы@Mail.Ru: полезно ли кушать творог по ут...</td>\n",
              "    </tr>\n",
              "    <tr>\n",
              "      <th>16623</th>\n",
              "      <td>28314</td>\n",
              "      <td>309</td>\n",
              "      <td>16759</td>\n",
              "      <td>Творог. Полезные свойства и лечение творогом. ...</td>\n",
              "    </tr>\n",
              "    <tr>\n",
              "      <th>16624</th>\n",
              "      <td>28315</td>\n",
              "      <td>309</td>\n",
              "      <td>15358</td>\n",
              "      <td>Творог - Полезные и опасные свойства творога</td>\n",
              "    </tr>\n",
              "    <tr>\n",
              "      <th>16625</th>\n",
              "      <td>28316</td>\n",
              "      <td>309</td>\n",
              "      <td>17287</td>\n",
              "      <td>Ответы@Mail.Ru: Чем полезен творог?</td>\n",
              "    </tr>\n",
              "    <tr>\n",
              "      <th>16626</th>\n",
              "      <td>28317</td>\n",
              "      <td>309</td>\n",
              "      <td>16026</td>\n",
              "      <td>Творог: польза и вред :: Как выбирать продукты...</td>\n",
              "    </tr>\n",
              "  </tbody>\n",
              "</table>\n",
              "<p>16627 rows × 4 columns</p>\n",
              "</div>"
            ],
            "text/plain": [
              "       pair_id  ...                                              title\n",
              "0        11691  ...  КАК ПРОПИСАТЬ АДМИНКУ В КС 1.6 СЕБЕ ИЛИ ДРУГУ ...\n",
              "1        11692  ...  Скачать: SGL-RP доработка | Слив мода [MySQL] ...\n",
              "2        11693  ...  Как прописать админку в кс 1.6 - Counter-Strik...\n",
              "3        11694  ...             Как прописать простую админку в кс 1 6\n",
              "4        11695  ...  Подбор админов для сервера по КОД_4 [Архив]  -...\n",
              "...        ...  ...                                                ...\n",
              "16622    28313  ...  Ответы@Mail.Ru: полезно ли кушать творог по ут...\n",
              "16623    28314  ...  Творог. Полезные свойства и лечение творогом. ...\n",
              "16624    28315  ...       Творог - Полезные и опасные свойства творога\n",
              "16625    28316  ...                Ответы@Mail.Ru: Чем полезен творог?\n",
              "16626    28317  ...  Творог: польза и вред :: Как выбирать продукты...\n",
              "\n",
              "[16627 rows x 4 columns]"
            ]
          },
          "metadata": {
            "tags": []
          },
          "execution_count": 59
        }
      ]
    },
    {
      "cell_type": "code",
      "metadata": {
        "id": "uGI98sXv8DK1",
        "colab_type": "code",
        "colab": {}
      },
      "source": [
        "docs_merged.title = docs_merged.title.fillna(\"\")\n",
        "titles = list(map(\n",
        "    lambda title: re.findall(pattern, title.lower()),\n",
        "    docs_merged.title)\n",
        ")\n",
        "lemmed_titles = []\n",
        "for title in titles:\n",
        "  lemmed_title = []\n",
        "  for word in title:\n",
        "    lemmed_title.append(morph.parse(word)[0].normal_form)\n",
        "  lemmed_titles.append(lemmed_title)\n",
        "titles = np.asarray(list(map(\" \".join, lemmed_titles)))"
      ],
      "execution_count": 0,
      "outputs": []
    },
    {
      "cell_type": "code",
      "metadata": {
        "id": "wsqCkRJY8DW2",
        "colab_type": "code",
        "outputId": "9600fd14-9164-4951-d623-b3a94c8745ee",
        "colab": {
          "base_uri": "https://localhost:8080/",
          "height": 156
        }
      },
      "source": [
        "vectorizer = TfidfVectorizer(ngram_range=(1, 3), token_pattern=pattern)\n",
        "vectorizer.fit(titles)"
      ],
      "execution_count": 0,
      "outputs": [
        {
          "output_type": "execute_result",
          "data": {
            "text/plain": [
              "TfidfVectorizer(analyzer='word', binary=False, decode_error='strict',\n",
              "                dtype=<class 'numpy.float64'>, encoding='utf-8',\n",
              "                input='content', lowercase=True, max_df=1.0, max_features=None,\n",
              "                min_df=1, ngram_range=(1, 3), norm='l2', preprocessor=None,\n",
              "                smooth_idf=True, stop_words=None, strip_accents=None,\n",
              "                sublinear_tf=False,\n",
              "                token_pattern=re.compile('[а-я]+\\\\-?[а-я]*|[a-z]+\\\\-?[a-z]*|[0-9]+'),\n",
              "                tokenizer=None, use_idf=True, vocabulary=None)"
            ]
          },
          "metadata": {
            "tags": []
          },
          "execution_count": 62
        }
      ]
    },
    {
      "cell_type": "code",
      "metadata": {
        "id": "A6XNtwxu8DoP",
        "colab_type": "code",
        "colab": {}
      },
      "source": [
        "groups_indixes = groups_test.group_id.unique()\n",
        "X_test = []\n",
        "\n",
        "for group_id in groups_indixes:\n",
        "  group_x = vectorizer.transform(\n",
        "      titles[docs_merged.group_id == group_id]\n",
        "  )\n",
        "  features = np.sort(np.asarray(\n",
        "      pairwise_distances(group_x, metric='cosine')\n",
        "      ))[::,1:11:]\n",
        "  features2 = np.sort(\n",
        "      KMeans(n_clusters=8, random_state=0).fit_transform(features)\n",
        "      )\n",
        "  clusters = AgglomerativeClustering().fit_predict(features)\n",
        "  \n",
        "  values, counts = np.unique(clusters, return_counts=True)\n",
        "  features3 = clusters == values[np.argmax(counts)]\n",
        "  X_test.append(np.hstack((features, features2))) #, features3[::, np.newaxis])))\n",
        "X_test = np.vstack(X_test)\n",
        "X_test = StandardScaler().fit_transform(X_test)"
      ],
      "execution_count": 0,
      "outputs": []
    },
    {
      "cell_type": "code",
      "metadata": {
        "id": "47fCXm1vKtl6",
        "colab_type": "code",
        "colab": {}
      },
      "source": [
        "X_test = X_test * importances"
      ],
      "execution_count": 0,
      "outputs": []
    },
    {
      "cell_type": "code",
      "metadata": {
        "id": "J3dRQ-Xz9gUQ",
        "colab_type": "code",
        "colab": {}
      },
      "source": [
        "model = BootstrapClassifier(\n",
        "    ClassifierFromReg(clf_ridge, max_trs),\n",
        "    n_divisions=divs[np.argmax(scores)]\n",
        "    )\n",
        "model.fit(X_train, y)\n",
        "pred = np.asarray(model.predict(X_test), dtype=int)"
      ],
      "execution_count": 0,
      "outputs": []
    },
    {
      "cell_type": "code",
      "metadata": {
        "id": "NLYhGOt89gXT",
        "colab_type": "code",
        "colab": {}
      },
      "source": [
        "groups_test[\"target\"] = pd.Series(pred)\n",
        "with open(\"predict.csv\", \"w\") as f:\n",
        "  f.write(groups_test.to_csv(columns=(\"pair_id\", \"target\"), index=False))"
      ],
      "execution_count": 0,
      "outputs": []
    },
    {
      "cell_type": "code",
      "metadata": {
        "id": "vE5H1bdP9gRZ",
        "colab_type": "code",
        "colab": {}
      },
      "source": [
        ""
      ],
      "execution_count": 0,
      "outputs": []
    },
    {
      "cell_type": "markdown",
      "metadata": {
        "id": "ZsO529V6vOZb",
        "colab_type": "text"
      },
      "source": [
        "## Stacking (first and overfitted)"
      ]
    },
    {
      "cell_type": "markdown",
      "metadata": {
        "id": "MoumprVACsrQ",
        "colab_type": "text"
      },
      "source": [
        "Обучим RandomForestClassifier"
      ]
    },
    {
      "cell_type": "code",
      "metadata": {
        "id": "HKSC7go5DhXc",
        "colab_type": "code",
        "colab": {}
      },
      "source": [
        "from sklearn.ensemble import RandomForestClassifier"
      ],
      "execution_count": 0,
      "outputs": []
    },
    {
      "cell_type": "code",
      "metadata": {
        "id": "iCQaMkOpEBra",
        "colab_type": "code",
        "colab": {}
      },
      "source": [
        "depths = range(1, 10)"
      ],
      "execution_count": 0,
      "outputs": []
    },
    {
      "cell_type": "code",
      "metadata": {
        "id": "8kGN5ZajEKka",
        "colab_type": "code",
        "outputId": "3bd942a8-a502-467e-abdd-0f9f91bf6e4e",
        "colab": {
          "base_uri": "https://localhost:8080/",
          "height": 609
        }
      },
      "source": [
        "x = []\n",
        "f1 = []\n",
        "for depth in depths:\n",
        "  clf_forest = RandomForestClassifier(\n",
        "      random_state=123, n_estimators=50, n_jobs=-1, max_depth=depth\n",
        "      )\n",
        "  x.append(depth)\n",
        "  f1.append(cross_validation(\n",
        "      clf_forest, X_train[::, ::], y, docs_merged.group_id,\n",
        "      cv, f1_score, treshold=0.5, use_tqdm=False\n",
        "      ))\n",
        "plt.plot(x, f1)\n",
        "plt.xlabel(\"depth\")\n",
        "plt.ylabel(\"f1_score\")\n",
        "plt.show()"
      ],
      "execution_count": 0,
      "outputs": [
        {
          "output_type": "display_data",
          "data": {
            "image/png": "[encoded data removed]",
            "text/plain": [
              "<Figure size 1440x720 with 1 Axes>"
            ]
          },
          "metadata": {
            "tags": []
          }
        }
      ]
    },
    {
      "cell_type": "code",
      "metadata": {
        "id": "dYI1IZwvIJzs",
        "colab_type": "code",
        "colab": {}
      },
      "source": [
        "clf_forest = RandomForestClassifier(\n",
        "    random_state=123, n_estimators=50, n_jobs=-1, max_depth=1\n",
        "    )"
      ],
      "execution_count": 0,
      "outputs": []
    },
    {
      "cell_type": "markdown",
      "metadata": {
        "id": "feFXB0RSJdMw",
        "colab_type": "text"
      },
      "source": [
        "AdaBoostClassifier"
      ]
    },
    {
      "cell_type": "code",
      "metadata": {
        "id": "JqrTDelFSiVV",
        "colab_type": "code",
        "colab": {}
      },
      "source": [
        "from sklearn.ensemble import AdaBoostClassifier"
      ],
      "execution_count": 0,
      "outputs": []
    },
    {
      "cell_type": "code",
      "metadata": {
        "id": "7lK_PXrxSptW",
        "colab_type": "code",
        "colab": {}
      },
      "source": [
        "clf_adaboost = AdaBoostClassifier(random_state=123)"
      ],
      "execution_count": 0,
      "outputs": []
    },
    {
      "cell_type": "code",
      "metadata": {
        "id": "n1P4DCPjS3pP",
        "colab_type": "code",
        "outputId": "ad883927-9df8-41a2-d553-a28b4deaed71",
        "colab": {
          "base_uri": "https://localhost:8080/",
          "height": 34
        }
      },
      "source": [
        "cross_validation(\n",
        "    clf_adaboost, X_train[::, ::], y, docs_merged.group_id,\n",
        "    cv, f1_score, treshold=0.5, use_tqdm=False\n",
        "    )"
      ],
      "execution_count": 0,
      "outputs": [
        {
          "output_type": "execute_result",
          "data": {
            "text/plain": [
              "0.6675012949623799"
            ]
          },
          "metadata": {
            "tags": []
          },
          "execution_count": 43
        }
      ]
    },
    {
      "cell_type": "markdown",
      "metadata": {
        "id": "iW3GLMjBWe0n",
        "colab_type": "text"
      },
      "source": [
        "Попробуем теперь все это дело как-то стекать. Для этого будем использовать Voting Classifier с весами\n",
        "UPD Я сделал более упоротое что-то, построив трехмерные векторы матожиданий классов для классификаторов и значения регрессиии, чтобы на этом настраивать метаалгоритм\n",
        "Почему матожидание? Ну, у нас там деревья всякие, adaboost. Результаты голосования мне казались сами по себе достаточно интересными."
      ]
    },
    {
      "cell_type": "code",
      "metadata": {
        "id": "5bGWDwdImQng",
        "colab_type": "code",
        "colab": {}
      },
      "source": [
        "class RegressorFromClassifier:\n",
        "  def __init__(self, clf):\n",
        "    self.__clf = clf\n",
        "  def fit(self, X, y):\n",
        "    self.__clf.fit(X, y)\n",
        "  def predict(self, X):\n",
        "    pred = self.__clf.predict_proba(X)\n",
        "    return self.__clf.classes_[0] * pred[::, 0] \\\n",
        "    + self.__clf.classes_[1] * pred[::, 1]"
      ],
      "execution_count": 0,
      "outputs": []
    },
    {
      "cell_type": "code",
      "metadata": {
        "id": "pcEk9KRKMEDL",
        "colab_type": "code",
        "colab": {}
      },
      "source": [
        "from sklearn.model_selection import KFold"
      ],
      "execution_count": 0,
      "outputs": []
    },
    {
      "cell_type": "code",
      "metadata": {
        "id": "kaJ_wbuGmqjA",
        "colab_type": "code",
        "colab": {}
      },
      "source": [
        "def get_x_for_stacking(X, y, cv, estimators):\n",
        "  X_res = np.zeros((X.shape[0], 3))\n",
        "  for train, meta in cv.split(X_train, y):\n",
        "    pred = []\n",
        "    for estimator in estimators:\n",
        "      estimator.fit(X[train], y[train])\n",
        "      pred.append(estimator.predict(X[meta]))\n",
        "    X_res[meta] = np.array(pred).T\n",
        "  return X_res"
      ],
      "execution_count": 0,
      "outputs": []
    },
    {
      "cell_type": "code",
      "metadata": {
        "id": "--qfCNORW3vc",
        "colab_type": "code",
        "colab": {}
      },
      "source": [
        "estimators = [\n",
        "              clf_ridge,\n",
        "              RegressorFromClassifier(clf_forest),\n",
        "              RegressorFromClassifier(clf_adaboost)\n",
        "]"
      ],
      "execution_count": 0,
      "outputs": []
    },
    {
      "cell_type": "code",
      "metadata": {
        "id": "DwSqszzzbH-Z",
        "colab_type": "code",
        "colab": {}
      },
      "source": [
        "X_stacking = get_x_for_stacking(X_train, y, cv, estimators)\n",
        "X_stacking = StandardScaler().fit_transform(X_stacking)\n",
        "#X_embedded = TSNE().fit_transform(X_stacking[::])\n",
        "#plt.scatter(X_embedded[::, 0], X_embedded[::, 1], c=y[::])\n",
        "#plt.show()"
      ],
      "execution_count": 0,
      "outputs": []
    },
    {
      "cell_type": "code",
      "metadata": {
        "id": "WcC5HAP8s5UO",
        "colab_type": "code",
        "outputId": "34c17e15-9d86-4207-96ce-d688ba869c71",
        "colab": {
          "base_uri": "https://localhost:8080/",
          "height": 575
        }
      },
      "source": [
        "from mpl_toolkits.mplot3d import Axes3D\n",
        "fig = plt.figure()\n",
        "ax = fig.add_subplot(111, projection='3d')\n",
        "ax.scatter(X_stacking[::,0], X_stacking[::,1], X_stacking[::,2], c=y)\n",
        "#ax.set_xlim(-1.0, 1.0)\n",
        "#ax.set_ylim(-1.0, 1.0)\n",
        "#ax.set_zlim(-1.0, 1.0)\n",
        "ax.set_xlabel(\"ridge\")\n",
        "ax.set_ylabel(\"forest\")\n",
        "ax.set_zlabel(\"adaboost\")\n",
        "plt.show()"
      ],
      "execution_count": 0,
      "outputs": [
        {
          "output_type": "display_data",
          "data": {
            "image/png": "[encoded data removed]",
            "text/plain": [
              "<Figure size 1440x720 with 1 Axes>"
            ]
          },
          "metadata": {
            "tags": []
          }
        }
      ]
    },
    {
      "cell_type": "code",
      "metadata": {
        "id": "kwaqapInwFJV",
        "colab_type": "code",
        "outputId": "c5ae7689-eaf5-475f-e61c-dfe78da5715e",
        "colab": {
          "base_uri": "https://localhost:8080/",
          "height": 34
        }
      },
      "source": [
        "meta_clf = RidgeCV(\n",
        "    cv=cv, scoring='roc_auc', alphas=np.logspace(1.0, 3, 100)\n",
        "    ).fit(X_stacking, y)\n",
        "meta_clf.alpha_"
      ],
      "execution_count": 0,
      "outputs": [
        {
          "output_type": "execute_result",
          "data": {
            "text/plain": [
              "1000.0"
            ]
          },
          "metadata": {
            "tags": []
          },
          "execution_count": 50
        }
      ]
    },
    {
      "cell_type": "code",
      "metadata": {
        "id": "LUplb7qtwZHX",
        "colab_type": "code",
        "outputId": "1aa0e384-32a0-451e-99a8-0fd5e1b50b46",
        "colab": {
          "base_uri": "https://localhost:8080/",
          "height": 34
        }
      },
      "source": [
        "meta_clf2 = Ridge(alpha=meta_clf.alpha_)\n",
        "cross_validation(\n",
        "    meta_clf2, X_stacking[::, ::], y, docs_merged.group_id,\n",
        "    cv, roc_auc_score, use_tqdm=False\n",
        "    )"
      ],
      "execution_count": 0,
      "outputs": [
        {
          "output_type": "execute_result",
          "data": {
            "text/plain": [
              "0.889306063059174"
            ]
          },
          "metadata": {
            "tags": []
          },
          "execution_count": 53
        }
      ]
    },
    {
      "cell_type": "code",
      "metadata": {
        "id": "NqJRFR_bJYjk",
        "colab_type": "code",
        "outputId": "f9d19d25-d75f-4e77-98da-7fba9c2af5d6",
        "colab": {
          "base_uri": "https://localhost:8080/",
          "height": 609
        }
      },
      "source": [
        "trs, scores = [], []\n",
        "for treshold in tqdm(np.linspace(0, 0.5, 50)):\n",
        "  scores.append(cross_validation(\n",
        "    meta_clf2, X_stacking[::, ::], y, docs_merged.group_id,\n",
        "    cv, f1_score, treshold=treshold, use_tqdm=False\n",
        "    ))\n",
        "  trs.append(treshold)\n",
        "plt.plot(trs, scores)\n",
        "plt.show()"
      ],
      "execution_count": 0,
      "outputs": [
        {
          "output_type": "stream",
          "text": [
            "100%|██████████| 50/50 [00:04<00:00, 10.89it/s]\n"
          ],
          "name": "stderr"
        },
        {
          "output_type": "display_data",
          "data": {
            "image/png": "[encoded data removed]",
            "text/plain": [
              "<Figure size 1440x720 with 1 Axes>"
            ]
          },
          "metadata": {
            "tags": []
          }
        }
      ]
    },
    {
      "cell_type": "code",
      "metadata": {
        "id": "Sl1leFNxUBmg",
        "colab_type": "code",
        "outputId": "5abfe1c2-c22a-49b8-8d02-0d4668685a0e",
        "colab": {
          "base_uri": "https://localhost:8080/",
          "height": 416
        }
      },
      "source": [
        "meta_clf3 = LogisticRegressionCV(cv=cv, scoring='f1')\n",
        "meta_clf3.fit(X_stacking, y)\n",
        "meta_clf4 = LogisticRegression(C=meta_clf3.C_[0])\n",
        "cross_validation(\n",
        "    meta_clf4, X_stacking[::, ::], y, docs_merged.group_id,\n",
        "    cv, f1_score, treshold=0.5, use_tqdm=False\n",
        "    )\n"
      ],
      "execution_count": 0,
      "outputs": [
        {
          "output_type": "stream",
          "text": [
            "/usr/local/lib/python3.6/dist-packages/sklearn/metrics/classification.py:1437: UndefinedMetricWarning: F-score is ill-defined and being set to 0.0 due to no predicted samples.\n",
            "  'precision', 'predicted', average, warn_for)\n",
            "/usr/local/lib/python3.6/dist-packages/sklearn/linear_model/logistic.py:432: FutureWarning: Default solver will be changed to 'lbfgs' in 0.22. Specify a solver to silence this warning.\n",
            "  FutureWarning)\n",
            "/usr/local/lib/python3.6/dist-packages/sklearn/linear_model/logistic.py:432: FutureWarning: Default solver will be changed to 'lbfgs' in 0.22. Specify a solver to silence this warning.\n",
            "  FutureWarning)\n",
            "/usr/local/lib/python3.6/dist-packages/sklearn/linear_model/logistic.py:432: FutureWarning: Default solver will be changed to 'lbfgs' in 0.22. Specify a solver to silence this warning.\n",
            "  FutureWarning)\n",
            "/usr/local/lib/python3.6/dist-packages/sklearn/linear_model/logistic.py:432: FutureWarning: Default solver will be changed to 'lbfgs' in 0.22. Specify a solver to silence this warning.\n",
            "  FutureWarning)\n",
            "/usr/local/lib/python3.6/dist-packages/sklearn/linear_model/logistic.py:432: FutureWarning: Default solver will be changed to 'lbfgs' in 0.22. Specify a solver to silence this warning.\n",
            "  FutureWarning)\n",
            "/usr/local/lib/python3.6/dist-packages/sklearn/linear_model/logistic.py:432: FutureWarning: Default solver will be changed to 'lbfgs' in 0.22. Specify a solver to silence this warning.\n",
            "  FutureWarning)\n",
            "/usr/local/lib/python3.6/dist-packages/sklearn/linear_model/logistic.py:432: FutureWarning: Default solver will be changed to 'lbfgs' in 0.22. Specify a solver to silence this warning.\n",
            "  FutureWarning)\n",
            "/usr/local/lib/python3.6/dist-packages/sklearn/linear_model/logistic.py:432: FutureWarning: Default solver will be changed to 'lbfgs' in 0.22. Specify a solver to silence this warning.\n",
            "  FutureWarning)\n",
            "/usr/local/lib/python3.6/dist-packages/sklearn/linear_model/logistic.py:432: FutureWarning: Default solver will be changed to 'lbfgs' in 0.22. Specify a solver to silence this warning.\n",
            "  FutureWarning)\n",
            "/usr/local/lib/python3.6/dist-packages/sklearn/linear_model/logistic.py:432: FutureWarning: Default solver will be changed to 'lbfgs' in 0.22. Specify a solver to silence this warning.\n",
            "  FutureWarning)\n"
          ],
          "name": "stderr"
        },
        {
          "output_type": "execute_result",
          "data": {
            "text/plain": [
              "0.6658209218669465"
            ]
          },
          "metadata": {
            "tags": []
          },
          "execution_count": 70
        }
      ]
    },
    {
      "cell_type": "code",
      "metadata": {
        "id": "9YT3kQQFPv1t",
        "colab_type": "code",
        "outputId": "78dcf7ee-6658-461f-bbc5-cc40c09344ef",
        "colab": {
          "base_uri": "https://localhost:8080/",
          "height": 34
        }
      },
      "source": [
        "scores[31]"
      ],
      "execution_count": 0,
      "outputs": [
        {
          "output_type": "execute_result",
          "data": {
            "text/plain": [
              "0.7040863251886478"
            ]
          },
          "metadata": {
            "tags": []
          },
          "execution_count": 71
        }
      ]
    },
    {
      "cell_type": "code",
      "metadata": {
        "id": "hKeeHJWbP8g3",
        "colab_type": "code",
        "colab": {}
      },
      "source": [
        "for estimator in estimators:\n",
        "  estimator.fit(X_train, y)"
      ],
      "execution_count": 0,
      "outputs": []
    },
    {
      "cell_type": "markdown",
      "metadata": {
        "id": "bLBA3c3vDxYF",
        "colab_type": "text"
      },
      "source": [
        "Сделаем наши предсказания на тесте"
      ]
    },
    {
      "cell_type": "code",
      "metadata": {
        "id": "6jFYBocDxc4v",
        "colab_type": "code",
        "colab": {}
      },
      "source": [
        "groups_test = pd.read_csv(\n",
        "    \"/content/drive/My Drive/Colab Notebooks/test_groups.csv\",\n",
        "     sep=\",\"\n",
        "     )\n",
        "titles = pd.read_csv(\n",
        "    \"/content/drive/My Drive/Colab Notebooks/docs_titles.tsv\",\n",
        "     sep=\"\\t\"\n",
        "     )"
      ],
      "execution_count": 0,
      "outputs": []
    },
    {
      "cell_type": "code",
      "metadata": {
        "id": "ri9HZ9Xoxu-P",
        "colab_type": "code",
        "outputId": "c0189d39-aca5-4fc5-e84c-75d7e9b13792",
        "colab": {
          "base_uri": "https://localhost:8080/",
          "height": 424
        }
      },
      "source": [
        "dct = {}\n",
        "pattern = re.compile(r'[а-я]+\\-?[а-я]*|[a-z]+\\-?[a-z]*|[0-9]+')\n",
        "count = 0\n",
        "for (doc_id, title) in zip(titles.doc_id, titles.title):\n",
        "  dct[doc_id] = title\n",
        "titles_to_merge = []\n",
        "for doc_id in groups_test.doc_id:\n",
        "  if doc_id in dct:\n",
        "    titles_to_merge.append(dct[doc_id])\n",
        "  else:\n",
        "    titles_to_merge.append('')\n",
        "    count += 1\n",
        "docs_merged = groups_test.copy()\n",
        "docs_merged[\"title\"] = pd.Series(titles_to_merge)\n",
        "docs_merged"
      ],
      "execution_count": 0,
      "outputs": [
        {
          "output_type": "execute_result",
          "data": {
            "text/html": [
              "<div>\n",
              "<style scoped>\n",
              "    .dataframe tbody tr th:only-of-type {\n",
              "        vertical-align: middle;\n",
              "    }\n",
              "\n",
              "    .dataframe tbody tr th {\n",
              "        vertical-align: top;\n",
              "    }\n",
              "\n",
              "    .dataframe thead th {\n",
              "        text-align: right;\n",
              "    }\n",
              "</style>\n",
              "<table border=\"1\" class=\"dataframe\">\n",
              "  <thead>\n",
              "    <tr style=\"text-align: right;\">\n",
              "      <th></th>\n",
              "      <th>pair_id</th>\n",
              "      <th>group_id</th>\n",
              "      <th>doc_id</th>\n",
              "      <th>title</th>\n",
              "    </tr>\n",
              "  </thead>\n",
              "  <tbody>\n",
              "    <tr>\n",
              "      <th>0</th>\n",
              "      <td>11691</td>\n",
              "      <td>130</td>\n",
              "      <td>6710</td>\n",
              "      <td>КАК ПРОПИСАТЬ АДМИНКУ В КС 1.6 СЕБЕ ИЛИ ДРУГУ ...</td>\n",
              "    </tr>\n",
              "    <tr>\n",
              "      <th>1</th>\n",
              "      <td>11692</td>\n",
              "      <td>130</td>\n",
              "      <td>4030</td>\n",
              "      <td>Скачать: SGL-RP доработка | Слив мода [MySQL] ...</td>\n",
              "    </tr>\n",
              "    <tr>\n",
              "      <th>2</th>\n",
              "      <td>11693</td>\n",
              "      <td>130</td>\n",
              "      <td>5561</td>\n",
              "      <td>Как прописать админку в кс 1.6 - Counter-Strik...</td>\n",
              "    </tr>\n",
              "    <tr>\n",
              "      <th>3</th>\n",
              "      <td>11694</td>\n",
              "      <td>130</td>\n",
              "      <td>4055</td>\n",
              "      <td>Как прописать простую админку в кс 1 6</td>\n",
              "    </tr>\n",
              "    <tr>\n",
              "      <th>4</th>\n",
              "      <td>11695</td>\n",
              "      <td>130</td>\n",
              "      <td>4247</td>\n",
              "      <td>Подбор админов для сервера по КОД_4 [Архив]  -...</td>\n",
              "    </tr>\n",
              "    <tr>\n",
              "      <th>...</th>\n",
              "      <td>...</td>\n",
              "      <td>...</td>\n",
              "      <td>...</td>\n",
              "      <td>...</td>\n",
              "    </tr>\n",
              "    <tr>\n",
              "      <th>16622</th>\n",
              "      <td>28313</td>\n",
              "      <td>309</td>\n",
              "      <td>16637</td>\n",
              "      <td>Ответы@Mail.Ru: полезно ли кушать творог по ут...</td>\n",
              "    </tr>\n",
              "    <tr>\n",
              "      <th>16623</th>\n",
              "      <td>28314</td>\n",
              "      <td>309</td>\n",
              "      <td>16759</td>\n",
              "      <td>Творог. Полезные свойства и лечение творогом. ...</td>\n",
              "    </tr>\n",
              "    <tr>\n",
              "      <th>16624</th>\n",
              "      <td>28315</td>\n",
              "      <td>309</td>\n",
              "      <td>15358</td>\n",
              "      <td>Творог - Полезные и опасные свойства творога</td>\n",
              "    </tr>\n",
              "    <tr>\n",
              "      <th>16625</th>\n",
              "      <td>28316</td>\n",
              "      <td>309</td>\n",
              "      <td>17287</td>\n",
              "      <td>Ответы@Mail.Ru: Чем полезен творог?</td>\n",
              "    </tr>\n",
              "    <tr>\n",
              "      <th>16626</th>\n",
              "      <td>28317</td>\n",
              "      <td>309</td>\n",
              "      <td>16026</td>\n",
              "      <td>Творог: польза и вред :: Как выбирать продукты...</td>\n",
              "    </tr>\n",
              "  </tbody>\n",
              "</table>\n",
              "<p>16627 rows × 4 columns</p>\n",
              "</div>"
            ],
            "text/plain": [
              "       pair_id  ...                                              title\n",
              "0        11691  ...  КАК ПРОПИСАТЬ АДМИНКУ В КС 1.6 СЕБЕ ИЛИ ДРУГУ ...\n",
              "1        11692  ...  Скачать: SGL-RP доработка | Слив мода [MySQL] ...\n",
              "2        11693  ...  Как прописать админку в кс 1.6 - Counter-Strik...\n",
              "3        11694  ...             Как прописать простую админку в кс 1 6\n",
              "4        11695  ...  Подбор админов для сервера по КОД_4 [Архив]  -...\n",
              "...        ...  ...                                                ...\n",
              "16622    28313  ...  Ответы@Mail.Ru: полезно ли кушать творог по ут...\n",
              "16623    28314  ...  Творог. Полезные свойства и лечение творогом. ...\n",
              "16624    28315  ...       Творог - Полезные и опасные свойства творога\n",
              "16625    28316  ...                Ответы@Mail.Ru: Чем полезен творог?\n",
              "16626    28317  ...  Творог: польза и вред :: Как выбирать продукты...\n",
              "\n",
              "[16627 rows x 4 columns]"
            ]
          },
          "metadata": {
            "tags": []
          },
          "execution_count": 74
        }
      ]
    },
    {
      "cell_type": "code",
      "metadata": {
        "id": "nH_mUqd2yCVq",
        "colab_type": "code",
        "colab": {}
      },
      "source": [
        "docs_merged.title = docs_merged.title.fillna(\"\")\n",
        "titles = list(map(\n",
        "    lambda title: re.findall(pattern, title.lower()),\n",
        "    docs_merged.title)\n",
        ")\n",
        "lemmed_titles = []\n",
        "for title in titles:\n",
        "  lemmed_title = []\n",
        "  for word in title:\n",
        "    lemmed_title.append(morph.parse(word)[0].normal_form)\n",
        "  lemmed_titles.append(lemmed_title)\n",
        "titles = np.asarray(list(map(\" \".join, lemmed_titles)))"
      ],
      "execution_count": 0,
      "outputs": []
    },
    {
      "cell_type": "code",
      "metadata": {
        "id": "4VJH14fD7iq4",
        "colab_type": "code",
        "outputId": "61253e6f-c57c-4ffb-c592-9a7ec3a05d4e",
        "colab": {
          "base_uri": "https://localhost:8080/",
          "height": 139
        }
      },
      "source": [
        "vectorizer = TfidfVectorizer(ngram_range=(1, 3))\n",
        "vectorizer.fit(titles)\n"
      ],
      "execution_count": 0,
      "outputs": [
        {
          "output_type": "execute_result",
          "data": {
            "text/plain": [
              "TfidfVectorizer(analyzer='word', binary=False, decode_error='strict',\n",
              "                dtype=<class 'numpy.float64'>, encoding='utf-8',\n",
              "                input='content', lowercase=True, max_df=1.0, max_features=None,\n",
              "                min_df=1, ngram_range=(1, 3), norm='l2', preprocessor=None,\n",
              "                smooth_idf=True, stop_words=None, strip_accents=None,\n",
              "                sublinear_tf=False, token_pattern='(?u)\\\\b\\\\w\\\\w+\\\\b',\n",
              "                tokenizer=None, use_idf=True, vocabulary=None)"
            ]
          },
          "metadata": {
            "tags": []
          },
          "execution_count": 76
        }
      ]
    },
    {
      "cell_type": "code",
      "metadata": {
        "id": "WHLxvVr10qsb",
        "colab_type": "code",
        "colab": {}
      },
      "source": [
        "groups_indixes = groups_test.group_id.unique()\n",
        "X_test = []\n",
        "\n",
        "for group_id in groups_indixes:\n",
        "  group_x = vectorizer.transform(\n",
        "      titles[docs_merged.group_id == group_id]\n",
        "      )\n",
        "  features = np.sort(np.asarray(\n",
        "      pairwise_distances(group_x, metric='cosine')\n",
        "      ))[::,1:21:]\n",
        "  X_test.append(features)\n",
        "X_test = np.vstack(X_test)\n",
        "X_test = StandardScaler().fit_transform(X_test)"
      ],
      "execution_count": 0,
      "outputs": []
    },
    {
      "cell_type": "code",
      "metadata": {
        "id": "NlSYc1IdQvoN",
        "colab_type": "code",
        "colab": {}
      },
      "source": [
        "estimators_pred = []\n",
        "meta_clf2.fit(X_stacking, y)\n",
        "for estimator in estimators:\n",
        "  estimators_pred.append(estimator.predict(X_test))\n",
        "X_stacking_test = np.array(estimators_pred).T\n",
        "X_stacking_test = StandardScaler().fit_transform(X_stacking_test)"
      ],
      "execution_count": 0,
      "outputs": []
    },
    {
      "cell_type": "code",
      "metadata": {
        "id": "1NyDrVRQ080P",
        "colab_type": "code",
        "colab": {}
      },
      "source": [
        "pred = np.array(meta_clf2.predict(X_stacking_test) > 0.31, dtype=int)"
      ],
      "execution_count": 0,
      "outputs": []
    },
    {
      "cell_type": "code",
      "metadata": {
        "id": "c4HBA7si60MJ",
        "colab_type": "code",
        "colab": {}
      },
      "source": [
        "groups_test[\"target\"] = pd.Series(pred)\n",
        "with open(\"predict.csv\", \"w\") as f:\n",
        "    f.write(groups_test.to_csv(columns=(\"pair_id\", \"target\"), index=False))"
      ],
      "execution_count": 0,
      "outputs": []
    },
    {
      "cell_type": "code",
      "metadata": {
        "id": "-W009qMV9bw9",
        "colab_type": "code",
        "colab": {}
      },
      "source": [
        ""
      ],
      "execution_count": 0,
      "outputs": []
    },
    {
      "cell_type": "markdown",
      "metadata": {
        "id": "pLinyWp2ZbrB",
        "colab_type": "text"
      },
      "source": [
        "## Random forest classifier! Не зря я его обучил"
      ]
    },
    {
      "cell_type": "code",
      "metadata": {
        "id": "I5hllwRmZjs2",
        "colab_type": "code",
        "outputId": "5b194e86-6a3b-47c7-9b0d-edea10eb06e3",
        "colab": {
          "base_uri": "https://localhost:8080/",
          "height": 139
        }
      },
      "source": [
        "clf_forest"
      ],
      "execution_count": 0,
      "outputs": [
        {
          "output_type": "execute_result",
          "data": {
            "text/plain": [
              "RandomForestClassifier(bootstrap=True, class_weight=None, criterion='gini',\n",
              "                       max_depth=7, max_features='sqrt', max_leaf_nodes=None,\n",
              "                       min_impurity_decrease=0.0, min_impurity_split=None,\n",
              "                       min_samples_leaf=1, min_samples_split=2,\n",
              "                       min_weight_fraction_leaf=0.0, n_estimators=30,\n",
              "                       n_jobs=None, oob_score=False, random_state=None,\n",
              "                       verbose=0, warm_start=False)"
            ]
          },
          "metadata": {
            "tags": []
          },
          "execution_count": 64
        }
      ]
    },
    {
      "cell_type": "code",
      "metadata": {
        "id": "dTubTb9SeDjr",
        "colab_type": "code",
        "colab": {}
      },
      "source": [
        "groups_test = pd.read_csv(\n",
        "    \"/content/drive/My Drive/Colab Notebooks/test_groups.csv\",\n",
        "     sep=\",\"\n",
        "     )\n",
        "titles = pd.read_csv(\n",
        "    \"/content/drive/My Drive/Colab Notebooks/docs_titles.tsv\",\n",
        "     sep=\"\\t\"\n",
        "     )"
      ],
      "execution_count": 0,
      "outputs": []
    },
    {
      "cell_type": "code",
      "metadata": {
        "id": "WmUZdZFhZv65",
        "colab_type": "code",
        "colab": {}
      },
      "source": [
        ""
      ],
      "execution_count": 0,
      "outputs": []
    }
  ]
}